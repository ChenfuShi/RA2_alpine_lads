{
 "cells": [
  {
   "cell_type": "code",
   "execution_count": 1,
   "metadata": {},
   "outputs": [],
   "source": [
    "import os\n",
    "os.chdir('/mnt/jw01-aruk-home01/projects/ra_challenge/RA_challenge/RA2_alpine_lads/ra_joint_predictions')"
   ]
  },
  {
   "cell_type": "code",
   "execution_count": 2,
   "metadata": {},
   "outputs": [],
   "source": [
    "import pandas as pd\n",
    "import numpy as np\n",
    "import matplotlib.pyplot as plt\n",
    "from tensorflow import keras \n",
    "import os\n",
    "import tensorflow as tf\n",
    "import tensorflow_addons as tfa\n",
    "from utils.config import Config\n",
    "\n",
    "import PIL\n",
    "import PIL.ImageOps\n",
    "from tensorflow.keras.utils import plot_model\n",
    "configuration = Config()\n",
    "from tensorflow.keras.models import load_model\n",
    "\n",
    "import itertools\n",
    "import seaborn as sns\n",
    "\n",
    "AUTOTUNE = tf.data.experimental.AUTOTUNE\n",
    "\n",
    "from dataset.ops import dataset_ops\n",
    "import dataset.ops.image_ops as ops\n",
    "from dataset import landmarks_faces_pretrain_dataset as land_pre\n",
    "from model import landmarks_model\n",
    "from dataset.landmarks_dataset import feet_landmarks_dataset,hands_landmarks_dataset"
   ]
  },
  {
   "cell_type": "code",
   "execution_count": 3,
   "metadata": {},
   "outputs": [],
   "source": [
    "# reload the library\n",
    "import importlib\n",
    "import types\n",
    "import os\n",
    "\n",
    "def reload_package(package):\n",
    "    assert(hasattr(package, \"__package__\"))\n",
    "    fn = package.__file__\n",
    "    fn_dir = os.path.dirname(fn) + os.sep\n",
    "    module_visit = {fn}\n",
    "    del fn\n",
    "\n",
    "    def reload_recursive_ex(module):\n",
    "        importlib.reload(module)\n",
    "\n",
    "        for module_child in vars(module).values():\n",
    "            if isinstance(module_child, types.ModuleType):\n",
    "                fn_child = getattr(module_child, \"__file__\", None)\n",
    "                if (fn_child is not None) and fn_child.startswith(fn_dir):\n",
    "                    if fn_child not in module_visit:\n",
    "                        # print(\"reloading:\", fn_child, \"from\", module)\n",
    "                        module_visit.add(fn_child)\n",
    "                        reload_recursive_ex(module_child)\n",
    "\n",
    "    return reload_recursive_ex(package)\n"
   ]
  },
  {
   "cell_type": "code",
   "execution_count": null,
   "metadata": {},
   "outputs": [],
   "source": []
  }
 ],
 "metadata": {
  "kernelspec": {
   "display_name": "Python 3",
   "language": "python",
   "name": "python3"
  },
  "language_info": {
   "codemirror_mode": {
    "name": "ipython",
    "version": 3
   },
   "file_extension": ".py",
   "mimetype": "text/x-python",
   "name": "python",
   "nbconvert_exporter": "python",
   "pygments_lexer": "ipython3",
   "version": "3.7.3"
  }
 },
 "nbformat": 4,
 "nbformat_minor": 4
}
