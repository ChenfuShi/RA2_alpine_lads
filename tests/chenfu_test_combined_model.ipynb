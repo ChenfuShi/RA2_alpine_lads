{
 "cells": [
  {
   "cell_type": "code",
   "execution_count": 1,
   "metadata": {},
   "outputs": [],
   "source": [
    "import os\n",
    "os.chdir('/mnt/jw01-aruk-home01/projects/ra_challenge/RA_challenge/RA2_alpine_lads/ra_joint_predictions')"
   ]
  },
  {
   "cell_type": "code",
   "execution_count": 2,
   "metadata": {},
   "outputs": [],
   "source": [
    "import tensorflow as tf\n",
    "import numpy as np\n",
    "import pandas as pd\n",
    "import matplotlib.pyplot as plt\n",
    "from tensorflow import keras\n",
    "from utils.config import Config\n",
    "import PIL\n",
    "import json\n",
    "import logging\n",
    "import re\n",
    "import seaborn as sns"
   ]
  },
  {
   "cell_type": "code",
   "execution_count": 3,
   "metadata": {},
   "outputs": [],
   "source": [
    "configuration = Config()\n",
    "tf.config.threading.set_intra_op_parallelism_threads(20)\n",
    "tf.config.threading.set_inter_op_parallelism_threads(20)"
   ]
  },
  {
   "cell_type": "code",
   "execution_count": 4,
   "metadata": {},
   "outputs": [],
   "source": [
    "# need this to stop that warning\n",
    "logging.disable(logging.WARNING)\n",
    "os.environ[\"TF_CPP_MIN_LOG_LEVEL\"] = \"3\""
   ]
  },
  {
   "cell_type": "code",
   "execution_count": 5,
   "metadata": {},
   "outputs": [],
   "source": [
    "import dataset.combined_joints_dataset as combset\n",
    "from prediction import joint_damage"
   ]
  },
  {
   "cell_type": "code",
   "execution_count": 21,
   "metadata": {},
   "outputs": [],
   "source": [
    "def robust_mean(scores):\n",
    "    scores = np.sort(scores)\n",
    "    size_p = len(scores)//10\n",
    "    mean_score = np.mean(scores[size_p:len(scores)-size_p])\n",
    "    return mean_score\n",
    "    \n"
   ]
  },
  {
   "cell_type": "code",
   "execution_count": 22,
   "metadata": {},
   "outputs": [
    {
     "name": "stdout",
     "output_type": "stream",
     "text": [
      "16.3 µs ± 181 ns per loop (mean ± std. dev. of 7 runs, 100000 loops each)\n"
     ]
    }
   ],
   "source": [
    "%%timeit\n",
    "robust_mean([0,0,0,1,2,4,5,10,10,10,10,10,10,10,0,2,5,4,1,0,6,9,8,7,4,5,1,2,3,6,5,4,2,5])"
   ]
  },
  {
   "cell_type": "code",
   "execution_count": 7,
   "metadata": {},
   "outputs": [],
   "source": [
    "hands_model = keras.models.load_model(\"weights/SC1_v3A_hand_narrowingafter_model_50.h5\")"
   ]
  },
  {
   "cell_type": "code",
   "execution_count": 8,
   "metadata": {},
   "outputs": [],
   "source": [
    "test_dataset_class = combset.overall_test_hand(configuration,\"/mnt/jw01-aruk-home01/projects/ra_challenge/RA_challenge/training_dataset/fixed\", is_test = True)\n",
    "test_data = test_dataset_class.create_generator(joints_source= \"./data/predictions/hand_joint_data_test_v2.csv\")"
   ]
  },
  {
   "cell_type": "code",
   "execution_count": 9,
   "metadata": {},
   "outputs": [],
   "source": [
    "results = {}\n",
    "\n",
    "for i in range(1472):\n",
    "    imgs, img_id = next(test_data)\n",
    "    res = hands_model.predict(imgs)\n",
    "    try:\n",
    "        results[img_id].append(res[0][0])\n",
    "    except:\n",
    "        results[img_id] = [res[0][0]]"
   ]
  },
  {
   "cell_type": "code",
   "execution_count": 10,
   "metadata": {},
   "outputs": [],
   "source": [
    "for item in results:\n",
    "    results[item] = robust_mean(results[item])"
   ]
  },
  {
   "cell_type": "code",
   "execution_count": 11,
   "metadata": {},
   "outputs": [],
   "source": [
    "result = pd.DataFrame.from_dict(results,orient='index')\n",
    "result.columns = [\"Prediction\"]\n",
    "result[\"patient\"] = result.index.str.split(\"-\").str[0]\n",
    "result[\"side\"] = result.index.str.split(\"-\").str[1]\n",
    "result = result.pivot(index = \"patient\", values=\"Prediction\", columns=\"side\")"
   ]
  },
  {
   "cell_type": "code",
   "execution_count": 12,
   "metadata": {},
   "outputs": [],
   "source": [
    "ground_truth_df = pd.read_csv(\"/mnt/iusers01/jw01/mdefscs4/ra_challenge/RA_challenge/training_dataset/training.csv\")\n",
    "ground_truth_df = ground_truth_df.set_index(\"Patient_ID\")\n",
    "what = \".*H.*J.*\"\n",
    "what = re.compile(what)\n",
    "wanted_cols = list(filter(what.match, ground_truth_df.columns))\n",
    "merged_df=result.merge(ground_truth_df.loc[:,wanted_cols],how=\"inner\",left_on = \"patient\", right_index=True)\n",
    "truth_idx = [\"LH_\" in x for x in merged_df.columns]\n",
    "merged_df[\"Overall_truth LH\"] =  merged_df.loc[:,truth_idx].sum(axis = 1)\n",
    "truth_idx = [\"RH_\" in x for x in merged_df.columns]\n",
    "merged_df[\"Overall_truth RH\"] =  merged_df.loc[:,truth_idx].sum(axis = 1)\n"
   ]
  },
  {
   "cell_type": "code",
   "execution_count": 13,
   "metadata": {},
   "outputs": [
    {
     "data": {
      "text/html": [
       "<div>\n",
       "<style scoped>\n",
       "    .dataframe tbody tr th:only-of-type {\n",
       "        vertical-align: middle;\n",
       "    }\n",
       "\n",
       "    .dataframe tbody tr th {\n",
       "        vertical-align: top;\n",
       "    }\n",
       "\n",
       "    .dataframe thead th {\n",
       "        text-align: right;\n",
       "    }\n",
       "</style>\n",
       "<table border=\"1\" class=\"dataframe\">\n",
       "  <thead>\n",
       "    <tr style=\"text-align: right;\">\n",
       "      <th></th>\n",
       "      <th>LH</th>\n",
       "      <th>RH</th>\n",
       "      <th>Overall_truth LH</th>\n",
       "      <th>Overall_truth RH</th>\n",
       "    </tr>\n",
       "    <tr>\n",
       "      <th>patient</th>\n",
       "      <th></th>\n",
       "      <th></th>\n",
       "      <th></th>\n",
       "      <th></th>\n",
       "    </tr>\n",
       "  </thead>\n",
       "  <tbody>\n",
       "    <tr>\n",
       "      <th>UAB002</th>\n",
       "      <td>-0.946015</td>\n",
       "      <td>-1.171882</td>\n",
       "      <td>2</td>\n",
       "      <td>0</td>\n",
       "    </tr>\n",
       "    <tr>\n",
       "      <th>UAB018</th>\n",
       "      <td>-2.033396</td>\n",
       "      <td>-1.651707</td>\n",
       "      <td>0</td>\n",
       "      <td>0</td>\n",
       "    </tr>\n",
       "    <tr>\n",
       "      <th>UAB030</th>\n",
       "      <td>-0.903564</td>\n",
       "      <td>-0.421946</td>\n",
       "      <td>0</td>\n",
       "      <td>0</td>\n",
       "    </tr>\n",
       "    <tr>\n",
       "      <th>UAB032</th>\n",
       "      <td>6.110437</td>\n",
       "      <td>15.000255</td>\n",
       "      <td>6</td>\n",
       "      <td>14</td>\n",
       "    </tr>\n",
       "    <tr>\n",
       "      <th>UAB036</th>\n",
       "      <td>0.553921</td>\n",
       "      <td>-0.004444</td>\n",
       "      <td>2</td>\n",
       "      <td>4</td>\n",
       "    </tr>\n",
       "    <tr>\n",
       "      <th>...</th>\n",
       "      <td>...</td>\n",
       "      <td>...</td>\n",
       "      <td>...</td>\n",
       "      <td>...</td>\n",
       "    </tr>\n",
       "    <tr>\n",
       "      <th>UAB700</th>\n",
       "      <td>-0.726586</td>\n",
       "      <td>-1.021069</td>\n",
       "      <td>0</td>\n",
       "      <td>0</td>\n",
       "    </tr>\n",
       "    <tr>\n",
       "      <th>UAB701</th>\n",
       "      <td>5.263388</td>\n",
       "      <td>3.535840</td>\n",
       "      <td>22</td>\n",
       "      <td>18</td>\n",
       "    </tr>\n",
       "    <tr>\n",
       "      <th>UAB706</th>\n",
       "      <td>36.702175</td>\n",
       "      <td>39.131039</td>\n",
       "      <td>60</td>\n",
       "      <td>60</td>\n",
       "    </tr>\n",
       "    <tr>\n",
       "      <th>UAB707</th>\n",
       "      <td>-0.602748</td>\n",
       "      <td>-0.712592</td>\n",
       "      <td>0</td>\n",
       "      <td>0</td>\n",
       "    </tr>\n",
       "    <tr>\n",
       "      <th>UAB716</th>\n",
       "      <td>-1.287761</td>\n",
       "      <td>-1.391707</td>\n",
       "      <td>0</td>\n",
       "      <td>0</td>\n",
       "    </tr>\n",
       "  </tbody>\n",
       "</table>\n",
       "<p>92 rows × 4 columns</p>\n",
       "</div>"
      ],
      "text/plain": [
       "                LH         RH  Overall_truth LH  Overall_truth RH\n",
       "patient                                                          \n",
       "UAB002   -0.946015  -1.171882                 2                 0\n",
       "UAB018   -2.033396  -1.651707                 0                 0\n",
       "UAB030   -0.903564  -0.421946                 0                 0\n",
       "UAB032    6.110437  15.000255                 6                14\n",
       "UAB036    0.553921  -0.004444                 2                 4\n",
       "...            ...        ...               ...               ...\n",
       "UAB700   -0.726586  -1.021069                 0                 0\n",
       "UAB701    5.263388   3.535840                22                18\n",
       "UAB706   36.702175  39.131039                60                60\n",
       "UAB707   -0.602748  -0.712592                 0                 0\n",
       "UAB716   -1.287761  -1.391707                 0                 0\n",
       "\n",
       "[92 rows x 4 columns]"
      ]
     },
     "execution_count": 13,
     "metadata": {},
     "output_type": "execute_result"
    }
   ],
   "source": [
    "merged_df[[\"LH\",\"RH\",\"Overall_truth LH\",\"Overall_truth RH\"]]"
   ]
  },
  {
   "cell_type": "code",
   "execution_count": 14,
   "metadata": {},
   "outputs": [
    {
     "data": {
      "text/plain": [
       "<matplotlib.axes._subplots.AxesSubplot at 0x7fe6b8c740f0>"
      ]
     },
     "execution_count": 14,
     "metadata": {},
     "output_type": "execute_result"
    },
    {
     "data": {
      "image/png": "[encoded data removed]",
      "text/plain": [
       "<Figure size 432x288 with 1 Axes>"
      ]
     },
     "metadata": {
      "needs_background": "light"
     },
     "output_type": "display_data"
    }
   ],
   "source": [
    "sns.scatterplot(data = merged_df, x=\"Overall_truth LH\",y=\"LH\")"
   ]
  },
  {
   "cell_type": "markdown",
   "metadata": {},
   "source": [
    "# feet"
   ]
  },
  {
   "cell_type": "code",
   "execution_count": 15,
   "metadata": {},
   "outputs": [],
   "source": [
    "feet_model = keras.models.load_model(\"weights/SC1_v3A_feet_narrowing_0.4zerosafter_model_50.h5\")"
   ]
  },
  {
   "cell_type": "code",
   "execution_count": 16,
   "metadata": {},
   "outputs": [],
   "source": [
    "test_dataset_class = combset.overall_test_feet(configuration,\"/mnt/jw01-aruk-home01/projects/ra_challenge/RA_challenge/training_dataset/fixed\", is_test = True)\n",
    "test_data = test_dataset_class.create_generator(joints_source= \"./data/predictions/feet_joint_data_test_v2.csv\")\n"
   ]
  },
  {
   "cell_type": "code",
   "execution_count": 17,
   "metadata": {},
   "outputs": [],
   "source": [
    "results = {}\n",
    "\n",
    "for i in range(1472):\n",
    "    imgs, img_id = next(test_data)\n",
    "    res = feet_model.predict(imgs)\n",
    "    try:\n",
    "        results[img_id].append(res[0][0])\n",
    "    except:\n",
    "        results[img_id] = [res[0][0]]"
   ]
  },
  {
   "cell_type": "code",
   "execution_count": 18,
   "metadata": {},
   "outputs": [],
   "source": [
    "for item in results:\n",
    "    results[item] = sum(results[item])/len(results[item])"
   ]
  },
  {
   "cell_type": "code",
   "execution_count": 19,
   "metadata": {},
   "outputs": [],
   "source": [
    "result = pd.DataFrame.from_dict(results,orient='index')\n",
    "result.columns = [\"Prediction\"]\n",
    "result[\"patient\"] = result.index.str.split(\"-\").str[0]\n",
    "result[\"side\"] = result.index.str.split(\"-\").str[1]\n",
    "result = result.pivot(index = \"patient\", values=\"Prediction\", columns=\"side\")"
   ]
  },
  {
   "cell_type": "code",
   "execution_count": 20,
   "metadata": {},
   "outputs": [],
   "source": [
    "ground_truth_df = pd.read_csv(\"/mnt/iusers01/jw01/mdefscs4/ra_challenge/RA_challenge/training_dataset/training.csv\")\n",
    "ground_truth_df = ground_truth_df.set_index(\"Patient_ID\")\n",
    "what = \".*F.*J.*\"\n",
    "what = re.compile(what)\n",
    "wanted_cols = list(filter(what.match, ground_truth_df.columns))\n",
    "merged_df=result.merge(ground_truth_df.loc[:,wanted_cols],how=\"inner\",left_on = \"patient\", right_index=True)\n",
    "truth_idx = [\"LF_\" in x for x in merged_df.columns]\n",
    "merged_df[\"Overall_truth LF\"] =  merged_df.loc[:,truth_idx].sum(axis = 1)\n",
    "truth_idx = [\"RF_\" in x for x in merged_df.columns]\n",
    "merged_df[\"Overall_truth RF\"] =  merged_df.loc[:,truth_idx].sum(axis = 1)\n"
   ]
  },
  {
   "cell_type": "code",
   "execution_count": 21,
   "metadata": {},
   "outputs": [
    {
     "data": {
      "text/html": [
       "<div>\n",
       "<style scoped>\n",
       "    .dataframe tbody tr th:only-of-type {\n",
       "        vertical-align: middle;\n",
       "    }\n",
       "\n",
       "    .dataframe tbody tr th {\n",
       "        vertical-align: top;\n",
       "    }\n",
       "\n",
       "    .dataframe thead th {\n",
       "        text-align: right;\n",
       "    }\n",
       "</style>\n",
       "<table border=\"1\" class=\"dataframe\">\n",
       "  <thead>\n",
       "    <tr style=\"text-align: right;\">\n",
       "      <th></th>\n",
       "      <th>LF</th>\n",
       "      <th>RF</th>\n",
       "      <th>Overall_truth LF</th>\n",
       "      <th>Overall_truth RF</th>\n",
       "    </tr>\n",
       "    <tr>\n",
       "      <th>patient</th>\n",
       "      <th></th>\n",
       "      <th></th>\n",
       "      <th></th>\n",
       "      <th></th>\n",
       "    </tr>\n",
       "  </thead>\n",
       "  <tbody>\n",
       "    <tr>\n",
       "      <th>UAB002</th>\n",
       "      <td>-0.090347</td>\n",
       "      <td>0.014936</td>\n",
       "      <td>0</td>\n",
       "      <td>0</td>\n",
       "    </tr>\n",
       "    <tr>\n",
       "      <th>UAB018</th>\n",
       "      <td>0.318946</td>\n",
       "      <td>0.147376</td>\n",
       "      <td>0</td>\n",
       "      <td>0</td>\n",
       "    </tr>\n",
       "    <tr>\n",
       "      <th>UAB030</th>\n",
       "      <td>1.324349</td>\n",
       "      <td>1.805938</td>\n",
       "      <td>2</td>\n",
       "      <td>2</td>\n",
       "    </tr>\n",
       "    <tr>\n",
       "      <th>UAB032</th>\n",
       "      <td>2.188644</td>\n",
       "      <td>0.093094</td>\n",
       "      <td>0</td>\n",
       "      <td>2</td>\n",
       "    </tr>\n",
       "    <tr>\n",
       "      <th>UAB036</th>\n",
       "      <td>0.307920</td>\n",
       "      <td>0.074693</td>\n",
       "      <td>0</td>\n",
       "      <td>0</td>\n",
       "    </tr>\n",
       "    <tr>\n",
       "      <th>...</th>\n",
       "      <td>...</td>\n",
       "      <td>...</td>\n",
       "      <td>...</td>\n",
       "      <td>...</td>\n",
       "    </tr>\n",
       "    <tr>\n",
       "      <th>UAB700</th>\n",
       "      <td>-0.039755</td>\n",
       "      <td>1.366190</td>\n",
       "      <td>0</td>\n",
       "      <td>2</td>\n",
       "    </tr>\n",
       "    <tr>\n",
       "      <th>UAB701</th>\n",
       "      <td>1.198906</td>\n",
       "      <td>0.915124</td>\n",
       "      <td>0</td>\n",
       "      <td>0</td>\n",
       "    </tr>\n",
       "    <tr>\n",
       "      <th>UAB706</th>\n",
       "      <td>10.466519</td>\n",
       "      <td>8.784992</td>\n",
       "      <td>11</td>\n",
       "      <td>23</td>\n",
       "    </tr>\n",
       "    <tr>\n",
       "      <th>UAB707</th>\n",
       "      <td>0.599403</td>\n",
       "      <td>1.462789</td>\n",
       "      <td>0</td>\n",
       "      <td>0</td>\n",
       "    </tr>\n",
       "    <tr>\n",
       "      <th>UAB716</th>\n",
       "      <td>0.419064</td>\n",
       "      <td>0.212607</td>\n",
       "      <td>0</td>\n",
       "      <td>0</td>\n",
       "    </tr>\n",
       "  </tbody>\n",
       "</table>\n",
       "<p>92 rows × 4 columns</p>\n",
       "</div>"
      ],
      "text/plain": [
       "                LF        RF  Overall_truth LF  Overall_truth RF\n",
       "patient                                                         \n",
       "UAB002   -0.090347  0.014936                 0                 0\n",
       "UAB018    0.318946  0.147376                 0                 0\n",
       "UAB030    1.324349  1.805938                 2                 2\n",
       "UAB032    2.188644  0.093094                 0                 2\n",
       "UAB036    0.307920  0.074693                 0                 0\n",
       "...            ...       ...               ...               ...\n",
       "UAB700   -0.039755  1.366190                 0                 2\n",
       "UAB701    1.198906  0.915124                 0                 0\n",
       "UAB706   10.466519  8.784992                11                23\n",
       "UAB707    0.599403  1.462789                 0                 0\n",
       "UAB716    0.419064  0.212607                 0                 0\n",
       "\n",
       "[92 rows x 4 columns]"
      ]
     },
     "execution_count": 21,
     "metadata": {},
     "output_type": "execute_result"
    }
   ],
   "source": [
    "merged_df[[\"LF\",\"RF\",\"Overall_truth LF\",\"Overall_truth RF\"]]"
   ]
  },
  {
   "cell_type": "code",
   "execution_count": 22,
   "metadata": {},
   "outputs": [
    {
     "data": {
      "text/plain": [
       "<matplotlib.axes._subplots.AxesSubplot at 0x7fe649d0bcc0>"
      ]
     },
     "execution_count": 22,
     "metadata": {},
     "output_type": "execute_result"
    },
    {
     "data": {
      "image/png": "[encoded data removed]",
      "text/plain": [
       "<Figure size 432x288 with 1 Axes>"
      ]
     },
     "metadata": {
      "needs_background": "light"
     },
     "output_type": "display_data"
    }
   ],
   "source": [
    "sns.scatterplot(data = merged_df, x=\"Overall_truth LF\",y=\"LF\")"
   ]
  },
  {
   "cell_type": "code",
   "execution_count": null,
   "metadata": {},
   "outputs": [],
   "source": []
  },
  {
   "cell_type": "code",
   "execution_count": null,
   "metadata": {},
   "outputs": [],
   "source": []
  }
 ],
 "metadata": {
  "kernelspec": {
   "display_name": "Python 3",
   "language": "python",
   "name": "python3"
  },
  "language_info": {
   "codemirror_mode": {
    "name": "ipython",
    "version": 3
   },
   "file_extension": ".py",
   "mimetype": "text/x-python",
   "name": "python",
   "nbconvert_exporter": "python",
   "pygments_lexer": "ipython3",
   "version": "3.7.3"
  }
 },
 "nbformat": 4,
 "nbformat_minor": 4
}
