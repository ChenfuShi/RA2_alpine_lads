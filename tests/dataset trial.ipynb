{
 "cells": [
  {
   "cell_type": "code",
   "execution_count": 1,
   "metadata": {},
   "outputs": [],
   "source": [
    "import pandas as pd\n",
    "import numpy as np"
   ]
  },
  {
   "cell_type": "code",
   "execution_count": 2,
   "metadata": {},
   "outputs": [],
   "source": [
    "training_csv = \"data/train/training.csv\""
   ]
  },
  {
   "cell_type": "code",
   "execution_count": 8,
   "metadata": {},
   "outputs": [],
   "source": [
    "info = pd.read_csv(training_csv)\n",
    "features = info.columns"
   ]
  },
  {
   "cell_type": "code",
   "execution_count": 14,
   "metadata": {},
   "outputs": [],
   "source": [
    "erosions = [s for s in features if \"E\" in s]\n",
    "narrowings = [s for s in features if \"J\" in s]"
   ]
  },
  {
   "cell_type": "code",
   "execution_count": 17,
   "metadata": {},
   "outputs": [
    {
     "data": {
      "text/plain": [
       "43"
      ]
     },
     "execution_count": 17,
     "metadata": {},
     "output_type": "execute_result"
    }
   ],
   "source": [
    "info.loc[0,narrowings]"
   ]
  },
  {
   "cell_type": "code",
   "execution_count": 15,
   "metadata": {},
   "outputs": [
    {
     "data": {
      "text/plain": [
       "['LH_pip_J__2',\n",
       " 'LH_pip_J__3',\n",
       " 'LH_pip_J__4',\n",
       " 'LH_pip_J__5',\n",
       " 'LH_mcp_J__1',\n",
       " 'LH_mcp_J__2',\n",
       " 'LH_mcp_J__3',\n",
       " 'LH_mcp_J__4',\n",
       " 'LH_mcp_J__5',\n",
       " 'LH_wrist_J__cmc3',\n",
       " 'LH_wrist_J__cmc4',\n",
       " 'LH_wrist_J__cmc5',\n",
       " 'LH_wrist_J__mna',\n",
       " 'LH_wrist_J__capnlun',\n",
       " 'LH_wrist_J__radcar',\n",
       " 'RH_pip_J__2',\n",
       " 'RH_pip_J__3',\n",
       " 'RH_pip_J__4',\n",
       " 'RH_pip_J__5',\n",
       " 'RH_mcp_J__1',\n",
       " 'RH_mcp_J__2',\n",
       " 'RH_mcp_J__3',\n",
       " 'RH_mcp_J__4',\n",
       " 'RH_mcp_J__5',\n",
       " 'RH_wrist_J__cmc3',\n",
       " 'RH_wrist_J__cmc4',\n",
       " 'RH_wrist_J__cmc5',\n",
       " 'RH_wrist_J__mna',\n",
       " 'RH_wrist_J__capnlun',\n",
       " 'RH_wrist_J__radcar',\n",
       " 'LF_mtp_J__ip',\n",
       " 'LF_mtp_J__1',\n",
       " 'LF_mtp_J__2',\n",
       " 'LF_mtp_J__3',\n",
       " 'LF_mtp_J__4',\n",
       " 'LF_mtp_J__5',\n",
       " 'RF_mtp_J__ip',\n",
       " 'RF_mtp_J__1',\n",
       " 'RF_mtp_J__2',\n",
       " 'RF_mtp_J__3',\n",
       " 'RF_mtp_J__4',\n",
       " 'RF_mtp_J__5']"
      ]
     },
     "execution_count": 15,
     "metadata": {},
     "output_type": "execute_result"
    }
   ],
   "source": [
    "narrowings"
   ]
  },
  {
   "cell_type": "code",
   "execution_count": null,
   "metadata": {},
   "outputs": [],
   "source": []
  }
 ],
 "metadata": {
  "kernelspec": {
   "display_name": "Python 3",
   "language": "python",
   "name": "python3"
  },
  "language_info": {
   "codemirror_mode": {
    "name": "ipython",
    "version": 3
   },
   "file_extension": ".py",
   "mimetype": "text/x-python",
   "name": "python",
   "nbconvert_exporter": "python",
   "pygments_lexer": "ipython3",
   "version": "3.7.6"
  }
 },
 "nbformat": 4,
 "nbformat_minor": 4
}
