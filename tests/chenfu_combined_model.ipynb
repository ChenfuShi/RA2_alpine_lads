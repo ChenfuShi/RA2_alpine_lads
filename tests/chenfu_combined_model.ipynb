{
 "cells": [
  {
   "cell_type": "code",
   "execution_count": 1,
   "metadata": {},
   "outputs": [],
   "source": [
    "import os\n",
    "os.chdir('/mnt/jw01-aruk-home01/projects/ra_challenge/RA_challenge/RA2_alpine_lads/ra_joint_predictions')"
   ]
  },
  {
   "cell_type": "code",
   "execution_count": 2,
   "metadata": {},
   "outputs": [],
   "source": [
    "import tensorflow as tf\n",
    "import numpy as np\n",
    "import pandas as pd\n",
    "import matplotlib.pyplot as plt\n",
    "from tensorflow import keras\n",
    "from utils.config import Config\n",
    "import PIL\n",
    "import json\n",
    "configuration = Config()\n",
    "tf.config.threading.set_intra_op_parallelism_threads(20)\n",
    "tf.config.threading.set_inter_op_parallelism_threads(20)"
   ]
  },
  {
   "cell_type": "code",
   "execution_count": 3,
   "metadata": {},
   "outputs": [],
   "source": [
    "import dataset.combined_joints_dataset as combset\n",
    "from prediction import joint_damage"
   ]
  },
  {
   "cell_type": "code",
   "execution_count": null,
   "metadata": {},
   "outputs": [],
   "source": [
    "individual_model = keras.models.load_model(\"/mnt/iusers01/jw01/mdefscs4/ra_challenge/RA_challenge/michael_dev/RA2_alpine_lads/trained_models/v3/feet_narrowing_reg_old_pretrain_adam_shuffle.h5\", compile = False)\n",
    "individual_model_2 = keras.models.Model(individual_model.inputs, individual_model.layers[-14].output) \n",
    "individual_model_2.trainable = False\n"
   ]
  },
  {
   "cell_type": "code",
   "execution_count": null,
   "metadata": {},
   "outputs": [],
   "source": [
    "n_inputs = 6\n",
    "inputs = []\n",
    "for i in range(n_inputs):\n",
    "    inputs.append(keras.layers.Input(shape=(224,224,1)))\n",
    "outs = []\n",
    "for i in range(n_inputs):\n",
    "    outs.append(individual_model_2(inputs[i]))\n"
   ]
  },
  {
   "cell_type": "code",
   "execution_count": null,
   "metadata": {},
   "outputs": [],
   "source": [
    "\n",
    "pred = keras.layers.Concatenate()(outs)\n",
    "pred = keras.layers.Dense(256, activation = \"relu\")(pred)\n",
    "pred = keras.layers.BatchNormalization()(pred)\n",
    "pred = keras.layers.Dropout(0.5)(pred)\n",
    "pred = keras.layers.Dense(256, activation = \"relu\")(pred)\n",
    "pred = keras.layers.BatchNormalization()(pred)\n",
    "pred = keras.layers.Dropout(0.5)(pred)\n",
    "pred = keras.layers.Dense(1)(pred)"
   ]
  },
  {
   "cell_type": "code",
   "execution_count": null,
   "metadata": {},
   "outputs": [],
   "source": [
    "combined_model = keras.models.Model(inputs=inputs, outputs=[pred])"
   ]
  },
  {
   "cell_type": "code",
   "execution_count": null,
   "metadata": {},
   "outputs": [],
   "source": [
    "combined_model.compile(optimizer = \"adam\", loss = \"mean_squared_error\", metrics = [\"mae\"])"
   ]
  },
  {
   "cell_type": "code",
   "execution_count": null,
   "metadata": {},
   "outputs": [],
   "source": [
    "combined_model"
   ]
  },
  {
   "cell_type": "code",
   "execution_count": null,
   "metadata": {},
   "outputs": [],
   "source": [
    "train_dataset_class = combset.overall_test_feet(configuration,\"/mnt/jw01-aruk-home01/projects/ra_challenge/RA_challenge/training_dataset/fixed\")\n",
    "train_data = train_dataset_class.create_generator(outcomes_source = \"/mnt/iusers01/jw01/mdefscs4/ra_challenge/RA_challenge/training_dataset/training.csv\")"
   ]
  },
  {
   "cell_type": "code",
   "execution_count": null,
   "metadata": {},
   "outputs": [],
   "source": [
    "val_dataset_class = combset.overall_test_feet(configuration,\"/mnt/jw01-aruk-home01/projects/ra_challenge/RA_challenge/training_dataset/fixed\")\n",
    "val_data = train_dataset_class.create_generator(outcomes_source = \"/mnt/iusers01/jw01/mdefscs4/ra_challenge/RA_challenge/training_dataset/training.csv\",joints_source= \"./data/predictions/feet_joint_data_test_v2.csv\")"
   ]
  },
  {
   "cell_type": "code",
   "execution_count": null,
   "metadata": {},
   "outputs": [],
   "source": [
    "import logging, os\n",
    "\n",
    "logging.disable(logging.WARNING)\n",
    "os.environ[\"TF_CPP_MIN_LOG_LEVEL\"] = \"3\"\n"
   ]
  },
  {
   "cell_type": "code",
   "execution_count": null,
   "metadata": {},
   "outputs": [],
   "source": [
    "combined_model.fit_generator(train_data,validation_data = val_data, epochs = 10, steps_per_epoch = 20, validation_steps = 5)"
   ]
  },
  {
   "cell_type": "code",
   "execution_count": null,
   "metadata": {},
   "outputs": [],
   "source": [
    "for layer in combined_model.layers:\n",
    "    layer.trainable = True"
   ]
  },
  {
   "cell_type": "code",
   "execution_count": null,
   "metadata": {},
   "outputs": [],
   "source": [
    "combined_model.compile(optimizer = keras.optimizers.Adam(learning_rate=0.0001, beta_1=0.9, beta_2=0.999, amsgrad=False), loss = \"mean_squared_error\", metrics = [\"mae\"])"
   ]
  },
  {
   "cell_type": "code",
   "execution_count": null,
   "metadata": {},
   "outputs": [],
   "source": [
    "combined_model.fit_generator(train_data,validation_data = val_data, epochs = 20, steps_per_epoch = 20, validation_steps = 5)"
   ]
  },
  {
   "cell_type": "markdown",
   "metadata": {},
   "source": [
    "# hands "
   ]
  },
  {
   "cell_type": "code",
   "execution_count": 6,
   "metadata": {},
   "outputs": [],
   "source": [
    "individual_model_joints = keras.models.load_model(\"/mnt/iusers01/jw01/mdefscs4/ra_challenge/RA_challenge/michael_dev/RA2_alpine_lads/trained_models/v3/hands_narrowing_reg_old_pretrain_adam_shuffle.h5\", compile = False)\n",
    "individual_model_joints_no_dense = keras.models.Model(individual_model_joints.inputs, individual_model_joints.layers[-14].output) \n",
    "individual_model_joints_no_dense.trainable = False\n",
    "individual_model_wrist = keras.models.load_model(\"/mnt/iusers01/jw01/mdefscs4/ra_challenge/RA_challenge/michael_dev/RA2_alpine_lads/trained_models/v3/wrists_narrowing_reg_old_pretrain_adam_shuffle.h5\", compile = False)\n",
    "individual_model_wrist_no_dense = keras.models.Model(individual_model_wrist.inputs, individual_model_wrist.layers[-14].output) \n",
    "individual_model_wrist_no_dense.trainable = False"
   ]
  },
  {
   "cell_type": "code",
   "execution_count": 7,
   "metadata": {},
   "outputs": [],
   "source": [
    "\n",
    "inputs = []\n",
    "for i in range(11):\n",
    "    inputs.append(keras.layers.Input(shape=(224,224,1)))\n",
    "outs = []\n",
    "for i in range(10):\n",
    "    outs.append(individual_model_joints_no_dense(inputs[i]))\n",
    "outs.append(individual_model_wrist_no_dense(inputs[10]))\n",
    "\n",
    "pred = keras.layers.Concatenate()(outs)\n",
    "pred = keras.layers.Dense(256, activation = \"relu\")(pred)\n",
    "pred = keras.layers.BatchNormalization()(pred)\n",
    "pred = keras.layers.Dropout(0.5)(pred)\n",
    "pred = keras.layers.Dense(256, activation = \"relu\")(pred)\n",
    "pred = keras.layers.BatchNormalization()(pred)\n",
    "pred = keras.layers.Dropout(0.5)(pred)\n",
    "pred = keras.layers.Dense(1)(pred)"
   ]
  },
  {
   "cell_type": "code",
   "execution_count": 8,
   "metadata": {},
   "outputs": [],
   "source": [
    "combined_model = keras.models.Model(inputs=inputs, outputs=[pred])"
   ]
  },
  {
   "cell_type": "code",
   "execution_count": 9,
   "metadata": {},
   "outputs": [],
   "source": [
    "combined_model.compile(optimizer = \"adam\", loss = \"mean_squared_error\", metrics = [\"mae\"])"
   ]
  },
  {
   "cell_type": "code",
   "execution_count": 10,
   "metadata": {},
   "outputs": [
    {
     "data": {
      "text/plain": [
       "<tensorflow.python.keras.engine.training.Model at 0x7f2d9de682b0>"
      ]
     },
     "execution_count": 10,
     "metadata": {},
     "output_type": "execute_result"
    }
   ],
   "source": [
    "combined_model"
   ]
  },
  {
   "cell_type": "code",
   "execution_count": 11,
   "metadata": {},
   "outputs": [],
   "source": [
    "train_dataset_class = combset.overall_test_hand(configuration,\"/mnt/jw01-aruk-home01/projects/ra_challenge/RA_challenge/training_dataset/fixed\")\n",
    "train_data = train_dataset_class.create_generator(outcomes_source = \"/mnt/iusers01/jw01/mdefscs4/ra_challenge/RA_challenge/training_dataset/training.csv\")"
   ]
  },
  {
   "cell_type": "code",
   "execution_count": 16,
   "metadata": {},
   "outputs": [],
   "source": [
    "val_dataset_class = combset.overall_test_hand(configuration,\"/mnt/jw01-aruk-home01/projects/ra_challenge/RA_challenge/training_dataset/fixed\")\n",
    "val_data = train_dataset_class.create_generator(outcomes_source = \"/mnt/iusers01/jw01/mdefscs4/ra_challenge/RA_challenge/training_dataset/training.csv\",joints_source= \"./data/predictions/hand_joint_data_test_v2.csv\")"
   ]
  },
  {
   "cell_type": "code",
   "execution_count": 13,
   "metadata": {},
   "outputs": [],
   "source": [
    "import logging, os\n",
    "\n",
    "logging.disable(logging.WARNING)\n",
    "os.environ[\"TF_CPP_MIN_LOG_LEVEL\"] = \"3\"\n"
   ]
  },
  {
   "cell_type": "code",
   "execution_count": null,
   "metadata": {},
   "outputs": [],
   "source": [
    "combined_model.fit_generator(train_data,validation_data = val_data, epochs = 10, steps_per_epoch = 20, validation_steps = 5)"
   ]
  },
  {
   "cell_type": "code",
   "execution_count": 18,
   "metadata": {},
   "outputs": [],
   "source": [
    "for layer in combined_model.layers:\n",
    "    layer.trainable = True"
   ]
  },
  {
   "cell_type": "code",
   "execution_count": 19,
   "metadata": {},
   "outputs": [],
   "source": [
    "combined_model.compile(optimizer = keras.optimizers.Adam(learning_rate=0.0001, beta_1=0.9, beta_2=0.999, amsgrad=False), loss = \"mean_squared_error\", metrics = [\"mae\"])"
   ]
  },
  {
   "cell_type": "code",
   "execution_count": null,
   "metadata": {},
   "outputs": [
    {
     "name": "stdout",
     "output_type": "stream",
     "text": [
      "Epoch 1/20\n",
      " 3/20 [===>..........................] - ETA: 5:40 - loss: 60.1988 - mae: 6.3185"
     ]
    }
   ],
   "source": [
    "combined_model.fit_generator(train_data,validation_data = val_data, epochs = 20, steps_per_epoch = 20, validation_steps = 5)"
   ]
  },
  {
   "cell_type": "code",
   "execution_count": null,
   "metadata": {},
   "outputs": [],
   "source": []
  },
  {
   "cell_type": "code",
   "execution_count": null,
   "metadata": {},
   "outputs": [],
   "source": []
  },
  {
   "cell_type": "code",
   "execution_count": null,
   "metadata": {},
   "outputs": [],
   "source": []
  },
  {
   "cell_type": "code",
   "execution_count": 9,
   "metadata": {},
   "outputs": [],
   "source": [
    "feet_model = keras.models.load_model(\"weights/SC1_v3A_feet_erosion_mae_adamwafter_model_100.h5\", compile = False)"
   ]
  },
  {
   "cell_type": "code",
   "execution_count": 10,
   "metadata": {},
   "outputs": [
    {
     "name": "stdout",
     "output_type": "stream",
     "text": [
      "<tensorflow.python.keras.engine.input_layer.InputLayer object at 0x7f52ec6c6828>\n",
      "<tensorflow.python.keras.engine.input_layer.InputLayer object at 0x7f543112fe10>\n",
      "<tensorflow.python.keras.engine.input_layer.InputLayer object at 0x7f52ec6c6a20>\n",
      "<tensorflow.python.keras.engine.input_layer.InputLayer object at 0x7f52ec6c6da0>\n",
      "<tensorflow.python.keras.engine.input_layer.InputLayer object at 0x7f52ec6d10b8>\n",
      "<tensorflow.python.keras.engine.input_layer.InputLayer object at 0x7f52ec6d1400>\n",
      "<tensorflow.python.keras.engine.training.Model object at 0x7f5269f2a358>\n",
      "<tensorflow.python.keras.layers.merge.Concatenate object at 0x7f5269c02940>\n"
     ]
    }
   ],
   "source": [
    "lr_multipliers = {}\n",
    "for layer in feet_model.layers[:-7]:\n",
    "    print(layer)\n",
    "    lr_multipliers.update({layer.name: 0.1})"
   ]
  },
  {
   "cell_type": "code",
   "execution_count": 15,
   "metadata": {},
   "outputs": [
    {
     "data": {
      "text/plain": [
       "'conv_1_conv_1'"
      ]
     },
     "execution_count": 15,
     "metadata": {},
     "output_type": "execute_result"
    }
   ],
   "source": [
    "feet_model.layers[6].layers[1].name"
   ]
  },
  {
   "cell_type": "code",
   "execution_count": null,
   "metadata": {},
   "outputs": [],
   "source": []
  }
 ],
 "metadata": {
  "kernelspec": {
   "display_name": "Python 3",
   "language": "python",
   "name": "python3"
  },
  "language_info": {
   "codemirror_mode": {
    "name": "ipython",
    "version": 3
   },
   "file_extension": ".py",
   "mimetype": "text/x-python",
   "name": "python",
   "nbconvert_exporter": "python",
   "pygments_lexer": "ipython3",
   "version": "3.7.3"
  }
 },
 "nbformat": 4,
 "nbformat_minor": 4
}
