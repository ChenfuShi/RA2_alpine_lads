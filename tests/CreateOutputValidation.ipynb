{
 "cells": [
  {
   "cell_type": "code",
   "execution_count": 1,
   "metadata": {},
   "outputs": [],
   "source": [
    "import os\n",
    "\n",
    "os.chdir('/mnt/jw01-aruk-home01/projects/ra_challenge/RA_challenge/michael_dev/RA2_alpine_lads/ra_joint_predictions')"
   ]
  },
  {
   "cell_type": "code",
   "execution_count": 2,
   "metadata": {},
   "outputs": [],
   "source": [
    "from utils.config import Config\n",
    "\n",
    "config = Config()"
   ]
  },
  {
   "cell_type": "code",
   "execution_count": 4,
   "metadata": {},
   "outputs": [],
   "source": [
    "from dream.prediction import predict_dream_test_set\n",
    "\n",
    "predict_params = {\n",
    "        'hands_joint_source': './data/predictions/hand_joint_data_test.csv',\n",
    "        'feet_joint_source': './data/predictions/feet_joint_data_test.csv',\n",
    "        'hands_narrowing_model': { 'model': '../trained_models/adam_no_weights_reg/hands_narrowing_adam_no_weights_reg_shuffle.h5', 'is_regression': True },\n",
    "        'wrists_narrowing_model': { 'model': '../trained_models/adam_no_weights_reg/wrists_narrowing_adam_no_weights_reg_shuffle.h5', 'is_regression': True },\n",
    "        'feet_narrowing_model': { 'model': '../trained_models/adam_no_weights_reg/feet_narrowing_adam_no_weights_reg_shuffle_hand_pretrain.h5', 'is_regression': True },\n",
    "        'hands_erosion_model': { 'model': '../trained_models/adam_no_weights_reg/hands_erosion_adam_no_weights_reg_shuffle.h5', 'is_regression': True },\n",
    "        'wrists_erosion_model': { 'model': '../trained_models/adam_no_weights_reg/wrists_erosion_adam_no_weights_reg_shuffle.h5', 'is_regression': True },\n",
    "        'feet_erosion_model': { 'model': '../trained_models/adam_no_weights_reg/feet_erosion_adam_no_weights_reg_shuffle_hand_pretrain.h5', 'is_regression': True },\n",
    "        'template_path': '../resources/template.csv',\n",
    "        'output_path': '../trained_models/adam_no_weights_reg_shuffle_hand_pretrain_val_output.csv',\n",
    "    }\n",
    "\n",
    "predict_dream_test_set(config, predict_params)"
   ]
  }
 ],
 "metadata": {
  "kernelspec": {
   "display_name": "Python 3",
   "language": "python",
   "name": "python3"
  },
  "language_info": {
   "codemirror_mode": {
    "name": "ipython",
    "version": 3
   },
   "file_extension": ".py",
   "mimetype": "text/x-python",
   "name": "python",
   "nbconvert_exporter": "python",
   "pygments_lexer": "ipython3",
   "version": "3.7.3"
  }
 },
 "nbformat": 4,
 "nbformat_minor": 4
}
