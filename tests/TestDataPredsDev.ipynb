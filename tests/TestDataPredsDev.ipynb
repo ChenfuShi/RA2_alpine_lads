{
 "cells": [
  {
   "cell_type": "code",
   "execution_count": 1,
   "metadata": {},
   "outputs": [],
   "source": [
    "import os\n",
    "\n",
    "os.chdir('/mnt/jw01-aruk-home01/projects/ra_challenge/RA_challenge/michael_dev/RA2_alpine_lads/ra_joint_predictions')"
   ]
  },
  {
   "cell_type": "code",
   "execution_count": 2,
   "metadata": {},
   "outputs": [],
   "source": [
    "from utils.config import Config\n",
    "\n",
    "config = Config()"
   ]
  },
  {
   "cell_type": "code",
   "execution_count": 3,
   "metadata": {},
   "outputs": [],
   "source": [
    "import numpy as np\n",
    "import tensorflow as tf\n",
    "\n",
    "from model.utils.metrics import argmax_rsme, softmax_rsme_metric, class_softmax_rsme_metric\n",
    "\n",
    "dependencies = {\n",
    "    'softmax_rsme': softmax_rsme_metric(np.arange(5)),\n",
    "    'argmax_rsme': argmax_rsme,\n",
    "    'class_softmax_rmse_0': class_softmax_rsme_metric(np.arange(5), 0)\n",
    "}\n",
    "\n",
    "narrowing_model = tf.keras.models.load_model('./pretrained_models/joint_erosion_model_v1.h5', custom_objects=dependencies)"
   ]
  },
  {
   "cell_type": "code",
   "execution_count": 4,
   "metadata": {},
   "outputs": [],
   "source": [
    "import numpy as np\n",
    "import dataset.joint_dataset as joint_dataset\n",
    "from dataset.test_dataset import joint_test_dataset\n",
    "\n",
    "dataset = joint_test_dataset(config, config.train_fixed_location)\n",
    "feet_test_dataset = dataset.get_feet_joint_test_dataset()\n",
    "\n",
    "preds = {}\n",
    "\n",
    "for file_info, img in feet_test_dataset:\n",
    "    file_info = file_info.numpy()\n",
    "    \n",
    "    img_info = file_info[0].decode('utf-8').split('.')[0]\n",
    "    key = file_info[3].decode('utf-8')\n",
    "    \n",
    "    patient_info = img_info.split('-')\n",
    "    patient_id = patient_info[0]\n",
    "    part = patient_info[1]\n",
    "    \n",
    "    # If patient_id is not found, init with empty struct\n",
    "    if not patient_id in preds.keys():\n",
    "        preds[patient_id] = {\n",
    "            'Patient_ID': patient_id\n",
    "        }\n",
    "        \n",
    "    outcome_key = joint_dataset.foot_outcome_mapping[key][0][0].format(part = part)\n",
    "        \n",
    "    y_pred = narrowing_model.predict(tf.expand_dims(img, 0))\n",
    "    y_pred = np.sum(y_pred * np.arange(5))\n",
    "    \n",
    "    preds[patient_id][outcome_key] = y_pred"
   ]
  },
  {
   "cell_type": "code",
   "execution_count": 5,
   "metadata": {},
   "outputs": [],
   "source": [
    "import pandas as pd\n",
    "\n",
    "x = pd.DataFrame(preds.values(), index = np.arange(len(preds.values())))"
   ]
  },
  {
   "cell_type": "code",
   "execution_count": 6,
   "metadata": {},
   "outputs": [],
   "source": [
    "narrowing_mask = ['_J_' in column_name for column_name in x.columns]\n",
    "narrowing_sum = np.sum(x.iloc[:, narrowing_mask].to_numpy(), axis = 1)\n",
    "\n",
    "x['Overall_narrowing'] = narrowing_sum"
   ]
  },
  {
   "cell_type": "code",
   "execution_count": 7,
   "metadata": {},
   "outputs": [],
   "source": [
    "true = pd.read_csv(config.train_location + '/training.csv')"
   ]
  },
  {
   "cell_type": "code",
   "execution_count": 8,
   "metadata": {},
   "outputs": [],
   "source": [
    "mask = [patient_id in x['Patient_ID'].to_numpy() for patient_id in true['Patient_ID']]\n",
    "\n",
    "true_part = true.iloc[mask]"
   ]
  },
  {
   "cell_type": "code",
   "execution_count": 14,
   "metadata": {},
   "outputs": [],
   "source": [
    "cols = ['LF_mtp_J__1', 'LF_mtp_J__2', 'LF_mtp_J__3', 'LF_mtp_J__4','LF_mtp_J__5', 'LF_mtp_J__ip','RF_mtp_J__1','RF_mtp_J__2','RF_mtp_J__3', 'RF_mtp_J__4','RF_mtp_J__5','RF_mtp_J__ip']\n",
    "\n",
    "pred = x[cols].to_numpy()\n",
    "truth = true_part[cols].to_numpy()"
   ]
  },
  {
   "cell_type": "code",
   "execution_count": 15,
   "metadata": {},
   "outputs": [],
   "source": [
    "rsme = np.sqrt(np.mean(np.square(pred - truth), axis = 0))"
   ]
  },
  {
   "cell_type": "code",
   "execution_count": 16,
   "metadata": {},
   "outputs": [
    {
     "name": "stdout",
     "output_type": "stream",
     "text": [
      "[1.09348031 1.00434937 1.17243929 1.14839225 1.16737918 0.79881684\n",
      " 1.20975802 1.24169407 1.33511884 1.3210651  1.47863203 0.99052181]\n"
     ]
    }
   ],
   "source": [
    "print(rsme)"
   ]
  },
  {
   "cell_type": "code",
   "execution_count": 19,
   "metadata": {},
   "outputs": [],
   "source": [
    "ov_narrow = np.sum(pred, axis = 1)\n",
    "ov_true_narrow = np.sum(truth, axis = 1)"
   ]
  },
  {
   "cell_type": "code",
   "execution_count": 20,
   "metadata": {},
   "outputs": [
    {
     "name": "stdout",
     "output_type": "stream",
     "text": [
      "10.101996592949074\n"
     ]
    }
   ],
   "source": [
    "ov_rsme = np.sqrt(np.mean(np.square(ov_narrow - ov_true_narrow), axis = 0))\n",
    "\n",
    "print(ov_rsme)"
   ]
  },
  {
   "cell_type": "code",
   "execution_count": null,
   "metadata": {},
   "outputs": [],
   "source": []
  }
 ],
 "metadata": {
  "kernelspec": {
   "display_name": "Python 3",
   "language": "python",
   "name": "python3"
  },
  "language_info": {
   "codemirror_mode": {
    "name": "ipython",
    "version": 3
   },
   "file_extension": ".py",
   "mimetype": "text/x-python",
   "name": "python",
   "nbconvert_exporter": "python",
   "pygments_lexer": "ipython3",
   "version": "3.7.3"
  }
 },
 "nbformat": 4,
 "nbformat_minor": 4
}
