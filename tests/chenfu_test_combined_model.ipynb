{
 "cells": [
  {
   "cell_type": "code",
   "execution_count": 1,
   "metadata": {},
   "outputs": [],
   "source": [
    "import os\n",
    "os.chdir('/mnt/jw01-aruk-home01/projects/ra_challenge/RA_challenge/RA2_alpine_lads/ra_joint_predictions')"
   ]
  },
  {
   "cell_type": "code",
   "execution_count": 2,
   "metadata": {},
   "outputs": [],
   "source": [
    "import tensorflow as tf\n",
    "import numpy as np\n",
    "import pandas as pd\n",
    "import matplotlib.pyplot as plt\n",
    "from tensorflow import keras\n",
    "from utils.config import Config\n",
    "import PIL\n",
    "import json\n",
    "import logging\n",
    "import re\n",
    "import seaborn as sns\n",
    "from sklearn.metrics import mean_squared_error, mean_absolute_error"
   ]
  },
  {
   "cell_type": "code",
   "execution_count": 3,
   "metadata": {},
   "outputs": [],
   "source": [
    "configuration = Config()\n",
    "tf.config.threading.set_intra_op_parallelism_threads(20)\n",
    "tf.config.threading.set_inter_op_parallelism_threads(20)"
   ]
  },
  {
   "cell_type": "code",
   "execution_count": null,
   "metadata": {},
   "outputs": [],
   "source": []
  },
  {
   "cell_type": "code",
   "execution_count": 4,
   "metadata": {},
   "outputs": [],
   "source": [
    "from dataset import overall_joints_dataset\n",
    "from prediction import joint_damage\n",
    "from dataset.joints.joint_extractor_factory import get_joint_extractor"
   ]
  },
  {
   "cell_type": "code",
   "execution_count": 5,
   "metadata": {},
   "outputs": [],
   "source": [
    "def robust_mean(scores):\n",
    "    scores = np.sort(scores)\n",
    "    size_p = len(scores)//10\n",
    "    mean_score = np.mean(scores[size_p:len(scores)-size_p])\n",
    "    return mean_score\n",
    "    \n",
    "def _prepare_image(img_arr):\n",
    "    imgs = [np.expand_dims(x.numpy(),0) for x in img_arr]\n",
    "    return imgs"
   ]
  },
  {
   "cell_type": "code",
   "execution_count": 7,
   "metadata": {},
   "outputs": [],
   "source": [
    "hands_model = keras.models.load_model(\"weights/SC1_v3A_hand_erosion_mae_adamwafter_model_100.h5\", compile = False)"
   ]
  },
  {
   "cell_type": "code",
   "execution_count": 8,
   "metadata": {},
   "outputs": [],
   "source": [
    "hand_extractor = get_joint_extractor(\"H\", True) \n",
    "ds = overall_joints_dataset.hands_overall_joints_dataset(configuration, 'test', joint_extractor = hand_extractor, force_augment = False, erosion_flag = True).create_hands_overall_joints_dataset(\"/mnt/iusers01/jw01/mdefscs4/ra_challenge/RA_challenge/training_dataset/training.csv\",joints_source = './data/predictions/hand_joint_data_test_v2.csv')\n"
   ]
  },
  {
   "cell_type": "code",
   "execution_count": 10,
   "metadata": {},
   "outputs": [],
   "source": [
    "results = {}\n",
    "for iteration in range(1):\n",
    "    for x in ds:\n",
    "        imgs, img_id = _prepare_image(x[1]), x[0].numpy()[0].decode(\"utf-8\")\n",
    "        res = hands_model.predict(imgs)\n",
    "        try:\n",
    "            results[img_id].append(res[0][0])\n",
    "        except:\n",
    "            results[img_id] = [res[0][0]]"
   ]
  },
  {
   "cell_type": "code",
   "execution_count": 11,
   "metadata": {},
   "outputs": [],
   "source": [
    "for item in results:\n",
    "    results[item] = robust_mean(results[item])"
   ]
  },
  {
   "cell_type": "code",
   "execution_count": 12,
   "metadata": {},
   "outputs": [],
   "source": [
    "result = pd.DataFrame.from_dict(results,orient='index')\n",
    "result.columns = [\"Prediction\"]\n",
    "result[\"patient\"] = result.index.str.split(\"-\").str[0]\n",
    "result[\"side\"] = result.index.str.split(\"-\").str[1]\n",
    "result = result.pivot(index = \"patient\", values=\"Prediction\", columns=\"side\")"
   ]
  },
  {
   "cell_type": "code",
   "execution_count": 13,
   "metadata": {},
   "outputs": [],
   "source": [
    "ground_truth_df = pd.read_csv(\"/mnt/iusers01/jw01/mdefscs4/ra_challenge/RA_challenge/training_dataset/training.csv\")\n",
    "ground_truth_df = ground_truth_df.set_index(\"Patient_ID\")\n",
    "what = \".*H.*E.*\"\n",
    "what = re.compile(what)\n",
    "wanted_cols = list(filter(what.match, ground_truth_df.columns))\n",
    "merged_df=result.merge(ground_truth_df.loc[:,wanted_cols],how=\"inner\",left_on = \"patient\", right_index=True)\n",
    "truth_idx = [\"LH_\" in x for x in merged_df.columns]\n",
    "merged_df[\"Overall_truth LH\"] =  merged_df.loc[:,truth_idx].sum(axis = 1)\n",
    "truth_idx = [\"RH_\" in x for x in merged_df.columns]\n",
    "merged_df[\"Overall_truth RH\"] =  merged_df.loc[:,truth_idx].sum(axis = 1)\n"
   ]
  },
  {
   "cell_type": "code",
   "execution_count": 14,
   "metadata": {},
   "outputs": [
    {
     "data": {
      "text/html": [
       "<div>\n",
       "<style scoped>\n",
       "    .dataframe tbody tr th:only-of-type {\n",
       "        vertical-align: middle;\n",
       "    }\n",
       "\n",
       "    .dataframe tbody tr th {\n",
       "        vertical-align: top;\n",
       "    }\n",
       "\n",
       "    .dataframe thead th {\n",
       "        text-align: right;\n",
       "    }\n",
       "</style>\n",
       "<table border=\"1\" class=\"dataframe\">\n",
       "  <thead>\n",
       "    <tr style=\"text-align: right;\">\n",
       "      <th></th>\n",
       "      <th>LH</th>\n",
       "      <th>RH</th>\n",
       "      <th>Overall_truth LH</th>\n",
       "      <th>Overall_truth RH</th>\n",
       "    </tr>\n",
       "    <tr>\n",
       "      <th>patient</th>\n",
       "      <th></th>\n",
       "      <th></th>\n",
       "      <th></th>\n",
       "      <th></th>\n",
       "    </tr>\n",
       "  </thead>\n",
       "  <tbody>\n",
       "    <tr>\n",
       "      <th>UAB002</th>\n",
       "      <td>0.367023</td>\n",
       "      <td>0.340499</td>\n",
       "      <td>0</td>\n",
       "      <td>0</td>\n",
       "    </tr>\n",
       "    <tr>\n",
       "      <th>UAB018</th>\n",
       "      <td>0.243420</td>\n",
       "      <td>0.461091</td>\n",
       "      <td>1</td>\n",
       "      <td>0</td>\n",
       "    </tr>\n",
       "    <tr>\n",
       "      <th>UAB030</th>\n",
       "      <td>0.531496</td>\n",
       "      <td>0.245384</td>\n",
       "      <td>1</td>\n",
       "      <td>1</td>\n",
       "    </tr>\n",
       "    <tr>\n",
       "      <th>UAB032</th>\n",
       "      <td>0.666047</td>\n",
       "      <td>0.866244</td>\n",
       "      <td>0</td>\n",
       "      <td>2</td>\n",
       "    </tr>\n",
       "    <tr>\n",
       "      <th>UAB036</th>\n",
       "      <td>0.675883</td>\n",
       "      <td>0.333679</td>\n",
       "      <td>2</td>\n",
       "      <td>0</td>\n",
       "    </tr>\n",
       "    <tr>\n",
       "      <th>...</th>\n",
       "      <td>...</td>\n",
       "      <td>...</td>\n",
       "      <td>...</td>\n",
       "      <td>...</td>\n",
       "    </tr>\n",
       "    <tr>\n",
       "      <th>UAB700</th>\n",
       "      <td>0.167957</td>\n",
       "      <td>0.692536</td>\n",
       "      <td>0</td>\n",
       "      <td>0</td>\n",
       "    </tr>\n",
       "    <tr>\n",
       "      <th>UAB701</th>\n",
       "      <td>1.939353</td>\n",
       "      <td>0.837275</td>\n",
       "      <td>21</td>\n",
       "      <td>19</td>\n",
       "    </tr>\n",
       "    <tr>\n",
       "      <th>UAB706</th>\n",
       "      <td>17.484371</td>\n",
       "      <td>17.779818</td>\n",
       "      <td>75</td>\n",
       "      <td>73</td>\n",
       "    </tr>\n",
       "    <tr>\n",
       "      <th>UAB707</th>\n",
       "      <td>0.844412</td>\n",
       "      <td>0.582922</td>\n",
       "      <td>0</td>\n",
       "      <td>0</td>\n",
       "    </tr>\n",
       "    <tr>\n",
       "      <th>UAB716</th>\n",
       "      <td>0.393832</td>\n",
       "      <td>-0.205745</td>\n",
       "      <td>0</td>\n",
       "      <td>0</td>\n",
       "    </tr>\n",
       "  </tbody>\n",
       "</table>\n",
       "<p>92 rows × 4 columns</p>\n",
       "</div>"
      ],
      "text/plain": [
       "                LH         RH  Overall_truth LH  Overall_truth RH\n",
       "patient                                                          \n",
       "UAB002    0.367023   0.340499                 0                 0\n",
       "UAB018    0.243420   0.461091                 1                 0\n",
       "UAB030    0.531496   0.245384                 1                 1\n",
       "UAB032    0.666047   0.866244                 0                 2\n",
       "UAB036    0.675883   0.333679                 2                 0\n",
       "...            ...        ...               ...               ...\n",
       "UAB700    0.167957   0.692536                 0                 0\n",
       "UAB701    1.939353   0.837275                21                19\n",
       "UAB706   17.484371  17.779818                75                73\n",
       "UAB707    0.844412   0.582922                 0                 0\n",
       "UAB716    0.393832  -0.205745                 0                 0\n",
       "\n",
       "[92 rows x 4 columns]"
      ]
     },
     "execution_count": 14,
     "metadata": {},
     "output_type": "execute_result"
    }
   ],
   "source": [
    "merged_df[[\"LH\",\"RH\",\"Overall_truth LH\",\"Overall_truth RH\"]]"
   ]
  },
  {
   "cell_type": "code",
   "execution_count": 15,
   "metadata": {},
   "outputs": [
    {
     "data": {
      "text/plain": [
       "<matplotlib.axes._subplots.AxesSubplot at 0x7f91f52f9cc0>"
      ]
     },
     "execution_count": 15,
     "metadata": {},
     "output_type": "execute_result"
    },
    {
     "data": {
      "image/png": "[encoded data removed]",
      "text/plain": [
       "<Figure size 432x288 with 1 Axes>"
      ]
     },
     "metadata": {
      "needs_background": "light"
     },
     "output_type": "display_data"
    }
   ],
   "source": [
    "sns.scatterplot(data = merged_df, x=\"Overall_truth RH\",y=\"RH\")"
   ]
  },
  {
   "cell_type": "code",
   "execution_count": 16,
   "metadata": {},
   "outputs": [
    {
     "data": {
      "text/plain": [
       "2.532570796816245"
      ]
     },
     "execution_count": 16,
     "metadata": {},
     "output_type": "execute_result"
    }
   ],
   "source": [
    "mean_absolute_error(merged_df[\"Overall_truth LH\"],merged_df[\"LH\"])"
   ]
  },
  {
   "cell_type": "code",
   "execution_count": 17,
   "metadata": {},
   "outputs": [
    {
     "data": {
      "text/plain": [
       "2.983315591416929"
      ]
     },
     "execution_count": 17,
     "metadata": {},
     "output_type": "execute_result"
    }
   ],
   "source": [
    "mean_absolute_error(merged_df[\"Overall_truth RH\"],merged_df[\"RH\"])"
   ]
  },
  {
   "cell_type": "code",
   "execution_count": 36,
   "metadata": {},
   "outputs": [
    {
     "data": {
      "text/plain": [
       "2.4030142667824808"
      ]
     },
     "execution_count": 36,
     "metadata": {},
     "output_type": "execute_result"
    }
   ],
   "source": [
    "hands_model = keras.models.load_model(\"weights/SC1_v3A_hand_narrowing_mae_adamwafter_model_100.h5\", compile = False)\n",
    "hand_extractor = get_joint_extractor(\"H\", False) \n",
    "ds = overall_joints_dataset.hands_overall_joints_dataset(configuration, 'test', joint_extractor = hand_extractor, force_augment = False, erosion_flag = False).create_hands_overall_joints_dataset(\"/mnt/iusers01/jw01/mdefscs4/ra_challenge/RA_challenge/training_dataset/training.csv\",joints_source = './data/predictions/hand_joint_data_test_v2.csv')\n",
    "results = {}\n",
    "for iteration in range(1):\n",
    "    for x in ds:\n",
    "        imgs, img_id = _prepare_image(x[1]), x[0].numpy()[0].decode(\"utf-8\")\n",
    "        res = hands_model.predict(imgs)\n",
    "        try:\n",
    "            results[img_id].append(res[0][0])\n",
    "        except:\n",
    "            results[img_id] = [res[0][0]]\n",
    "        \n",
    "for item in results:\n",
    "    results[item] = robust_mean(results[item])\n",
    "    \n",
    "result = pd.DataFrame.from_dict(results,orient='index')\n",
    "result.columns = [\"Prediction\"]\n",
    "result[\"patient\"] = result.index.str.split(\"-\").str[0]\n",
    "result[\"side\"] = result.index.str.split(\"-\").str[1]\n",
    "result = result.pivot(index = \"patient\", values=\"Prediction\", columns=\"side\")\n",
    "\n",
    "ground_truth_df = pd.read_csv(\"/mnt/iusers01/jw01/mdefscs4/ra_challenge/RA_challenge/training_dataset/training.csv\")\n",
    "ground_truth_df = ground_truth_df.set_index(\"Patient_ID\")\n",
    "what = \".*H.*J.*\"\n",
    "what = re.compile(what)\n",
    "wanted_cols = list(filter(what.match, ground_truth_df.columns))\n",
    "merged_df=result.merge(ground_truth_df.loc[:,wanted_cols],how=\"inner\",left_on = \"patient\", right_index=True)\n",
    "truth_idx = [\"LH_\" in x for x in merged_df.columns]\n",
    "merged_df[\"Overall_truth LH\"] =  merged_df.loc[:,truth_idx].sum(axis = 1)\n",
    "truth_idx = [\"RH_\" in x for x in merged_df.columns]\n",
    "merged_df[\"Overall_truth RH\"] =  merged_df.loc[:,truth_idx].sum(axis = 1)\n",
    "\n",
    "mean_absolute_error(merged_df[\"Overall_truth LH\"],merged_df[\"LH\"])"
   ]
  },
  {
   "cell_type": "code",
   "execution_count": 37,
   "metadata": {},
   "outputs": [
    {
     "data": {
      "text/plain": [
       "2.2876500741619132"
      ]
     },
     "execution_count": 37,
     "metadata": {},
     "output_type": "execute_result"
    }
   ],
   "source": [
    "mean_absolute_error(merged_df[\"Overall_truth RH\"],merged_df[\"RH\"])"
   ]
  },
  {
   "cell_type": "markdown",
   "metadata": {},
   "source": [
    "# feet"
   ]
  },
  {
   "cell_type": "code",
   "execution_count": 24,
   "metadata": {},
   "outputs": [],
   "source": [
    "feet_model = keras.models.load_model(\"weights/SC1_v3A_feet_erosion_mae_adamwafter_model_100.h5\", compile = False)"
   ]
  },
  {
   "cell_type": "code",
   "execution_count": 25,
   "metadata": {},
   "outputs": [],
   "source": [
    "foot_extractor = get_joint_extractor(\"F\", False)\n",
    "ds = overall_joints_dataset.feet_overall_joints_dataset(configuration, 'test', joint_extractor = foot_extractor, force_augment = False, erosion_flag = True).create_feet_overall_joints_dataset(\"/mnt/iusers01/jw01/mdefscs4/ra_challenge/RA_challenge/training_dataset/training.csv\",joints_source = './data/predictions/feet_joint_data_test_v2.csv')\n"
   ]
  },
  {
   "cell_type": "code",
   "execution_count": 26,
   "metadata": {},
   "outputs": [],
   "source": [
    "results = {}\n",
    "for iteration in range(1):\n",
    "    for x in ds:\n",
    "        imgs, img_id = _prepare_image(x[1]), x[0].numpy()[0].decode(\"utf-8\")\n",
    "        res = feet_model.predict(imgs)\n",
    "        try:\n",
    "            results[img_id].append(res[0][0])\n",
    "        except:\n",
    "            results[img_id] = [res[0][0]]"
   ]
  },
  {
   "cell_type": "code",
   "execution_count": 27,
   "metadata": {},
   "outputs": [],
   "source": [
    "for item in results:\n",
    "    results[item] = sum(results[item])/len(results[item])"
   ]
  },
  {
   "cell_type": "code",
   "execution_count": 28,
   "metadata": {},
   "outputs": [],
   "source": [
    "result = pd.DataFrame.from_dict(results,orient='index')\n",
    "result.columns = [\"Prediction\"]\n",
    "result[\"patient\"] = result.index.str.split(\"-\").str[0]\n",
    "result[\"side\"] = result.index.str.split(\"-\").str[1]\n",
    "result = result.pivot(index = \"patient\", values=\"Prediction\", columns=\"side\")"
   ]
  },
  {
   "cell_type": "code",
   "execution_count": 29,
   "metadata": {},
   "outputs": [],
   "source": [
    "ground_truth_df = pd.read_csv(\"/mnt/iusers01/jw01/mdefscs4/ra_challenge/RA_challenge/training_dataset/training.csv\")\n",
    "ground_truth_df = ground_truth_df.set_index(\"Patient_ID\")\n",
    "what = \".*F.*E.*\"\n",
    "what = re.compile(what)\n",
    "wanted_cols = list(filter(what.match, ground_truth_df.columns))\n",
    "merged_df=result.merge(ground_truth_df.loc[:,wanted_cols],how=\"inner\",left_on = \"patient\", right_index=True)\n",
    "truth_idx = [\"LF_\" in x for x in merged_df.columns]\n",
    "merged_df[\"Overall_truth LF\"] =  merged_df.loc[:,truth_idx].sum(axis = 1)\n",
    "truth_idx = [\"RF_\" in x for x in merged_df.columns]\n",
    "merged_df[\"Overall_truth RF\"] =  merged_df.loc[:,truth_idx].sum(axis = 1)\n"
   ]
  },
  {
   "cell_type": "code",
   "execution_count": 30,
   "metadata": {},
   "outputs": [
    {
     "data": {
      "text/html": [
       "<div>\n",
       "<style scoped>\n",
       "    .dataframe tbody tr th:only-of-type {\n",
       "        vertical-align: middle;\n",
       "    }\n",
       "\n",
       "    .dataframe tbody tr th {\n",
       "        vertical-align: top;\n",
       "    }\n",
       "\n",
       "    .dataframe thead th {\n",
       "        text-align: right;\n",
       "    }\n",
       "</style>\n",
       "<table border=\"1\" class=\"dataframe\">\n",
       "  <thead>\n",
       "    <tr style=\"text-align: right;\">\n",
       "      <th></th>\n",
       "      <th>LF</th>\n",
       "      <th>RF</th>\n",
       "      <th>Overall_truth LF</th>\n",
       "      <th>Overall_truth RF</th>\n",
       "    </tr>\n",
       "    <tr>\n",
       "      <th>patient</th>\n",
       "      <th></th>\n",
       "      <th></th>\n",
       "      <th></th>\n",
       "      <th></th>\n",
       "    </tr>\n",
       "  </thead>\n",
       "  <tbody>\n",
       "    <tr>\n",
       "      <th>UAB002</th>\n",
       "      <td>0.600677</td>\n",
       "      <td>0.651007</td>\n",
       "      <td>0</td>\n",
       "      <td>0</td>\n",
       "    </tr>\n",
       "    <tr>\n",
       "      <th>UAB018</th>\n",
       "      <td>0.392606</td>\n",
       "      <td>0.632534</td>\n",
       "      <td>0</td>\n",
       "      <td>0</td>\n",
       "    </tr>\n",
       "    <tr>\n",
       "      <th>UAB030</th>\n",
       "      <td>0.188267</td>\n",
       "      <td>1.084981</td>\n",
       "      <td>0</td>\n",
       "      <td>0</td>\n",
       "    </tr>\n",
       "    <tr>\n",
       "      <th>UAB032</th>\n",
       "      <td>3.645837</td>\n",
       "      <td>4.597703</td>\n",
       "      <td>6</td>\n",
       "      <td>5</td>\n",
       "    </tr>\n",
       "    <tr>\n",
       "      <th>UAB036</th>\n",
       "      <td>1.908134</td>\n",
       "      <td>0.695258</td>\n",
       "      <td>2</td>\n",
       "      <td>2</td>\n",
       "    </tr>\n",
       "    <tr>\n",
       "      <th>...</th>\n",
       "      <td>...</td>\n",
       "      <td>...</td>\n",
       "      <td>...</td>\n",
       "      <td>...</td>\n",
       "    </tr>\n",
       "    <tr>\n",
       "      <th>UAB700</th>\n",
       "      <td>0.534378</td>\n",
       "      <td>2.777970</td>\n",
       "      <td>0</td>\n",
       "      <td>4</td>\n",
       "    </tr>\n",
       "    <tr>\n",
       "      <th>UAB701</th>\n",
       "      <td>1.798421</td>\n",
       "      <td>3.090504</td>\n",
       "      <td>5</td>\n",
       "      <td>6</td>\n",
       "    </tr>\n",
       "    <tr>\n",
       "      <th>UAB706</th>\n",
       "      <td>9.253454</td>\n",
       "      <td>8.688247</td>\n",
       "      <td>15</td>\n",
       "      <td>17</td>\n",
       "    </tr>\n",
       "    <tr>\n",
       "      <th>UAB707</th>\n",
       "      <td>1.327103</td>\n",
       "      <td>1.728765</td>\n",
       "      <td>0</td>\n",
       "      <td>0</td>\n",
       "    </tr>\n",
       "    <tr>\n",
       "      <th>UAB716</th>\n",
       "      <td>-0.041298</td>\n",
       "      <td>0.233989</td>\n",
       "      <td>0</td>\n",
       "      <td>0</td>\n",
       "    </tr>\n",
       "  </tbody>\n",
       "</table>\n",
       "<p>92 rows × 4 columns</p>\n",
       "</div>"
      ],
      "text/plain": [
       "               LF        RF  Overall_truth LF  Overall_truth RF\n",
       "patient                                                        \n",
       "UAB002   0.600677  0.651007                 0                 0\n",
       "UAB018   0.392606  0.632534                 0                 0\n",
       "UAB030   0.188267  1.084981                 0                 0\n",
       "UAB032   3.645837  4.597703                 6                 5\n",
       "UAB036   1.908134  0.695258                 2                 2\n",
       "...           ...       ...               ...               ...\n",
       "UAB700   0.534378  2.777970                 0                 4\n",
       "UAB701   1.798421  3.090504                 5                 6\n",
       "UAB706   9.253454  8.688247                15                17\n",
       "UAB707   1.327103  1.728765                 0                 0\n",
       "UAB716  -0.041298  0.233989                 0                 0\n",
       "\n",
       "[92 rows x 4 columns]"
      ]
     },
     "execution_count": 30,
     "metadata": {},
     "output_type": "execute_result"
    }
   ],
   "source": [
    "merged_df[[\"LF\",\"RF\",\"Overall_truth LF\",\"Overall_truth RF\"]]"
   ]
  },
  {
   "cell_type": "code",
   "execution_count": 31,
   "metadata": {},
   "outputs": [
    {
     "data": {
      "text/plain": [
       "<matplotlib.axes._subplots.AxesSubplot at 0x7f91f43e6080>"
      ]
     },
     "execution_count": 31,
     "metadata": {},
     "output_type": "execute_result"
    },
    {
     "data": {
      "image/png": "[encoded data removed]",
      "text/plain": [
       "<Figure size 432x288 with 1 Axes>"
      ]
     },
     "metadata": {
      "needs_background": "light"
     },
     "output_type": "display_data"
    }
   ],
   "source": [
    "sns.scatterplot(data = merged_df, x=\"Overall_truth LF\",y=\"LF\")"
   ]
  },
  {
   "cell_type": "code",
   "execution_count": 32,
   "metadata": {},
   "outputs": [
    {
     "data": {
      "text/plain": [
       "1.481345316476148"
      ]
     },
     "execution_count": 32,
     "metadata": {},
     "output_type": "execute_result"
    }
   ],
   "source": [
    "mean_absolute_error(merged_df[\"Overall_truth LF\"],merged_df[\"LF\"])"
   ]
  },
  {
   "cell_type": "code",
   "execution_count": 33,
   "metadata": {},
   "outputs": [
    {
     "data": {
      "text/plain": [
       "1.5285215282245823"
      ]
     },
     "execution_count": 33,
     "metadata": {},
     "output_type": "execute_result"
    }
   ],
   "source": [
    "mean_absolute_error(merged_df[\"Overall_truth RF\"],merged_df[\"RF\"])"
   ]
  },
  {
   "cell_type": "code",
   "execution_count": null,
   "metadata": {},
   "outputs": [],
   "source": [
    "feet_model = keras.models.load_model(\"weights/SC1_v3A_feet_narrowing_mae_adamwafter_model_100.h5\", compile = False)\n",
    "foot_extractor = get_joint_extractor(\"F\", False)\n",
    "ds = overall_joints_dataset.feet_overall_joints_dataset(configuration, 'test', joint_extractor = foot_extractor, force_augment = True).create_feet_overall_joints_dataset(\"/mnt/iusers01/jw01/mdefscs4/ra_challenge/RA_challenge/training_dataset/training.csv\",joints_source = './data/predictions/feet_joint_data_test_v2.csv')\n",
    "results = {}\n",
    "for iteration in range(100):\n",
    "    for x in ds:\n",
    "        imgs, img_id = _prepare_image(x[1]), x[0].numpy()[0].decode(\"utf-8\")\n",
    "        res = feet_model.predict(imgs)\n",
    "        try:\n",
    "            results[img_id].append(res[0][0])\n",
    "        except:\n",
    "            results[img_id] = [res[0][0]]\n",
    "        \n",
    "for item in results:\n",
    "    results[item] = sum(results[item])/len(results[item])\n",
    "    \n",
    "result = pd.DataFrame.from_dict(results,orient='index')\n",
    "result.columns = [\"Prediction\"]\n",
    "result[\"patient\"] = result.index.str.split(\"-\").str[0]\n",
    "result[\"side\"] = result.index.str.split(\"-\").str[1]\n",
    "result = result.pivot(index = \"patient\", values=\"Prediction\", columns=\"side\")\n",
    "\n",
    "ground_truth_df = pd.read_csv(\"/mnt/iusers01/jw01/mdefscs4/ra_challenge/RA_challenge/training_dataset/training.csv\")\n",
    "ground_truth_df = ground_truth_df.set_index(\"Patient_ID\")\n",
    "what = \".*F.*J.*\"\n",
    "what = re.compile(what)\n",
    "wanted_cols = list(filter(what.match, ground_truth_df.columns))\n",
    "merged_df=result.merge(ground_truth_df.loc[:,wanted_cols],how=\"inner\",left_on = \"patient\", right_index=True)\n",
    "truth_idx = [\"LF_\" in x for x in merged_df.columns]\n",
    "merged_df[\"Overall_truth LF\"] =  merged_df.loc[:,truth_idx].sum(axis = 1)\n",
    "truth_idx = [\"RF_\" in x for x in merged_df.columns]\n",
    "merged_df[\"Overall_truth RF\"] =  merged_df.loc[:,truth_idx].sum(axis = 1)\n",
    "\n",
    "mean_absolute_error(merged_df[\"Overall_truth LF\"],merged_df[\"LF\"])"
   ]
  },
  {
   "cell_type": "code",
   "execution_count": null,
   "metadata": {},
   "outputs": [],
   "source": [
    "mean_absolute_error(merged_df[\"Overall_truth RF\"],merged_df[\"RF\"])"
   ]
  },
  {
   "cell_type": "code",
   "execution_count": null,
   "metadata": {},
   "outputs": [],
   "source": []
  },
  {
   "cell_type": "code",
   "execution_count": null,
   "metadata": {},
   "outputs": [],
   "source": [
    "for x in ds.take(1):\n",
    "    imgs, img_id = _prepare_image(x[1]), x[0].numpy()[0].decode(\"utf-8\")\n",
    "    plt.figure(figsize=(20,20))\n",
    "    for n in range(6):\n",
    "        ax = plt.subplot(5,5,n+1)\n",
    "        plt.imshow(imgs[n],cmap=\"gray\")"
   ]
  },
  {
   "cell_type": "code",
   "execution_count": null,
   "metadata": {},
   "outputs": [],
   "source": []
  }
 ],
 "metadata": {
  "kernelspec": {
   "display_name": "Python 3",
   "language": "python",
   "name": "python3"
  },
  "language_info": {
   "codemirror_mode": {
    "name": "ipython",
    "version": 3
   },
   "file_extension": ".py",
   "mimetype": "text/x-python",
   "name": "python",
   "nbconvert_exporter": "python",
   "pygments_lexer": "ipython3",
   "version": "3.7.3"
  }
 },
 "nbformat": 4,
 "nbformat_minor": 4
}
