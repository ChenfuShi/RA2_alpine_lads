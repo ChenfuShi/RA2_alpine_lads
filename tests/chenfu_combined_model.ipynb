{
 "cells": [
  {
   "cell_type": "code",
   "execution_count": 1,
   "metadata": {},
   "outputs": [],
   "source": [
    "import os\n",
    "os.chdir('/mnt/jw01-aruk-home01/projects/ra_challenge/RA_challenge/RA2_alpine_lads/ra_joint_predictions')"
   ]
  },
  {
   "cell_type": "code",
   "execution_count": 2,
   "metadata": {},
   "outputs": [],
   "source": [
    "import tensorflow as tf\n",
    "import numpy as np\n",
    "import pandas as pd\n",
    "import matplotlib.pyplot as plt\n",
    "from tensorflow import keras\n",
    "from utils.config import Config\n",
    "import PIL\n",
    "import json\n",
    "configuration = Config()"
   ]
  },
  {
   "cell_type": "code",
   "execution_count": 3,
   "metadata": {},
   "outputs": [],
   "source": [
    "import dataset.combined_joints_dataset as combset\n",
    "from prediction import joint_damage"
   ]
  },
  {
   "cell_type": "code",
   "execution_count": 38,
   "metadata": {},
   "outputs": [],
   "source": [
    "individual_model = keras.models.load_model(\"/mnt/iusers01/jw01/mdefscs4/ra_challenge/RA_challenge/michael_dev/RA2_alpine_lads/trained_models/v3/feet_narrowing_reg_rsnaonly_tallandnarrowjoints_sgd.h5\", compile = False)\n",
    "individual_model_2 = keras.models.Model(individual_model.inputs, individual_model.layers[-14].output) \n",
    "individual_model_2.trainable = False"
   ]
  },
  {
   "cell_type": "code",
   "execution_count": 39,
   "metadata": {},
   "outputs": [],
   "source": [
    "input_1 = keras.layers.Input(shape=(224,224,1))\n",
    "input_2 = keras.layers.Input(shape=(224,224,1))\n",
    "input_3 = keras.layers.Input(shape=(224,224,1))\n",
    "input_4 = keras.layers.Input(shape=(224,224,1))\n",
    "input_5 = keras.layers.Input(shape=(224,224,1))\n",
    "input_6 = keras.layers.Input(shape=(224,224,1))\n"
   ]
  },
  {
   "cell_type": "code",
   "execution_count": 40,
   "metadata": {},
   "outputs": [],
   "source": [
    "out1 = individual_model_2(input_1)\n",
    "out2 = individual_model_2(input_2)\n",
    "out3 = individual_model_2(input_3)\n",
    "out4 = individual_model_2(input_4)\n",
    "out5 = individual_model_2(input_5)\n",
    "out6 = individual_model_2(input_6)\n",
    "pred = keras.layers.Concatenate()([out1,out2,out3,out4,out5,out6,])\n",
    "pred = keras.layers.Dense(256, activation = \"relu\")(pred)\n",
    "pred = keras.layers.BatchNormalization()(pred)\n",
    "pred = keras.layers.Dropout(0.5)(pred)\n",
    "pred = keras.layers.Dense(256, activation = \"relu\")(pred)\n",
    "pred = keras.layers.BatchNormalization()(pred)\n",
    "pred = keras.layers.Dropout(0.5)(pred)\n",
    "pred = keras.layers.Dense(1)(pred)"
   ]
  },
  {
   "cell_type": "code",
   "execution_count": 41,
   "metadata": {},
   "outputs": [],
   "source": [
    "combined_model = keras.models.Model(inputs=[input_1,input_2,input_3,input_4,input_5,input_6], outputs=[pred])"
   ]
  },
  {
   "cell_type": "code",
   "execution_count": 42,
   "metadata": {},
   "outputs": [],
   "source": [
    "combined_model.compile(optimizer = \"adam\", loss = \"mean_squared_error\", metrics = [\"mae\"])"
   ]
  },
  {
   "cell_type": "code",
   "execution_count": 43,
   "metadata": {},
   "outputs": [
    {
     "data": {
      "text/plain": [
       "<tensorflow.python.keras.engine.training.Model at 0x7f8b5d9159e8>"
      ]
     },
     "execution_count": 43,
     "metadata": {},
     "output_type": "execute_result"
    }
   ],
   "source": [
    "combined_model"
   ]
  },
  {
   "cell_type": "code",
   "execution_count": 34,
   "metadata": {},
   "outputs": [],
   "source": [
    "train_dataset_class = combset.overall_test_feet(configuration,\"/mnt/jw01-aruk-home01/projects/ra_challenge/RA_challenge/training_dataset/fixed\")\n",
    "train_data = train_dataset_class.create_generator(outcomes_source = \"/mnt/iusers01/jw01/mdefscs4/ra_challenge/RA_challenge/training_dataset/training.csv\")"
   ]
  },
  {
   "cell_type": "code",
   "execution_count": 35,
   "metadata": {},
   "outputs": [],
   "source": [
    "val_dataset_class = combset.overall_test_feet(configuration,\"/mnt/jw01-aruk-home01/projects/ra_challenge/RA_challenge/training_dataset/fixed\")\n",
    "val_data = train_dataset_class.create_generator(outcomes_source = \"/mnt/iusers01/jw01/mdefscs4/ra_challenge/RA_challenge/training_dataset/training.csv\",joints_source= \"./data/predictions/feet_joint_data_test_v2.csv\")"
   ]
  },
  {
   "cell_type": "code",
   "execution_count": null,
   "metadata": {},
   "outputs": [
    {
     "name": "stdout",
     "output_type": "stream",
     "text": [
      "Epoch 1/10\n",
      "20/20 [==============================] - 167s 8s/step - loss: 15.5015 - mae: 2.5147 - val_loss: 16.7612 - val_mae: 2.8980\n",
      "Epoch 2/10\n",
      "20/20 [==============================] - 162s 8s/step - loss: 12.5136 - mae: 2.3147 - val_loss: 48.0001 - val_mae: 5.6098\n",
      "Epoch 3/10\n",
      "20/20 [==============================] - 162s 8s/step - loss: 10.6357 - mae: 2.2225 - val_loss: 43.3973 - val_mae: 3.2509\n",
      "Epoch 4/10\n",
      "20/20 [==============================] - 158s 8s/step - loss: 16.4037 - mae: 2.6080 - val_loss: 39.6233 - val_mae: 5.4350\n",
      "Epoch 5/10\n",
      "20/20 [==============================] - 156s 8s/step - loss: 9.0739 - mae: 2.0507 - val_loss: 7.6222 - val_mae: 1.8837\n",
      "Epoch 6/10\n",
      "13/20 [==================>...........] - ETA: 51s - loss: 14.2537 - mae: 2.2164"
     ]
    }
   ],
   "source": [
    "combined_model.fit_generator(train_data,validation_data = val_data, epochs = 10, steps_per_epoch = 20, validation_steps = 5)"
   ]
  },
  {
   "cell_type": "code",
   "execution_count": 25,
   "metadata": {},
   "outputs": [],
   "source": [
    "for layer in combined_model.layers:\n",
    "    layer.trainable = True"
   ]
  },
  {
   "cell_type": "code",
   "execution_count": 45,
   "metadata": {},
   "outputs": [
    {
     "name": "stdout",
     "output_type": "stream",
     "text": [
      "Model: \"model_8\"\n",
      "__________________________________________________________________________________________________\n",
      "Layer (type)                    Output Shape         Param #     Connected to                     \n",
      "==================================================================================================\n",
      "input_19 (InputLayer)           [(None, 224, 224, 1) 0                                            \n",
      "__________________________________________________________________________________________________\n",
      "input_20 (InputLayer)           [(None, 224, 224, 1) 0                                            \n",
      "__________________________________________________________________________________________________\n",
      "input_21 (InputLayer)           [(None, 224, 224, 1) 0                                            \n",
      "__________________________________________________________________________________________________\n",
      "input_22 (InputLayer)           [(None, 224, 224, 1) 0                                            \n",
      "__________________________________________________________________________________________________\n",
      "input_23 (InputLayer)           [(None, 224, 224, 1) 0                                            \n",
      "__________________________________________________________________________________________________\n",
      "input_24 (InputLayer)           [(None, 224, 224, 1) 0                                            \n",
      "__________________________________________________________________________________________________\n",
      "model_7 (Model)                 (None, 1152)         677536      input_19[0][0]                   \n",
      "                                                                 input_20[0][0]                   \n",
      "                                                                 input_21[0][0]                   \n",
      "                                                                 input_22[0][0]                   \n",
      "                                                                 input_23[0][0]                   \n",
      "                                                                 input_24[0][0]                   \n",
      "__________________________________________________________________________________________________\n",
      "concatenate_3 (Concatenate)     (None, 6912)         0           model_7[1][0]                    \n",
      "                                                                 model_7[2][0]                    \n",
      "                                                                 model_7[3][0]                    \n",
      "                                                                 model_7[4][0]                    \n",
      "                                                                 model_7[5][0]                    \n",
      "                                                                 model_7[6][0]                    \n",
      "__________________________________________________________________________________________________\n",
      "dense_8 (Dense)                 (None, 256)          1769728     concatenate_3[0][0]              \n",
      "__________________________________________________________________________________________________\n",
      "batch_normalization_5 (BatchNor (None, 256)          1024        dense_8[0][0]                    \n",
      "__________________________________________________________________________________________________\n",
      "dropout_4 (Dropout)             (None, 256)          0           batch_normalization_5[0][0]      \n",
      "__________________________________________________________________________________________________\n",
      "dense_9 (Dense)                 (None, 256)          65792       dropout_4[0][0]                  \n",
      "__________________________________________________________________________________________________\n",
      "batch_normalization_6 (BatchNor (None, 256)          1024        dense_9[0][0]                    \n",
      "__________________________________________________________________________________________________\n",
      "dropout_5 (Dropout)             (None, 256)          0           batch_normalization_6[0][0]      \n",
      "__________________________________________________________________________________________________\n",
      "dense_10 (Dense)                (None, 1)            257         dropout_5[0][0]                  \n",
      "==================================================================================================\n",
      "Total params: 2,515,361\n",
      "Trainable params: 1,836,801\n",
      "Non-trainable params: 678,560\n",
      "__________________________________________________________________________________________________\n"
     ]
    }
   ],
   "source": [
    "combined_model.summary()"
   ]
  },
  {
   "cell_type": "code",
   "execution_count": null,
   "metadata": {},
   "outputs": [],
   "source": []
  }
 ],
 "metadata": {
  "kernelspec": {
   "display_name": "Python 3",
   "language": "python",
   "name": "python3"
  },
  "language_info": {
   "codemirror_mode": {
    "name": "ipython",
    "version": 3
   },
   "file_extension": ".py",
   "mimetype": "text/x-python",
   "name": "python",
   "nbconvert_exporter": "python",
   "pygments_lexer": "ipython3",
   "version": "3.7.3"
  }
 },
 "nbformat": 4,
 "nbformat_minor": 4
}
