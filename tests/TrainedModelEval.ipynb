{
 "cells": [
  {
   "cell_type": "code",
   "execution_count": 1,
   "metadata": {},
   "outputs": [],
   "source": [
    "import os\n",
    "\n",
    "os.chdir('/mnt/jw01-aruk-home01/projects/ra_challenge/RA_challenge/michael_dev/RA2_alpine_lads/ra_joint_predictions')"
   ]
  },
  {
   "cell_type": "code",
   "execution_count": 2,
   "metadata": {},
   "outputs": [],
   "source": [
    "from utils.config import Config\n",
    "\n",
    "config = Config()"
   ]
  },
  {
   "cell_type": "code",
   "execution_count": 3,
   "metadata": {},
   "outputs": [
    {
     "name": "stdout",
     "output_type": "stream",
     "text": [
      "2020-05-10 10:48:57,920;WARNING - Missing permissions to create directory for caching!\n",
      "2020-05-10 10:48:58,072;WARNING - Missing permissions to create directory for caching!\n",
      "2020-05-10 10:48:58,303;WARNING - Missing permissions to create directory for caching!\n",
      "2020-05-10 10:48:58,453;WARNING - Missing permissions to create directory for caching!\n",
      "2020-05-10 10:48:58,606;WARNING - Missing permissions to create directory for caching!\n",
      "2020-05-10 10:49:02,258;WARNING - Missing permissions to create directory for caching!\n",
      "2020-05-10 10:49:02,409;WARNING - Missing permissions to create directory for caching!\n",
      "2020-05-10 10:49:02,560;WARNING - Missing permissions to create directory for caching!\n",
      "2020-05-10 10:49:02,714;WARNING - Missing permissions to create directory for caching!\n",
      "2020-05-10 10:49:02,992;WARNING - Missing permissions to create directory for caching!\n",
      "2020-05-10 10:49:03,993;WARNING - Missing permissions to create directory for caching!\n",
      "2020-05-10 10:49:04,144;WARNING - Missing permissions to create directory for caching!\n",
      "2020-05-10 10:49:04,294;WARNING - Missing permissions to create directory for caching!\n",
      "2020-05-10 10:49:04,585;WARNING - Missing permissions to create directory for caching!\n",
      "2020-05-10 10:49:04,738;WARNING - Missing permissions to create directory for caching!\n",
      "2020-05-10 10:49:05,671;WARNING - Missing permissions to create directory for caching!\n",
      "2020-05-10 10:49:05,822;WARNING - Missing permissions to create directory for caching!\n",
      "2020-05-10 10:49:05,972;WARNING - Missing permissions to create directory for caching!\n",
      "2020-05-10 10:49:06,295;WARNING - Missing permissions to create directory for caching!\n",
      "2020-05-10 10:49:06,445;WARNING - Missing permissions to create directory for caching!\n",
      "2020-05-10 10:49:07,838;WARNING - Missing permissions to create directory for caching!\n",
      "2020-05-10 10:49:07,840;WARNING - Missing permissions to create directory for caching!\n",
      "2020-05-10 10:49:09,223;WARNING - Missing permissions to create directory for caching!\n",
      "2020-05-10 10:49:09,225;WARNING - Missing permissions to create directory for caching!\n"
     ]
    }
   ],
   "source": [
    "from dataset.joint_val_dataset import hands_joints_val_dataset, feet_joint_val_dataset, hands_wrists_val_dataset\n",
    "from dataset.joints.joint_extractor import default_joint_extractor\n",
    "from dataset.joints.joint_extractor_factory import get_joint_extractor\n",
    "\n",
    "hands_ds = hands_joints_val_dataset(config, joint_extractor = get_joint_extractor('H', False), split_type = 'balanced')\n",
    "feet_ds = feet_joint_val_dataset(config, joint_extractor = get_joint_extractor('F', True), split_type = 'balanced')\n",
    "wrists_ds = hands_wrists_val_dataset(config)\n",
    "\n",
    "tf_hands_data = hands_ds.create_hands_joints_dataset_with_validation(config.train_location + '/training.csv', erosion_flag = False)\n",
    "tf_hands_e_data = hands_ds.create_hands_joints_dataset_with_validation(config.train_location + '/training.csv', erosion_flag = True)\n",
    "tf_feet_j_data = feet_ds.create_feet_joints_dataset_with_validation(config.train_location + '/training.csv', erosion_flag = False)\n",
    "tf_feet_e_data = feet_ds.create_feet_joints_dataset_with_validation(config.train_location + '/training.csv', erosion_flag = True)\n",
    "wrist_j_data = wrists_ds.create_wrists_joints_dataset_with_validation(config.train_location + '/training.csv', erosion_flag = False)\n",
    "wrist_e_data = wrists_ds.create_wrists_joints_dataset_with_validation(config.train_location + '/training.csv', erosion_flag = True)"
   ]
  },
  {
   "cell_type": "code",
   "execution_count": 29,
   "metadata": {},
   "outputs": [],
   "source": [
    "import numpy as np\n",
    "\n",
    "from tensorflow import keras\n",
    "from model.utils.metrics import mae_metric, rmse_metric, class_filter_rmse_metric, softmax_mae_metric, softmax_rmse_metric, class_filter_softmax_rmse_metric\n",
    "\n",
    "def eval_model(label, dataset, model_path, max_output, steps, filter_model_paths = None, filter_cutoff = 0.5):\n",
    "    model = keras.models.load_model(model_path, compile = False)\n",
    "    \n",
    "    if filter_model_paths is not None:\n",
    "        filter_models = [keras.models.load_model(filter_model_path, compile = False) for filter_model_path in filter_model_paths]\n",
    "    else:\n",
    "        filter_models = None\n",
    "    \n",
    "    truths = []\n",
    "    preds = []\n",
    "    \n",
    "    for x, y in dataset.take(steps):\n",
    "        if filter_models is not None:\n",
    "            filter_y_pred = filter_models[0].predict(x)\n",
    "            \n",
    "            for filter_model in filter_models[1:]:\n",
    "                filter_y_pred += filter_models[0].predict(x)\n",
    "                \n",
    "            filter_y_pred = filter_y_pred / len(filter_models)\n",
    "            \n",
    "            filter_y_pred = filter_y_pred > filter_cutoff\n",
    "            filter_y_pred = filter_y_pred.astype(np.int32)\n",
    "        else:\n",
    "            filter_y_pred = np.ones(x.shape[0])\n",
    "            \n",
    "        y_pred = model.predict(x)\n",
    "        y_pred = y_pred * filter_y_pred\n",
    "        \n",
    "        truths.extend(y.numpy()[:, 0])\n",
    "        preds.extend(y_pred[:, 0])\n",
    "    \n",
    "    truths = np.array(truths)\n",
    "    preds = np.array(preds)\n",
    "    \n",
    "    preds[preds < 0] = 0\n",
    "    preds[preds > max_output] = max_output\n",
    "    \n",
    "    non0_idx = np.where(truths != 0.0)[0]\n",
    "    \n",
    "    mae = np.mean(np.absolute(truths - preds))\n",
    "    mae_std = np.std(np.absolute(truths - preds))\n",
    "    mse = np.mean(np.square(truths - preds))\n",
    "    mse_std = np.std(np.square(truths - preds))\n",
    "    rmse = np.sqrt(mse)\n",
    "    \n",
    "    non0_rmse = np.sqrt(np.mean(np.square(truths[non0_idx] - preds[non0_idx])))\n",
    "    non0_mae = np.mean(np.absolute(truths[non0_idx] - preds[non0_idx]))\n",
    "    \n",
    "    print(f'Model: {label} -- \\nLoss: {mse} (+/- {mse_std}) \\nMAE: {mae} (+/- {mae_std}) \\nRMSE: {rmse} \\nFilter0-RMSE: {non0_rmse} \\nFilter0-MAE: {non0_mae}')"
   ]
  },
  {
   "cell_type": "code",
   "execution_count": 30,
   "metadata": {},
   "outputs": [
    {
     "name": "stdout",
     "output_type": "stream",
     "text": [
      "Hands Narrowing\n",
      "Model: 3e-4 (25%, Current Model, 20%): -- \n",
      "Loss: 0.14468636183578798 (+/- 0.5172341829313837) \n",
      "MAE: 0.14110698990631276 (+/- 0.3532353029290359) \n",
      "RMSE: 0.38037660526876255 \n",
      "Filter0-RMSE: 0.7736221920698619 \n",
      "Filter0-MAE: 0.5806458916886028\n"
     ]
    }
   ],
   "source": [
    "print('Hands Narrowing')\n",
    "\n",
    "hand_j_filter_model_paths = ['../trained_models/narrowing/v7/hands_narrowing_joint_damage_type_model_complex_rewritten_64bs_normsteps_75epochs_adamW_3e4_1e6_mixed_test_calpha.h5', '../trained_models/narrowing/v7/hands_narrowing_joint_damage_type_model_complex_rewritten_64bs_normsteps_75epochs_adamW_3e4_1e6_test_gamma1.h5']\n",
    "\n",
    "eval_model('3e-4 (25%, Current Model, 20%):', tf_hands_data[1], '../trained_models/narrowing/v7/hands_narrowing_joint_damage_model_complex_rewritten_64bs_145steps_300epochs_adamW_3e4_1e6_fullwd_balanced_mixed_test.h5', 4, 26, filter_model_paths = hand_j_filter_model_paths, filter_cutoff = 0.2)"
   ]
  },
  {
   "cell_type": "code",
   "execution_count": 31,
   "metadata": {},
   "outputs": [
    {
     "name": "stdout",
     "output_type": "stream",
     "text": [
      "Model: 3e-4 (25%, Current Model, 30%): -- \n",
      "Loss: 0.14315179275359552 (+/- 0.5227347465248244) \n",
      "MAE: 0.134771643510948 (+/- 0.35353698089302266) \n",
      "RMSE: 0.37835405740337386 \n",
      "Filter0-RMSE: 0.7888574316400792 \n",
      "Filter0-MAE: 0.5940503207120028\n"
     ]
    }
   ],
   "source": [
    "eval_model('3e-4 (25%, Current Model, 30%):', tf_hands_data[1], '../trained_models/narrowing/v7/hands_narrowing_joint_damage_model_complex_rewritten_64bs_145steps_300epochs_adamW_3e4_1e6_fullwd_balanced_mixed_test.h5', 4, 26, filter_model_paths = hand_j_filter_model_paths, filter_cutoff = 0.3)"
   ]
  },
  {
   "cell_type": "code",
   "execution_count": 34,
   "metadata": {},
   "outputs": [
    {
     "name": "stdout",
     "output_type": "stream",
     "text": [
      "Model: 3e-4 (25%, Current Model, 40%): -- \n",
      "Loss: 0.14577924247679055 (+/- 0.5779334347201353) \n",
      "MAE: 0.1286447114454439 (+/- 0.3594854387786925) \n",
      "RMSE: 0.38181047978911026 \n",
      "Filter0-RMSE: 0.8462910474458277 \n",
      "Filter0-MAE: 0.6331717866065698\n"
     ]
    }
   ],
   "source": [
    "filter_model_path = '../trained_models/narrowing/v7/hands_narrowing_joint_damage_type_model_complex_rewritten_64bs_normsteps_75epochs_adamW_3e4_1e6_mixed_test_calpha.h5'\n",
    "\n",
    "eval_model('3e-4 (25%, Current Model, 40%):', tf_hands_data[1], '../trained_models/narrowing/v7/hands_narrowing_joint_damage_model_complex_rewritten_64bs_145steps_300epochs_adamW_3e4_1e6_fullwd_balanced_mixed_test.h5', 4, 26, filter_model_paths = hand_j_filter_model_paths, filter_cutoff = 0.4)"
   ]
  },
  {
   "cell_type": "code",
   "execution_count": 32,
   "metadata": {},
   "outputs": [
    {
     "name": "stdout",
     "output_type": "stream",
     "text": [
      "Model: 3e-4 (25%, Current Model, 50%): -- \n",
      "Loss: 0.15794468839931453 (+/- 0.6189405622479776) \n",
      "MAE: 0.1311778744118503 (+/- 0.37514937513489655) \n",
      "RMSE: 0.3974225564802714 \n",
      "Filter0-RMSE: 0.916842812997494 \n",
      "Filter0-MAE: 0.6945769847471477\n"
     ]
    }
   ],
   "source": [
    "filter_model_path = '../trained_models/narrowing/v7/hands_narrowing_joint_damage_type_model_complex_rewritten_64bs_normsteps_75epochs_adamW_3e4_1e6_mixed_test_calpha.h5'\n",
    "\n",
    "eval_model('3e-4 (25%, Current Model, 50%):', tf_hands_data[1], '../trained_models/narrowing/v7/hands_narrowing_joint_damage_model_complex_rewritten_64bs_145steps_300epochs_adamW_3e4_1e6_fullwd_balanced_mixed_test.h5', 4, 26, filter_model_paths = hand_j_filter_model_paths, filter_cutoff = 0.5)"
   ]
  },
  {
   "cell_type": "code",
   "execution_count": 33,
   "metadata": {},
   "outputs": [
    {
     "name": "stdout",
     "output_type": "stream",
     "text": [
      "Model: 3e-4 (25%, GAP, 50%): -- \n",
      "Loss: 0.16386721630048146 (+/- 0.6386547006277506) \n",
      "MAE: 0.1421366289141588 (+/- 0.3790308628877076) \n",
      "RMSE: 0.40480515844104736 \n",
      "Filter0-RMSE: 0.9204212108942093 \n",
      "Filter0-MAE: 0.7355700771916996\n"
     ]
    }
   ],
   "source": [
    "eval_model('3e-4 (25%, GAP, 50%):', tf_hands_data[1], '../trained_models/narrowing/v7/hands_narrowing_joint_damage_model_complex_rewritten_gap_64bs_145steps_300epochs_adamW_3e4_1e6_fullwd_min_balanced_mixed_test.h5', 4, 26, filter_model_paths = hand_j_filter_model_paths, filter_cutoff = 0.5)"
   ]
  },
  {
   "cell_type": "code",
   "execution_count": 6,
   "metadata": {},
   "outputs": [
    {
     "name": "stdout",
     "output_type": "stream",
     "text": [
      "Feet Narrowing\n",
      "Model: 3e-4 (25%, Current Model, 20%): -- \n",
      "Loss: 0.2596522318616103 (+/- 0.9091027755035611) \n",
      "MAE: 0.19640637123181173 (+/- 0.4701880147357672) \n",
      "RMSE: 0.5095608225340821 \n",
      "Filter0-RMSE: 1.0563233603265394 \n",
      "Filter0-MAE: 0.7962802364136362\n"
     ]
    }
   ],
   "source": [
    "print('Feet Narrowing')\n",
    "\n",
    "filter_model_path = '../trained_models/narrowing/v7/feet_narrowing_joint_damage_type_model_complex_rewritten_64bs_normsteps_75epochs_adamW_3e4_1e6_mixed_test_calpha.h5'\n",
    "\n",
    "eval_model('3e-4 (25%, Current Model, 20%):', tf_feet_j_data[1], '../trained_models/narrowing/v7/feet_narrowing_joint_damage_model_complex_rewritten_64bs_125steps_300epochs_adamW_3e4_1e6_fullwd_balanced_mixed_test.h5', 4, 18, filter_model_path = filter_model_path, filter_cutoff = 0.2)"
   ]
  },
  {
   "cell_type": "code",
   "execution_count": 11,
   "metadata": {},
   "outputs": [
    {
     "name": "stdout",
     "output_type": "stream",
     "text": [
      "Model: 3e-4 (25%, Current Model, 30%): -- \n",
      "Loss: 0.2633512054414539 (+/- 0.930186497756049) \n",
      "MAE: 0.1908284234167594 (+/- 0.47637770545831376) \n",
      "RMSE: 0.5131775574218478 \n",
      "Filter0-RMSE: 1.0805629533419228 \n",
      "Filter0-MAE: 0.8152097343339533\n"
     ]
    }
   ],
   "source": [
    "filter_model_path = '../trained_models/narrowing/v7/feet_narrowing_joint_damage_type_model_complex_rewritten_64bs_normsteps_75epochs_adamW_3e4_1e6_mixed_test_calpha.h5'\n",
    "\n",
    "eval_model('3e-4 (25%, Current Model, 30%):', tf_feet_j_data[1], '../trained_models/narrowing/v7/feet_narrowing_joint_damage_model_complex_rewritten_64bs_125steps_300epochs_adamW_3e4_1e6_fullwd_balanced_mixed_test.h5', 4, 18, filter_model_path = filter_model_path, filter_cutoff = 0.3)"
   ]
  },
  {
   "cell_type": "code",
   "execution_count": 7,
   "metadata": {},
   "outputs": [
    {
     "name": "stdout",
     "output_type": "stream",
     "text": [
      "Model: 3e-4 (25%, Current Model, 50%): -- \n",
      "Loss: 0.27968531606351604 (+/- 1.0539183998469839) \n",
      "MAE: 0.1855139549006708 (+/- 0.4952473004475925) \n",
      "RMSE: 0.5288528302500763 \n",
      "Filter0-RMSE: 1.174175094909469 \n",
      "Filter0-MAE: 0.8847736925794388\n"
     ]
    }
   ],
   "source": [
    "filter_model_path = '../trained_models/narrowing/v7/feet_narrowing_joint_damage_type_model_complex_rewritten_64bs_normsteps_75epochs_adamW_3e4_1e6_mixed_test_calpha.h5'\n",
    "\n",
    "eval_model('3e-4 (25%, Current Model, 50%):', tf_feet_j_data[1], '../trained_models/narrowing/v7/feet_narrowing_joint_damage_model_complex_rewritten_64bs_125steps_300epochs_adamW_3e4_1e6_fullwd_balanced_mixed_test.h5', 4, 18, filter_model_path = filter_model_path)"
   ]
  },
  {
   "cell_type": "code",
   "execution_count": 10,
   "metadata": {},
   "outputs": [
    {
     "name": "stdout",
     "output_type": "stream",
     "text": [
      "Model: 3e-4 (25%, Filtered, Balanced GAP, 50%): -- \n",
      "Loss: 0.2795910049318614 (+/- 1.024010699621841) \n",
      "MAE: 0.1989587629634318 (+/- 0.48990449637855177) \n",
      "RMSE: 0.5287636569695968 \n",
      "Filter0-RMSE: 1.1561051665193933 \n",
      "Filter0-MAE: 0.914499932134212\n"
     ]
    }
   ],
   "source": [
    "filter_model_path = '../trained_models/narrowing/v7/feet_narrowing_joint_damage_type_model_complex_rewritten_64bs_normsteps_75epochs_adamW_3e4_1e6_mixed_test_calpha.h5'\n",
    "\n",
    "eval_model('3e-4 (25%, Filtered, Balanced GAP, 50%):', tf_feet_j_data[1], '../trained_models/narrowing/v7/feet_narrowing_joint_damage_model_complex_rewritten_gap_64bs_125steps_300epochs_adamW_3e4_1e6_fullwd_min_balanced_mixed_test.h5', 4, 18, filter_model_path = filter_model_path)"
   ]
  },
  {
   "cell_type": "code",
   "execution_count": 12,
   "metadata": {},
   "outputs": [
    {
     "name": "stdout",
     "output_type": "stream",
     "text": [
      "Hands Erosion\n",
      "Model: 3e-4 (25%, Current Model, 10%): -- \n",
      "Loss: 0.37639929973765107 (+/- 1.792490642634114) \n",
      "MAE: 0.21398697971920322 (+/- 0.5749859756970638) \n",
      "RMSE: 0.6135138953093492 \n",
      "Filter0-RMSE: 1.9062674106688084 \n",
      "Filter0-MAE: 1.545595026893329\n"
     ]
    }
   ],
   "source": [
    "print('Hands Erosion')\n",
    "\n",
    "filter_model_path = '../trained_models/erosion/v7/hands_erosion_joint_damage_type_model_complex_rewritten_64bs_normsteps_75epochs_adamW_3e4_1e6_mixed_test_calpha.h5'\n",
    "\n",
    "eval_model('3e-4 (25%, Current Model, 10%):', tf_hands_e_data[1], '../trained_models/erosion/v7/hands_erosion_joint_damage_model_complex_rewritten_64bs_105steps_300epochs_adamW_3e4_1e6_fullwd_balanced_mixed_test.h5', 5, 29, filter_model_path = filter_model_path, filter_cutoff = 0.1)"
   ]
  },
  {
   "cell_type": "code",
   "execution_count": 13,
   "metadata": {},
   "outputs": [
    {
     "name": "stdout",
     "output_type": "stream",
     "text": [
      "Model: 3e-4 (25%, Current Model, 30%): -- \n",
      "Loss: 0.3728467900324194 (+/- 1.802687022538263) \n",
      "MAE: 0.18591634299935259 (+/- 0.5816200679465646) \n",
      "RMSE: 0.6106118161585308 \n",
      "Filter0-RMSE: 1.9364197504175547 \n",
      "Filter0-MAE: 1.5953101884054988\n"
     ]
    }
   ],
   "source": [
    "filter_model_path = '../trained_models/erosion/v7/hands_erosion_joint_damage_type_model_complex_rewritten_64bs_normsteps_75epochs_adamW_3e4_1e6_mixed_test_calpha.h5'\n",
    "\n",
    "eval_model('3e-4 (25%, Current Model, 30%):', tf_hands_e_data[1], '../trained_models/erosion/v7/hands_erosion_joint_damage_model_complex_rewritten_64bs_105steps_300epochs_adamW_3e4_1e6_fullwd_balanced_mixed_test.h5', 5, 29, filter_model_path = filter_model_path, filter_cutoff = 0.3)"
   ]
  },
  {
   "cell_type": "code",
   "execution_count": 14,
   "metadata": {},
   "outputs": [
    {
     "name": "stdout",
     "output_type": "stream",
     "text": [
      "Model: 3e-4 (25%, Current Model, 50%): -- \n",
      "Loss: 0.39529581294564775 (+/- 2.0104370597419994) \n",
      "MAE: 0.1742831717670799 (+/- 0.6040870706979701) \n",
      "RMSE: 0.6287255465985518 \n",
      "Filter0-RMSE: 2.0652230143330623 \n",
      "Filter0-MAE: 1.732611715416365\n"
     ]
    }
   ],
   "source": [
    "filter_model_path = '../trained_models/erosion/v7/hands_erosion_joint_damage_type_model_complex_rewritten_64bs_normsteps_75epochs_adamW_3e4_1e6_mixed_test_calpha.h5'\n",
    "\n",
    "eval_model('3e-4 (25%, Current Model, 50%):', tf_hands_e_data[1], '../trained_models/erosion/v7/hands_erosion_joint_damage_model_complex_rewritten_64bs_105steps_300epochs_adamW_3e4_1e6_fullwd_balanced_mixed_test.h5', 5, 29, filter_model_path = filter_model_path, filter_cutoff = 0.5)"
   ]
  },
  {
   "cell_type": "code",
   "execution_count": 26,
   "metadata": {},
   "outputs": [
    {
     "name": "stdout",
     "output_type": "stream",
     "text": [
      "Model: 3e-4 (25%, GAP, 50%): -- \n",
      "Loss: 0.3895602033593564 (+/- 1.956488321325006) \n",
      "MAE: 0.17864221872175753 (+/- 0.5980360867452098) \n",
      "RMSE: 0.6241475813935006 \n",
      "Filter0-RMSE: 2.0140094401809754 \n",
      "Filter0-MAE: 1.7070911629007588\n"
     ]
    }
   ],
   "source": [
    "filter_model_path = '../trained_models/erosion/v7/hands_erosion_joint_damage_type_model_complex_rewritten_64bs_normsteps_75epochs_adamW_3e4_1e6_mixed_test_calpha.h5'\n",
    "\n",
    "eval_model('3e-4 (25%, GAP, 50%):', tf_hands_e_data[1], '../trained_models/erosion/v7/hands_erosion_joint_damage_model_complex_rewritten_gap_64bs_105steps_300epochs_adamW_3e4_1e6_fullwd_min_balanced_mixed_test.h5', 5, 29, filter_model_path = filter_model_path, filter_cutoff = 0.5)"
   ]
  },
  {
   "cell_type": "code",
   "execution_count": 15,
   "metadata": {},
   "outputs": [
    {
     "name": "stdout",
     "output_type": "stream",
     "text": [
      "Feet Erosion\n",
      "Model: 1e-3 (25%, Current Model, 20%): -- \n",
      "Loss: 0.9304040825995575 (+/- 4.78174783061611) \n",
      "MAE: 0.37250533308057737 (+/- 0.8897437043475417) \n",
      "RMSE: 0.9645745604148792 \n",
      "Filter0-RMSE: 2.2568814992746167 \n",
      "Filter0-MAE: 1.649642216764414\n"
     ]
    }
   ],
   "source": [
    "print('Feet Erosion')\n",
    "\n",
    "filter_model_path = '../trained_models/erosion/v7/feet_erosion_joint_damage_type_model_complex_rewritten_64bs_normsteps_75epochs_adamW_3e4_1e6_mixed_test_calpha.h5'\n",
    "\n",
    "eval_model('1e-3 (25%, Current Model, 20%):', tf_feet_e_data[1], '../trained_models/erosion/v7/feet_erosion_joint_damage_model_complex_rewritten_64bs_140steps_mixed_balanced_test_1e3.h5', 10, 18, filter_model_path = filter_model_path, filter_cutoff = 0.2)"
   ]
  },
  {
   "cell_type": "code",
   "execution_count": 16,
   "metadata": {},
   "outputs": [
    {
     "name": "stdout",
     "output_type": "stream",
     "text": [
      "Model: 1e-3 (25%, Cutoff 30%): -- \n",
      "Loss: 0.9582279479840748 (+/- 4.891644846403791) \n",
      "MAE: 0.3583757384913042 (+/- 0.910930720771282) \n",
      "RMSE: 0.9788911829126232 \n",
      "Filter0-RMSE: 2.3096839023292923 \n",
      "Filter0-MAE: 1.6882105513890082\n"
     ]
    }
   ],
   "source": [
    "filter_model_path = '../trained_models/erosion/v7/feet_erosion_joint_damage_type_model_complex_rewritten_64bs_normsteps_75epochs_adamW_3e4_1e6_mixed_test_calpha.h5'\n",
    "\n",
    "eval_model('1e-3 (25%, Current Model, Cutoff 30%):', tf_feet_e_data[1], '../trained_models/erosion/v7/feet_erosion_joint_damage_model_complex_rewritten_64bs_140steps_mixed_balanced_test_1e3.h5', 10, 18, filter_model_path = filter_model_path, filter_cutoff = 0.3)"
   ]
  },
  {
   "cell_type": "code",
   "execution_count": 19,
   "metadata": {},
   "outputs": [
    {
     "name": "stdout",
     "output_type": "stream",
     "text": [
      "Model: 1e-3 (25%, Current Model, Cutoff 40%): -- \n",
      "Loss: 0.9373362555598317 (+/- 4.871533582902528) \n",
      "MAE: 0.3368311959525777 (+/- 0.9076789085315289) \n",
      "RMSE: 0.9681612755940158 \n",
      "Filter0-RMSE: 2.3456750575197107 \n",
      "Filter0-MAE: 1.730232214325986\n"
     ]
    }
   ],
   "source": [
    "filter_model_path = '../trained_models/erosion/v7/feet_erosion_joint_damage_type_model_complex_rewritten_64bs_normsteps_75epochs_adamW_3e4_1e6_mixed_test_calpha.h5'\n",
    "\n",
    "eval_model('1e-3 (25%, Current Model, Cutoff 40%):', tf_feet_e_data[1], '../trained_models/erosion/v7/feet_erosion_joint_damage_model_complex_rewritten_64bs_140steps_mixed_balanced_test_1e3.h5', 10, 18, filter_model_path = filter_model_path, filter_cutoff = 0.4)"
   ]
  },
  {
   "cell_type": "code",
   "execution_count": 17,
   "metadata": {},
   "outputs": [
    {
     "name": "stdout",
     "output_type": "stream",
     "text": [
      "Model: 1e-3 (25%, Current Model, Cutoff 50%): -- \n",
      "Loss: 0.9917547380062379 (+/- 5.230132023155142) \n",
      "MAE: 0.3301995723482428 (+/- 0.9395333844133882) \n",
      "RMSE: 0.9958688357440642 \n",
      "Filter0-RMSE: 2.4448673931705227 \n",
      "Filter0-MAE: 1.7965282728243326\n"
     ]
    }
   ],
   "source": [
    "filter_model_path = '../trained_models/erosion/v7/feet_erosion_joint_damage_type_model_complex_rewritten_64bs_normsteps_75epochs_adamW_3e4_1e6_mixed_test_calpha.h5'\n",
    "\n",
    "eval_model('1e-3 (25%, Current Model, Cutoff 50%):', tf_feet_e_data[1], '../trained_models/erosion/v7/feet_erosion_joint_damage_model_complex_rewritten_64bs_140steps_mixed_balanced_test_1e3.h5', 10, 18, filter_model_path = filter_model_path, filter_cutoff = 0.5)"
   ]
  },
  {
   "cell_type": "code",
   "execution_count": 20,
   "metadata": {},
   "outputs": [
    {
     "name": "stdout",
     "output_type": "stream",
     "text": [
      "Model: 1e-3 (25%, balanaced, GAP, 50%): -- \n",
      "Loss: 0.9385640837129964 (+/- 4.63938974260766) \n",
      "MAE: 0.3374411317118857 (+/- 0.9081286067193337) \n",
      "RMSE: 0.9687951711858376 \n",
      "Filter0-RMSE: 2.377565739136836 \n",
      "Filter0-MAE: 1.7565374467463148\n"
     ]
    }
   ],
   "source": [
    "filter_model_path = '../trained_models/erosion/v7/feet_erosion_joint_damage_type_model_complex_rewritten_64bs_normsteps_75epochs_adamW_3e4_1e6_mixed_test_calpha.h5'\n",
    "\n",
    "eval_model('1e-3 (25%, balanaced, GAP, 50%):', tf_feet_e_data[1], '../trained_models/erosion/v7/feet_erosion_joint_damage_model_complex_rewritten_gap_64bs_140steps_300epochs_adamW_1e3_1e6_fullwd_balanced_mixed_test.h5', 10, 18, filter_model_path = filter_model_path)"
   ]
  },
  {
   "cell_type": "code",
   "execution_count": null,
   "metadata": {},
   "outputs": [],
   "source": []
  }
 ],
 "metadata": {
  "kernelspec": {
   "display_name": "Python 3",
   "language": "python",
   "name": "python3"
  },
  "language_info": {
   "codemirror_mode": {
    "name": "ipython",
    "version": 3
   },
   "file_extension": ".py",
   "mimetype": "text/x-python",
   "name": "python",
   "nbconvert_exporter": "python",
   "pygments_lexer": "ipython3",
   "version": "3.7.3"
  }
 },
 "nbformat": 4,
 "nbformat_minor": 4
}
