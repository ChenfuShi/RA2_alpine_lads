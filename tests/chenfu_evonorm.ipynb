{
 "cells": [
  {
   "cell_type": "code",
   "execution_count": 1,
   "metadata": {},
   "outputs": [],
   "source": [
    "import numpy as np\n",
    "import matplotlib.pyplot as plt\n",
    "from tensorflow import keras \n",
    "import os\n",
    "import tensorflow as tf\n",
    "import tensorflow_addons as tfa\n",
    "\n",
    "\n",
    "def instance_std(x, eps=1e-5):\n",
    "    _ , var = tf.nn.moments(x, axes=[1, 2], keepdims=True)\n",
    "    return tf.sqrt(var + eps)\n",
    "\n",
    "def group_std(x, groups=32, eps=1e-5):\n",
    "    N, H, W, C = x.shape\n",
    "    x = tf.reshape(x, [N, H, W, groups, C // groups])\n",
    "    _ , var = tf.nn.moments(x, [1, 2, 4], keepdims=True)\n",
    "    std = tf.sqrt(var + eps)\n",
    "    std = tf.broadcast_to(std, x.shape)\n",
    "    return tf.reshape(std, [N, H, W, C])\n",
    "\n",
    "def trainable_variable_ones(shape, name=\"v\"):\n",
    "    return tf.get_variable(name, shape=shape,initializer=tf.ones_initializer())\n"
   ]
  },
  {
   "cell_type": "code",
   "execution_count": null,
   "metadata": {},
   "outputs": [],
   "source": [
    "def evonorm_b0(x, gamma, beta, nonlinearity, training):\n",
    "    if nonlinearity:\n",
    "        v = trainable_variable_ones(shape=gamma.shape)\n",
    "        _ , batch_std = batch_mean_and_std(x, training)\n",
    "        den = tf.maximum(batch_std, v * x + instance_std(x))\n",
    "        return x / den * gamma + beta\n",
    "    else:\n",
    "        return x * gamma + beta"
   ]
  }
 ],
 "metadata": {
  "kernelspec": {
   "display_name": "Python 3",
   "language": "python",
   "name": "python3"
  },
  "language_info": {
   "codemirror_mode": {
    "name": "ipython",
    "version": 3
   },
   "file_extension": ".py",
   "mimetype": "text/x-python",
   "name": "python",
   "nbconvert_exporter": "python",
   "pygments_lexer": "ipython3",
   "version": "3.7.3"
  }
 },
 "nbformat": 4,
 "nbformat_minor": 4
}
