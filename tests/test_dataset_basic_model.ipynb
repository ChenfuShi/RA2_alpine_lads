{
 "cells": [
  {
   "cell_type": "code",
   "execution_count": 1,
   "metadata": {},
   "outputs": [],
   "source": [
    "import os\n",
    "os.chdir('C:\\\\Users\\\\CrankMuffler\\\\Documents\\\\GitHub\\\\RA2_alpine_lads')"
   ]
  },
  {
   "cell_type": "code",
   "execution_count": 2,
   "metadata": {},
   "outputs": [],
   "source": [
    "from utils.config import Config\n",
    "\n",
    "test_config = Config('./utils/stadlerm_config.json')"
   ]
  },
  {
   "cell_type": "code",
   "execution_count": 3,
   "metadata": {},
   "outputs": [],
   "source": [
    "from dataset.train_dataset import train_dataset\n",
    "\n",
    "dataset = train_dataset(test_config)\n",
    "\n",
    "hands_dataset, feet_dataset, hands_dataset_val, feet_dataset_val = dataset.initialize_pipeline()"
   ]
  },
  {
   "cell_type": "code",
   "execution_count": 4,
   "metadata": {},
   "outputs": [
    {
     "data": {
      "text/plain": [
       "<PrefetchDataset shapes: ((None, 378, 512, 1), (None, 13)), types: (tf.float32, tf.int64)>"
      ]
     },
     "execution_count": 4,
     "metadata": {},
     "output_type": "execute_result"
    }
   ],
   "source": [
    "feet_dataset"
   ]
  },
  {
   "cell_type": "code",
   "execution_count": 5,
   "metadata": {},
   "outputs": [],
   "source": [
    "from tensorflow.keras.models import Sequential\n",
    "from tensorflow.keras.layers import Dense, Conv2D, Flatten, Dropout, MaxPooling2D\n",
    "from tensorflow.keras.preprocessing.image import ImageDataGenerator\n",
    "\n",
    "import os\n",
    "import numpy as np\n",
    "import matplotlib.pyplot as plt"
   ]
  },
  {
   "cell_type": "code",
   "execution_count": 6,
   "metadata": {},
   "outputs": [],
   "source": [
    "model = Sequential([\n",
    "    Conv2D(16, 3, padding='same', activation='relu', input_shape=(test_config.img_height,test_config.img_width ,1)),\n",
    "    MaxPooling2D(),\n",
    "    Conv2D(32, 3, padding='same', activation='relu'),\n",
    "    MaxPooling2D(),\n",
    "    Conv2D(64, 3, padding='same', activation='relu'),\n",
    "    MaxPooling2D(),\n",
    "    Flatten(),\n",
    "    Dense(512, activation='relu'),\n",
    "    Dense(13)\n",
    "])"
   ]
  },
  {
   "cell_type": "code",
   "execution_count": 7,
   "metadata": {},
   "outputs": [],
   "source": [
    "model.compile(loss='mean_squared_error', optimizer='adam')"
   ]
  },
  {
   "cell_type": "code",
   "execution_count": 8,
   "metadata": {},
   "outputs": [
    {
     "name": "stdout",
     "output_type": "stream",
     "text": [
      "Model: \"sequential\"\n",
      "_________________________________________________________________\n",
      "Layer (type)                 Output Shape              Param #   \n",
      "=================================================================\n",
      "conv2d (Conv2D)              (None, 378, 512, 16)      160       \n",
      "_________________________________________________________________\n",
      "max_pooling2d (MaxPooling2D) (None, 189, 256, 16)      0         \n",
      "_________________________________________________________________\n",
      "conv2d_1 (Conv2D)            (None, 189, 256, 32)      4640      \n",
      "_________________________________________________________________\n",
      "max_pooling2d_1 (MaxPooling2 (None, 94, 128, 32)       0         \n",
      "_________________________________________________________________\n",
      "conv2d_2 (Conv2D)            (None, 94, 128, 64)       18496     \n",
      "_________________________________________________________________\n",
      "max_pooling2d_2 (MaxPooling2 (None, 47, 64, 64)        0         \n",
      "_________________________________________________________________\n",
      "flatten (Flatten)            (None, 192512)            0         \n",
      "_________________________________________________________________\n",
      "dense (Dense)                (None, 512)               98566656  \n",
      "_________________________________________________________________\n",
      "dense_1 (Dense)              (None, 13)                6669      \n",
      "=================================================================\n",
      "Total params: 98,596,621\n",
      "Trainable params: 98,596,621\n",
      "Non-trainable params: 0\n",
      "_________________________________________________________________\n"
     ]
    }
   ],
   "source": [
    "model.summary()"
   ]
  },
  {
   "cell_type": "code",
   "execution_count": 9,
   "metadata": {},
   "outputs": [
    {
     "name": "stdout",
     "output_type": "stream",
     "text": [
      "Train for 50 steps, validate for 2 steps\n",
      "Epoch 1/10\n",
      "50/50 [==============================] - 166s 3s/step - loss: 5.2719 - val_loss: 13.4768\n",
      "Epoch 2/10\n",
      "50/50 [==============================] - 122s 2s/step - loss: 4.4555 - val_loss: 3.5005\n",
      "Epoch 3/10\n",
      "50/50 [==============================] - 122s 2s/step - loss: 3.8054 - val_loss: 11.1349\n",
      "Epoch 4/10\n",
      "50/50 [==============================] - 138s 3s/step - loss: 3.8231 - val_loss: 11.9856\n",
      "Epoch 5/10\n",
      "50/50 [==============================] - 139s 3s/step - loss: 4.6218 - val_loss: 7.2555\n",
      "Epoch 6/10\n",
      "50/50 [==============================] - 138s 3s/step - loss: 4.1897 - val_loss: 10.3944\n",
      "Epoch 7/10\n",
      "50/50 [==============================] - 141s 3s/step - loss: 3.8359 - val_loss: 6.7489\n",
      "Epoch 8/10\n",
      "50/50 [==============================] - 140s 3s/step - loss: 4.1818 - val_loss: 11.3190\n",
      "Epoch 9/10\n",
      "50/50 [==============================] - 163s 3s/step - loss: 3.5443 - val_loss: 10.6808\n",
      "Epoch 10/10\n",
      "50/50 [==============================] - 133s 3s/step - loss: 4.0604 - val_loss: 6.8398\n"
     ]
    }
   ],
   "source": [
    "history = model.fit(\n",
    "    feet_dataset,validation_data=feet_dataset_val,epochs=10, steps_per_epoch=50,\n",
    "    validation_steps=2\n",
    ")"
   ]
  },
  {
   "cell_type": "code",
   "execution_count": 19,
   "metadata": {},
   "outputs": [
    {
     "name": "stdout",
     "output_type": "stream",
     "text": [
      "Batch RMSE:  [ 0.90138782  1.08972474  1.03077641  1.11803399  1.          1.03077641\n",
      "  1.03077641  0.70710678  1.11803399  1.22474487  1.11803399  1.11803399\n",
      " 10.43132302]\n",
      "Batch RMSE:  [0.         0.         0.75       0.90138782 0.5        1.11803399\n",
      " 1.         0.90138782 0.90138782 0.70710678 0.90138782 0.70710678\n",
      " 6.03634823]\n",
      "Batch RMSE:  [ 0.8291562   0.79056942  1.08972474  1.19895788  1.03077641  1.25\n",
      "  1.3462912   1.          1.22474487  1.22474487  1.22474487  1.32287566\n",
      " 11.14955156]\n",
      "Batch RMSE:  [ 0.8291562   0.75        1.27475488  1.52069063  1.22474487  1.88745861\n",
      "  1.14564392  1.36930639  1.62018517  1.41421356  1.62018517  1.41421356\n",
      " 12.97593927]\n",
      "Batch RMSE:  [ 0.79056942  0.79056942  1.11803399  1.11803399  1.11803399  1.41421356\n",
      "  1.03077641  1.03077641  1.25        1.11803399  1.25        1.22474487\n",
      " 11.21383075]\n"
     ]
    }
   ],
   "source": [
    "for image, label in feet_dataset_val.take(5):\n",
    "    N = image.shape[0]\n",
    "    D = label.shape[1]\n",
    "    \n",
    "    error = np.zeros((N, D))\n",
    "    \n",
    "    for n in range(N):\n",
    "        y_pred = model.predict(np.array(image[n]).reshape(1,test_config.img_height,test_config.img_width,1))\n",
    "        y = label[n]\n",
    "        \n",
    "        \n",
    "        E[n, :] = np.square(y_pred - y)\n",
    "        \n",
    "    rmse = np.sqrt(np.mean(E, axis = 0))\n",
    "        \n",
    "    print(\"Batch RMSE: \", rmse)"
   ]
  },
  {
   "cell_type": "code",
   "execution_count": null,
   "metadata": {},
   "outputs": [],
   "source": []
  }
 ],
 "metadata": {
  "kernelspec": {
   "display_name": "Python 3",
   "language": "python",
   "name": "python3"
  },
  "language_info": {
   "codemirror_mode": {
    "name": "ipython",
    "version": 3
   },
   "file_extension": ".py",
   "mimetype": "text/x-python",
   "name": "python",
   "nbconvert_exporter": "python",
   "pygments_lexer": "ipython3",
   "version": "3.7.6"
  }
 },
 "nbformat": 4,
 "nbformat_minor": 4
}
