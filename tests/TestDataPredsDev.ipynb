{
 "cells": [
  {
   "cell_type": "code",
   "execution_count": 1,
   "metadata": {},
   "outputs": [],
   "source": [
    "import os\n",
    "\n",
    "PATH = '/home/stadlerm/Development/Projects/DreamChallenge/RA2_alpine_lads/ra_joint_predictions'\n",
    "\n",
    "os.chdir(PATH)"
   ]
  },
  {
   "cell_type": "code",
   "execution_count": 9,
   "metadata": {},
   "outputs": [],
   "source": [
    "from utils.config import Config\n",
    "\n",
    "config = Config()"
   ]
  },
  {
   "cell_type": "code",
   "execution_count": 3,
   "metadata": {},
   "outputs": [],
   "source": [
    "import numpy as np\n",
    "import tensorflow as tf\n",
    "\n",
    "from model.utils.metrics import argmax_rsme, softmax_rsme_metric, class_softmax_rsme_metric\n",
    "\n",
    "dependencies = {\n",
    "    'softmax_rsme': softmax_rsme_metric(np.arange(5)),\n",
    "    'argmax_rsme': argmax_rsme,\n",
    "    'class_softmax_rmse_0': class_softmax_rsme_metric(np.arange(5), 0)\n",
    "}\n",
    "\n",
    "feet_narrowing_model = tf.keras.models.load_model('feet_narrowing_v1.h5', custom_objects=dependencies)\n",
    "hands_narrowing_model = tf.keras.models.load_model('hands_narrowing_v1.h5', custom_objects=dependencies)"
   ]
  },
  {
   "cell_type": "code",
   "execution_count": 4,
   "metadata": {},
   "outputs": [
    {
     "name": "stdout",
     "output_type": "stream",
     "text": [
      "{'softmax_rsme': <function softmax_rsme_metric.<locals>.softmax_rsme at 0x7fda2c792730>, 'argmax_rsme': <function argmax_rsme at 0x7fda16cdfae8>, 'class_softmax_rmse_0': <function class_softmax_rsme_metric.<locals>.class_softmax_rmse at 0x7fda2d0cd0d0>}\n"
     ]
    }
   ],
   "source": [
    "dependencies = {\n",
    "    'softmax_rsme': softmax_rsme_metric(np.arange(6)),\n",
    "    'argmax_rsme': argmax_rsme,\n",
    "    'class_softmax_rmse_0': class_softmax_rsme_metric(np.arange(6), 0)\n",
    "}\n",
    "\n",
    "print(dependencies)\n",
    "\n",
    "hand_erosion_model = tf.keras.models.load_model('hands_erosion_v1.h5', custom_objects=dependencies)"
   ]
  },
  {
   "cell_type": "code",
   "execution_count": 6,
   "metadata": {},
   "outputs": [
    {
     "name": "stdout",
     "output_type": "stream",
     "text": [
      "{'softmax_rsme': <function softmax_rsme_metric.<locals>.softmax_rsme at 0x7fda2c792158>, 'argmax_rsme': <function argmax_rsme at 0x7fda16cdfae8>, 'class_softmax_rmse_0': <function class_softmax_rsme_metric.<locals>.class_softmax_rmse at 0x7fda2c792598>}\n"
     ]
    }
   ],
   "source": [
    "dependencies = {\n",
    "    'softmax_rsme': softmax_rsme_metric(np.arange(11)),\n",
    "    'argmax_rsme': argmax_rsme,\n",
    "    'class_softmax_rmse_0': class_softmax_rsme_metric(np.arange(11), 0)\n",
    "}\n",
    "\n",
    "print(dependencies)\n",
    "\n",
    "feet_erosion_model = tf.keras.models.load_model('feet_erosion_v1.h5', custom_objects=dependencies)"
   ]
  },
  {
   "cell_type": "code",
   "execution_count": 8,
   "metadata": {},
   "outputs": [],
   "source": [
    "dependencies = {\n",
    "    'softmax_rsme': softmax_rsme_metric(np.arange(5)),\n",
    "    'argmax_rsme': argmax_rsme,\n",
    "    'class_softmax_rmse_0': class_softmax_rsme_metric(np.arange(5), 0)\n",
    "}\n",
    "\n",
    "wrists_narrowing_model = tf.keras.models.load_model('wrists_narrowing_v1.h5', custom_objects=dependencies)"
   ]
  },
  {
   "cell_type": "code",
   "execution_count": 10,
   "metadata": {},
   "outputs": [],
   "source": [
    "dependencies = {\n",
    "    'softmax_rsme': softmax_rsme_metric(np.arange(6)),\n",
    "    'argmax_rsme': argmax_rsme,\n",
    "    'class_softmax_rmse_0': class_softmax_rsme_metric(np.arange(6), 0)\n",
    "}\n",
    "\n",
    "wrists_erosion_model = tf.keras.models.load_model('wrists_erosion_v1.h5', custom_objects=dependencies)"
   ]
  },
  {
   "cell_type": "code",
   "execution_count": 10,
   "metadata": {},
   "outputs": [],
   "source": [
    "import numpy as np\n",
    "import dataset.joint_dataset as joint_dataset\n",
    "from dataset.test_dataset import joint_test_dataset\n",
    "\n",
    "dataset = joint_test_dataset(config, config.train_fixed_location)\n",
    "feet_test_dataset = dataset.get_feet_joint_test_dataset()\n",
    "\n",
    "preds = {}\n",
    "\n",
    "for file_info, img in feet_test_dataset:\n",
    "    file_info = file_info.numpy()\n",
    "    \n",
    "    img_info = file_info[0].decode('utf-8').split('.')[0]\n",
    "    key = file_info[3].decode('utf-8')\n",
    "    \n",
    "    patient_info = img_info.split('-')\n",
    "    patient_id = patient_info[0]\n",
    "    part = patient_info[1]\n",
    "    \n",
    "    # If patient_id is not found, init with empty struct\n",
    "    if not patient_id in preds.keys():\n",
    "        preds[patient_id] = {\n",
    "            'Patient_ID': patient_id\n",
    "        }\n",
    "        \n",
    "    outcome_key = joint_dataset.foot_outcome_mapping[key][0][0].format(part = part)\n",
    "        \n",
    "    y_pred = feet_narrowing_model.predict(tf.expand_dims(img, 0))\n",
    "    y_pred = np.sum(y_pred * np.arange(5))\n",
    "    \n",
    "    preds[patient_id][outcome_key] = y_pred"
   ]
  },
  {
   "cell_type": "code",
   "execution_count": 11,
   "metadata": {},
   "outputs": [],
   "source": [
    "import pandas as pd\n",
    "\n",
    "x = pd.DataFrame(preds.values(), index = np.arange(len(preds.values())))"
   ]
  },
  {
   "cell_type": "code",
   "execution_count": 20,
   "metadata": {},
   "outputs": [
    {
     "name": "stdout",
     "output_type": "stream",
     "text": [
      "0      0.037263\n",
      "1      0.150300\n",
      "2      0.003294\n",
      "3      0.000114\n",
      "4      0.051440\n",
      "5      0.001055\n",
      "6     14.580669\n",
      "7      0.005593\n",
      "8     21.036484\n",
      "9      2.113368\n",
      "10     0.001045\n",
      "11     3.001504\n",
      "12     5.068290\n",
      "13    19.595230\n",
      "14    26.012099\n",
      "15     0.000518\n",
      "16     0.007254\n",
      "17     0.014993\n",
      "18    34.016105\n",
      "19     0.000140\n",
      "20    18.021897\n",
      "21     0.000251\n",
      "22     0.002758\n",
      "23     7.766433\n",
      "24     0.000030\n",
      "25     0.002066\n",
      "26     0.008271\n",
      "27     0.010099\n",
      "28     3.001497\n",
      "29     0.000020\n",
      "        ...    \n",
      "62    23.999194\n",
      "63     0.004326\n",
      "64    14.672130\n",
      "65     0.002361\n",
      "66     0.589079\n",
      "67     0.002384\n",
      "68     2.002963\n",
      "69     0.000647\n",
      "70     0.000012\n",
      "71     0.004375\n",
      "72     3.984000\n",
      "73     0.010668\n",
      "74     0.002026\n",
      "75     2.001597\n",
      "76     0.758970\n",
      "77     0.004160\n",
      "78     2.009284\n",
      "79     0.033065\n",
      "80     0.015799\n",
      "81     0.024574\n",
      "82     0.209609\n",
      "83     0.002665\n",
      "84     2.822544\n",
      "85     0.000106\n",
      "86     8.001113\n",
      "87     0.001527\n",
      "88     0.002898\n",
      "89     0.030707\n",
      "90     3.999832\n",
      "91     0.006458\n",
      "Name: total_narrow, Length: 92, dtype: float64\n"
     ]
    }
   ],
   "source": [
    "narrowing_mask = ['_J_' in column_name for column_name in x.columns]\n",
    "narrowing_sum = np.sum(x.iloc[:, narrowing_mask].to_numpy(), axis = 1)\n",
    "\n",
    "x['total_narrow'] = narrowing_sum\n",
    "\n",
    "print(x['total_narrow'])"
   ]
  },
  {
   "cell_type": "code",
   "execution_count": 19,
   "metadata": {},
   "outputs": [
    {
     "name": "stdout",
     "output_type": "stream",
     "text": [
      "[3.72632005e-02 1.50300416e-01 3.29411409e-03 1.13996561e-04\n",
      " 5.14401047e-02 1.05539529e-03 1.45806690e+01 5.59322453e-03\n",
      " 2.10364839e+01 2.11336848e+00 1.04476133e-03 3.00150439e+00\n",
      " 5.06829011e+00 1.95952297e+01 2.60120995e+01 5.18135786e-04\n",
      " 7.25410483e-03 1.49928007e-02 3.40161046e+01 1.39610097e-04\n",
      " 1.80218972e+01 2.51259180e-04 2.75750526e-03 7.76643316e+00\n",
      " 3.01408330e-05 2.06596075e-03 8.27050639e-03 1.00990766e-02\n",
      " 3.00149722e+00 1.96470363e-05 1.88060113e-02 3.01700473e-02\n",
      " 3.99992452e+00 4.00011149e+00 2.86852821e-02 1.92937992e-03\n",
      " 1.26179328e+00 4.95379265e-04 7.11118129e-03 4.55787670e-02\n",
      " 2.83381018e-03 4.96769967e-05 1.27406586e-02 1.22288229e-02\n",
      " 7.62846330e-04 2.00006369e+00 3.86194078e-02 2.91496917e-02\n",
      " 1.50627648e-05 2.00074152e+00 3.62389446e-02 1.28595034e-03\n",
      " 1.80265457e+01 2.00840145e+00 1.48383730e-01 4.29994400e+01\n",
      " 5.24339069e-02 9.69218887e-04 2.80422007e-01 1.08493664e-03\n",
      " 7.04563080e+00 1.22819413e+01 2.39991935e+01 4.32560983e-03\n",
      " 1.46721303e+01 2.36121172e-03 5.89078578e-01 2.38439733e-03\n",
      " 2.00296303e+00 6.46798664e-04 1.22145253e-05 4.37459902e-03\n",
      " 3.98400050e+00 1.06680836e-02 2.02649059e-03 2.00159690e+00\n",
      " 7.58969516e-01 4.15964437e-03 2.00928359e+00 3.30652961e-02\n",
      " 1.57993219e-02 2.45735895e-02 2.09608809e-01 2.66548988e-03\n",
      " 2.82254393e+00 1.05900597e-04 8.00111304e+00 1.52700901e-03\n",
      " 2.89779686e-03 3.07071148e-02 3.99983216e+00 6.45765836e-03]\n"
     ]
    }
   ],
   "source": [
    "print(np.sum(x.iloc[:, narrowing_mask].to_numpy(), axis = 1))"
   ]
  },
  {
   "cell_type": "code",
   "execution_count": 16,
   "metadata": {},
   "outputs": [
    {
     "name": "stdout",
     "output_type": "stream",
     "text": [
      "     LF_mtp_J__1   LF_mtp_J__2   LF_mtp_J__3   LF_mtp_J__4   LF_mtp_J__5  \\\n",
      "0   2.100060e-03  2.042049e-05  1.664535e-02  3.478520e-04  7.836108e-09   \n",
      "1   1.639315e-02  3.783870e-02  9.768119e-05  7.510101e-05  7.085757e-02   \n",
      "2   1.168348e-06  1.736744e-08  4.933058e-08  7.656540e-10  1.483258e-08   \n",
      "3   9.359178e-09  4.477403e-06  4.395417e-08  2.063308e-06  5.876554e-05   \n",
      "4   1.101619e-07  4.546296e-04  9.727482e-04  1.782762e-04  5.667455e-04   \n",
      "5   2.652282e-07  9.907032e-08  4.819744e-10  3.225004e-12  4.797702e-05   \n",
      "6   4.443956e-05  5.807227e-01  2.000000e+00  2.000000e+00  1.999908e+00   \n",
      "7   7.585666e-07  2.875519e-07  3.732428e-04  2.517838e-04  3.658841e-03   \n",
      "8   1.651035e-02  3.953820e-05  3.608287e-03  3.863653e-03  1.106629e-02   \n",
      "9   3.022059e-02  1.472055e-04  2.949755e-01  1.750298e+00  3.488301e-02   \n",
      "10  3.717974e-08  2.575776e-07  9.622872e-07  1.823141e-06  2.740771e-05   \n",
      "11  1.959677e-06  3.756505e-08  1.159911e-04  2.999998e+00  1.422852e-06   \n",
      "12  1.676465e-02  2.574034e-05  4.831641e-02  3.567843e-04  1.841276e-04   \n",
      "13  3.999998e+00  4.581996e-04  8.198633e-03  2.000000e+00  9.397848e-03   \n",
      "14  1.999988e+00  1.999934e+00  3.000000e+00  2.999981e+00  2.999999e+00   \n",
      "15  1.626368e-05  1.407072e-08  4.755862e-06  2.884414e-09  2.443299e-04   \n",
      "16  3.098910e-03  1.951485e-05  8.681187e-05  6.246343e-05  1.461254e-06   \n",
      "17  4.961440e-07  2.034787e-03  1.040334e-03  1.200177e-04  2.275433e-06   \n",
      "18  1.250743e-02  3.935495e-03  2.000000e+00  2.999683e+00  2.000000e+00   \n",
      "19  1.354602e-07  8.359962e-07  4.008393e-07  1.784452e-06  8.681124e-06   \n",
      "20  1.601335e-05  1.749433e-02  3.037756e-05  4.365983e-03  4.000000e+00   \n",
      "21  8.278544e-09  1.407609e-07  5.094506e-11  2.310086e-06  6.458298e-05   \n",
      "22  3.862297e-09  6.055040e-07  1.205029e-07  3.182761e-05  8.234455e-05   \n",
      "23  1.806580e-05  3.294628e-04  4.439848e-01  2.106145e-02  2.999648e+00   \n",
      "24  9.145661e-08  1.291293e-06  1.292303e-05  2.255905e-09  1.037032e-05   \n",
      "25  4.694917e-08  2.646658e-07  1.368048e-08  1.731020e-07  1.511096e-05   \n",
      "26  1.627074e-03  1.769427e-07  8.006207e-08  2.287226e-04  4.049001e-05   \n",
      "27  5.203267e-06  2.938324e-07  1.581534e-07  1.870394e-06  7.967369e-03   \n",
      "28  1.162022e-03  6.338554e-05  2.178814e-08  1.390683e-06  1.010351e-06   \n",
      "29  2.449223e-07  1.273002e-06  3.623949e-08  2.930826e-09  3.309223e-07   \n",
      "..           ...           ...           ...           ...           ...   \n",
      "62  1.999985e+00  2.000000e+00  2.000000e+00  2.000000e+00  2.000000e+00   \n",
      "63  3.373621e-09  2.595042e-03  9.655318e-07  1.406273e-03  1.882870e-05   \n",
      "64  1.999981e+00  3.000000e+00  2.999613e+00  2.000001e+00  3.069167e-02   \n",
      "65  7.043449e-06  2.458222e-09  2.659584e-07  2.440115e-04  9.941905e-04   \n",
      "66  4.974199e-01  6.630055e-08  3.031345e-09  3.455444e-07  3.050525e-04   \n",
      "67  1.028264e-10  3.088897e-08  1.328453e-05  8.652606e-05  4.846421e-04   \n",
      "68  5.692812e-06  7.932895e-07  3.691531e-06  1.910979e-07  4.343479e-07   \n",
      "69  5.007955e-04  3.469429e-09  1.040772e-06  1.552393e-09  1.626040e-07   \n",
      "70  1.218427e-11  1.583724e-06  7.223574e-10  1.260308e-10  2.242991e-07   \n",
      "71  3.904693e-03  1.570608e-04  9.868029e-07  3.334953e-07  6.187487e-08   \n",
      "72  2.624681e-09  2.133959e-03  2.034116e-09  2.828924e-05  1.257379e-11   \n",
      "73  1.258022e-05  1.830021e-03  8.473987e-03  1.220653e-04  3.919081e-08   \n",
      "74  5.012331e-05  7.597418e-04  4.550482e-05  4.502079e-06  3.835534e-06   \n",
      "75  4.548905e-06  4.559175e-08  1.987928e-07  8.468760e-08  3.056425e-06   \n",
      "76  1.282422e-07  2.169406e-05  1.251647e-05  7.563264e-01  8.296698e-07   \n",
      "77  1.225653e-03  7.745911e-05  1.275768e-05  5.455193e-07  1.784673e-04   \n",
      "78  2.526255e-05  1.110420e-08  3.499283e-08  1.000091e-05  1.933819e-04   \n",
      "79  1.037268e-07  5.539261e-08  6.870738e-07  1.021457e-06  6.407845e-05   \n",
      "80  4.052586e-08  6.122284e-08  1.890337e-12  7.248606e-09  3.314650e-05   \n",
      "81  1.225697e-09  1.969063e-04  2.009048e-05  2.386646e-02  4.188662e-04   \n",
      "82  4.525764e-08  3.993003e-05  1.808555e-04  6.861003e-04  1.194201e-01   \n",
      "83  2.016903e-03  5.197542e-07  1.551981e-06  3.017030e-05  2.444224e-05   \n",
      "84  2.779113e-05  6.134105e-04  8.945317e-06  2.255183e-03  1.059940e-02   \n",
      "85  3.453899e-09  2.481703e-07  1.140845e-09  1.352938e-07  1.948061e-06   \n",
      "86  2.999981e+00  1.614233e-07  5.226711e-07  1.668612e-05  1.999967e+00   \n",
      "87  7.413631e-06  1.476335e-04  9.422399e-05  8.659920e-08  5.587884e-07   \n",
      "88  5.364878e-05  8.505556e-09  1.424937e-08  1.833539e-06  4.810907e-06   \n",
      "89  4.863594e-05  4.910431e-06  8.383505e-08  1.365736e-03  2.647659e-03   \n",
      "90  1.867211e-08  4.167171e-05  5.523449e-06  4.737066e-06  5.223357e-08   \n",
      "91  2.905340e-04  1.766144e-07  2.606400e-09  1.061790e-04  1.123356e-07   \n",
      "\n",
      "    LF_mtp_J__ip Patient_ID   RF_mtp_J__1   RF_mtp_J__2   RF_mtp_J__3  \\\n",
      "0   1.274836e-05     UAB557  3.187901e-07  6.207368e-04  1.658153e-02   \n",
      "1   3.047216e-05     UAB056  2.817736e-03  5.438272e-05  2.713521e-05   \n",
      "2   1.089523e-07     UAB452  1.456872e-04  1.999130e-03  1.111588e-03   \n",
      "3   1.115956e-06     UAB463  4.524683e-05  1.780179e-06  4.118981e-09   \n",
      "4   4.380016e-05     UAB572  1.102738e-07  1.248794e-02  5.705057e-03   \n",
      "5   1.833722e-08     UAB207  7.925062e-05  5.058893e-04  6.783976e-08   \n",
      "6   3.227510e-11     UAB577  5.363555e-06  2.999984e+00  2.999962e+00   \n",
      "7   8.398757e-06     UAB302  2.461498e-06  5.362545e-12  2.949599e-05   \n",
      "8   1.521378e-03     UAB046  1.999996e+00  3.999989e+00  4.000000e+00   \n",
      "9   1.071368e-06     UAB096  1.252833e-06  2.824940e-04  3.933985e-05   \n",
      "10  6.717757e-10     UAB318  9.828797e-06  3.793461e-07  3.514865e-08   \n",
      "11  7.925578e-04     UAB384  5.279000e-05  1.245404e-04  6.030699e-05   \n",
      "12  2.870696e-05     UAB422  1.999999e+00  3.017120e-04  2.327914e-03   \n",
      "13  3.399435e-06     UAB504  2.999897e+00  1.571696e+00  1.999834e+00   \n",
      "14  1.097523e-02     UAB163  1.999762e+00  1.999904e+00  3.000000e+00   \n",
      "15  5.669373e-05     UAB123  2.751837e-06  6.114744e-06  2.495515e-05   \n",
      "16  4.127748e-10     UAB090  2.352949e-04  6.972985e-09  2.597157e-04   \n",
      "17  4.593609e-12     UAB063  2.986367e-09  1.053780e-02  4.781733e-05   \n",
      "18  3.999981e+00     UAB706  4.000000e+00  3.999999e+00  4.000000e+00   \n",
      "19  7.576890e-11     UAB398  7.525184e-06  3.026387e-06  2.411748e-07   \n",
      "20  6.220433e-09     UAB129  3.592645e-08  3.000000e+00  3.000025e+00   \n",
      "21  1.199353e-08     UAB389  4.675562e-08  1.840627e-04  3.034152e-09   \n",
      "22  2.484443e-07     UAB569  3.531754e-08  1.980441e-03  1.289943e-04   \n",
      "23  1.714460e-06     UAB574  8.792397e-04  5.842064e-04  2.625980e-02   \n",
      "24  2.913906e-11     UAB002  9.970145e-08  2.357853e-06  2.680488e-06   \n",
      "25  2.948378e-06     UAB667  1.543936e-03  8.854657e-08  9.827333e-05   \n",
      "26  4.848261e-08     UAB639  1.647856e-06  4.409124e-03  1.974665e-08   \n",
      "27  2.083976e-04     UAB041  1.868497e-07  9.901136e-04  6.636166e-06   \n",
      "28  1.341670e-04     UAB217  3.000000e+00  1.278640e-06  4.797942e-07   \n",
      "29  7.222599e-06     UAB286  7.747746e-06  2.569526e-06  1.275377e-10   \n",
      "..           ...        ...           ...           ...           ...   \n",
      "62  1.999269e+00     UAB060  1.999995e+00  1.999945e+00  2.000000e+00   \n",
      "63  5.287522e-09     UAB162  4.583416e-08  5.235968e-09  1.413077e-07   \n",
      "64  1.761194e-04     UAB620  1.905965e-04  1.015656e-02  3.101588e-02   \n",
      "65  1.200881e-10     UAB511  1.105035e-03  3.875676e-08  1.061274e-07   \n",
      "66  4.784882e-09     UAB506  9.097464e-02  3.712239e-04  4.993342e-08   \n",
      "67  3.389439e-05     UAB521  1.583295e-07  7.354159e-07  3.835995e-06   \n",
      "68  2.580382e-03     UAB326  4.228001e-08  2.800620e-08  1.298823e-08   \n",
      "69  7.913461e-06     UAB319  1.244357e-04  1.000990e-05  6.688300e-07   \n",
      "70  1.674034e-10     UAB151  9.661884e-09  2.069860e-06  7.228393e-07   \n",
      "71  2.552299e-07     UAB065  3.504084e-07  5.601383e-05  3.996530e-05   \n",
      "72  1.996993e+00     UAB232  8.462098e-07  3.881164e-08  7.580923e-07   \n",
      "73  1.262856e-10     UAB301  8.807647e-05  2.425935e-07  6.942361e-07   \n",
      "74  1.280554e-08     UAB405  7.090550e-05  1.861023e-05  1.989973e-06   \n",
      "75  3.359253e-09     UAB626  1.999999e+00  4.923363e-06  2.338952e-07   \n",
      "76  6.956988e-07     UAB701  7.656557e-08  5.994464e-07  1.873140e-03   \n",
      "77  1.021469e-03     UAB566  4.079814e-04  6.031347e-07  3.116621e-08   \n",
      "78  2.422998e-10     UAB700  1.942755e-03  7.864840e-04  8.610244e-09   \n",
      "79  4.361611e-11     UAB707  3.281734e-02  6.415386e-05  2.216619e-09   \n",
      "80  3.656495e-08     UAB114  1.402696e-08  3.902501e-10  3.407182e-08   \n",
      "81  1.013443e-07     UAB142  2.430167e-08  3.075563e-08  1.336517e-05   \n",
      "82  4.736500e-03     UAB675  8.667370e-08  2.315856e-05  2.606142e-08   \n",
      "83  2.679737e-04     UAB197  4.270387e-05  6.459740e-06  8.853385e-06   \n",
      "84  7.861452e-01     UAB032  2.020392e-02  1.720277e-03  2.084271e-04   \n",
      "85  4.220542e-11     UAB366  3.068544e-09  8.903931e-07  6.517627e-08   \n",
      "86  1.543091e-04     UAB108  2.999981e+00  2.522310e-06  6.136223e-06   \n",
      "87  1.524216e-05     UAB716  4.348510e-06  1.173098e-06  7.638643e-06   \n",
      "88  1.299617e-10     UAB517  2.746813e-03  4.667925e-07  1.475389e-06   \n",
      "89  3.034065e-06     UAB403  2.384594e-04  3.357638e-05  4.292334e-06   \n",
      "90  1.999813e+00     UAB231  6.339564e-09  7.500453e-08  6.019531e-08   \n",
      "91  8.219791e-09     UAB343  3.539954e-03  2.442802e-03  2.229414e-05   \n",
      "\n",
      "     RF_mtp_J__4   RF_mtp_J__5  RF_mtp_J__ip  total_narrow  \n",
      "0   4.881845e-05  3.488747e-05  8.504653e-04      0.037263  \n",
      "1   2.689318e-04  2.183928e-02  2.779277e-07      0.150300  \n",
      "2   6.747470e-07  3.359395e-05  2.080644e-06      0.003294  \n",
      "3   8.273751e-09  4.502025e-07  3.143120e-08      0.000114  \n",
      "4   1.881166e-02  1.221394e-02  5.086916e-06      0.051440  \n",
      "5   5.457565e-10  4.218003e-04  2.651939e-08      0.001055  \n",
      "6   4.265779e-05  2.000000e+00  5.136700e-12     14.580669  \n",
      "7   1.262722e-03  3.951216e-07  4.837324e-06      0.005593  \n",
      "8   3.999998e+00  4.000000e+00  2.999892e+00     21.036484  \n",
      "9   6.723493e-04  1.846398e-03  1.442516e-06      2.113368  \n",
      "10  6.850020e-04  3.088349e-04  1.019251e-05      0.001045  \n",
      "11  1.551942e-04  1.970768e-04  4.772451e-06      3.001504  \n",
      "12  1.999978e+00  9.999991e-01  7.525898e-06      5.068290  \n",
      "13  3.005501e+00  4.000000e+00  2.445126e-04     19.595230  \n",
      "14  3.000000e+00  2.999983e+00  1.573088e-03     26.012099  \n",
      "15  8.662304e-07  3.980340e-05  1.215843e-04      0.000518  \n",
      "16  3.042195e-03  4.467530e-04  9.776463e-07      0.007254  \n",
      "17  1.328318e-05  1.195987e-03  6.025695e-10      0.014993  \n",
      "18  3.999998e+00  4.000000e+00  3.000001e+00     34.016105  \n",
      "19  2.998149e-08  1.169492e-04  2.077332e-10      0.000140  \n",
      "20  3.999994e+00  3.999971e+00  7.608666e-07     18.021897  \n",
      "21  8.936766e-08  3.211748e-09  1.619660e-12      0.000251  \n",
      "22  5.588362e-05  4.767746e-04  2.258785e-07      0.002758  \n",
      "23  1.273665e+00  3.000001e+00  5.334061e-07      7.766433  \n",
      "24  2.180934e-07  7.397154e-08  3.233948e-08      0.000030  \n",
      "25  9.056620e-08  4.042764e-04  7.386365e-07      0.002066  \n",
      "26  2.636915e-09  1.962979e-03  1.403860e-07      0.008271  \n",
      "27  3.450560e-05  8.843375e-04  4.720676e-09      0.010099  \n",
      "28  2.070657e-07  1.887370e-05  1.146040e-04      3.001497  \n",
      "29  1.209943e-08  1.280034e-08  1.941205e-07      0.000020  \n",
      "..           ...           ...           ...           ...  \n",
      "62  2.000000e+00  2.000000e+00  2.000000e+00     23.999194  \n",
      "63  1.046925e-04  1.996058e-04  1.178165e-09      0.004326  \n",
      "64  3.520368e-02  3.000085e+00  1.565016e+00     14.672130  \n",
      "65  2.442330e-06  8.001229e-06  7.479379e-08      0.002361  \n",
      "66  6.723022e-06  5.300054e-07  2.250526e-09      0.589079  \n",
      "67  3.580722e-06  1.652216e-03  1.054929e-04      0.002384  \n",
      "68  1.999932e+00  4.370104e-04  3.002762e-06      2.002963  \n",
      "69  8.506633e-08  1.547281e-06  1.345665e-07      0.000647  \n",
      "70  3.773227e-07  3.140576e-06  4.085215e-06      0.000012  \n",
      "71  2.143564e-04  5.193174e-07  2.225042e-09      0.004375  \n",
      "72  9.690039e-06  1.416125e-04  1.984692e+00      3.984000  \n",
      "73  1.400683e-04  3.092047e-07  1.294969e-10      0.010668  \n",
      "74  1.071229e-03  2.977988e-08  5.952957e-09      0.002026  \n",
      "75  2.212147e-05  1.562642e-03  6.836687e-08      2.001597  \n",
      "76  1.262047e-04  5.862822e-04  2.097176e-05      0.758970  \n",
      "77  1.031092e-05  1.224069e-03  2.964389e-07      0.004160  \n",
      "78  6.281560e-03  2.000000e+00  4.404530e-05      2.009284  \n",
      "79  2.289594e-08  1.096548e-04  8.178790e-06      0.033065  \n",
      "80  5.985087e-12  7.806941e-07  1.576520e-02      0.015799  \n",
      "81  5.357493e-05  4.048198e-06  1.197003e-07      0.024574  \n",
      "82  1.273498e-03  3.347468e-03  7.990104e-02      0.209609  \n",
      "83  1.312591e-05  6.459181e-07  2.521401e-04      0.002665  \n",
      "84  7.500184e-04  4.299995e-06  2.000007e+00      2.822544  \n",
      "85  5.717781e-06  9.250180e-05  4.386215e-06      0.000106  \n",
      "86  1.852529e-06  5.602100e-04  4.424149e-04      8.001113  \n",
      "87  1.240446e-03  3.125870e-06  5.117870e-06      0.001527  \n",
      "88  2.948545e-06  8.577707e-05  2.509566e-10      0.002898  \n",
      "89  2.821753e-03  4.966847e-03  1.857213e-02      0.030707  \n",
      "90  1.918980e-08  7.533229e-08  1.999967e+00      3.999832  \n",
      "91  2.981136e-05  2.333567e-05  2.448881e-06      0.006458  \n",
      "\n",
      "[92 rows x 14 columns]\n"
     ]
    }
   ],
   "source": [
    "print(x)"
   ]
  },
  {
   "cell_type": "code",
   "execution_count": 16,
   "metadata": {},
   "outputs": [],
   "source": [
    "true = pd.read_csv('../../train/training.csv')"
   ]
  },
  {
   "cell_type": "code",
   "execution_count": 39,
   "metadata": {},
   "outputs": [],
   "source": [
    "mask = [patient_id in x['Patient_ID'].to_numpy() for patient_id in true['Patient_ID']]\n",
    "\n",
    "true_part = true.iloc[mask]"
   ]
  },
  {
   "cell_type": "code",
   "execution_count": 30,
   "metadata": {},
   "outputs": [],
   "source": [
    "cols = ['LF_mtp_J__1', 'LF_mtp_J__2', 'LF_mtp_J__3', 'LF_mtp_J__4','LF_mtp_J__5', 'LF_mtp_J__ip','RF_mtp_J__1','RF_mtp_J__2','RF_mtp_J__3', 'RF_mtp_J__4','RF_mtp_J__5','RF_mtp_J__ip']\n",
    "\n",
    "pred = x[cols].to_numpy()\n",
    "truth = true_part[cols].to_numpy()"
   ]
  },
  {
   "cell_type": "code",
   "execution_count": 36,
   "metadata": {},
   "outputs": [
    {
     "data": {
      "text/plain": [
       "array([1.30853957, 1.20600466, 1.32900223, 1.19526512, 1.42064635,\n",
       "       0.86388906, 1.38292799, 0.93861139, 1.35251965, 1.43232125,\n",
       "       1.54085907, 1.03316863])"
      ]
     },
     "execution_count": 36,
     "metadata": {},
     "output_type": "execute_result"
    }
   ],
   "source": [
    "np.sqrt(np.mean(np.square(pred - truth), axis = 0))"
   ]
  },
  {
   "cell_type": "code",
   "execution_count": 42,
   "metadata": {},
   "outputs": [
    {
     "ename": "FileNotFoundError",
     "evalue": "[Errno 2] File b'/mnt/jw01-aruk-home01/projects/ra_challenge/RA_challenge/training_dataset/training.csv' does not exist: b'/mnt/jw01-aruk-home01/projects/ra_challenge/RA_challenge/training_dataset/training.csv'",
     "output_type": "error",
     "traceback": [
      "\u001b[0;31m---------------------------------------------------------------------------\u001b[0m",
      "\u001b[0;31mFileNotFoundError\u001b[0m                         Traceback (most recent call last)",
      "\u001b[0;32m<ipython-input-42-77647c0f95f3>\u001b[0m in \u001b[0;36m<module>\u001b[0;34m\u001b[0m\n\u001b[1;32m      3\u001b[0m \u001b[0mpretrained_base_model\u001b[0m \u001b[0;34m=\u001b[0m \u001b[0mtf\u001b[0m\u001b[0;34m.\u001b[0m\u001b[0mkeras\u001b[0m\u001b[0;34m.\u001b[0m\u001b[0mmodels\u001b[0m\u001b[0;34m.\u001b[0m\u001b[0mload_model\u001b[0m\u001b[0;34m(\u001b[0m\u001b[0;34m'feet_erosion_v1.h5'\u001b[0m\u001b[0;34m,\u001b[0m \u001b[0mcustom_objects\u001b[0m\u001b[0;34m=\u001b[0m\u001b[0mdependencies\u001b[0m\u001b[0;34m)\u001b[0m\u001b[0;34m\u001b[0m\u001b[0;34m\u001b[0m\u001b[0m\n\u001b[1;32m      4\u001b[0m \u001b[0;34m\u001b[0m\u001b[0m\n\u001b[0;32m----> 5\u001b[0;31m \u001b[0mjoint_dataset\u001b[0m\u001b[0;34m,\u001b[0m \u001b[0mtf_joint_dataset\u001b[0m \u001b[0;34m=\u001b[0m \u001b[0m_get_dataset\u001b[0m\u001b[0;34m(\u001b[0m\u001b[0mconfig\u001b[0m\u001b[0;34m,\u001b[0m \u001b[0;34m'F'\u001b[0m\u001b[0;34m,\u001b[0m \u001b[0;34m'E'\u001b[0m\u001b[0;34m)\u001b[0m\u001b[0;34m\u001b[0m\u001b[0;34m\u001b[0m\u001b[0m\n\u001b[0m\u001b[1;32m      6\u001b[0m \u001b[0;34m\u001b[0m\u001b[0m\n\u001b[1;32m      7\u001b[0m \u001b[0moutputs\u001b[0m \u001b[0;34m=\u001b[0m \u001b[0;34m[\u001b[0m\u001b[0;34m]\u001b[0m\u001b[0;34m\u001b[0m\u001b[0;34m\u001b[0m\u001b[0m\n",
      "\u001b[0;32m~/Development/Projects/DreamChallenge/RA2_alpine_lads/ra_joint_predictions/train/train_joints_damage.py\u001b[0m in \u001b[0;36m_get_dataset\u001b[0;34m(config, joint_type, dmg_type)\u001b[0m\n\u001b[1;32m     53\u001b[0m         \u001b[0mjoint_dataset\u001b[0m \u001b[0;34m=\u001b[0m \u001b[0mfeet_joint_dataset\u001b[0m\u001b[0;34m(\u001b[0m\u001b[0mconfig\u001b[0m\u001b[0;34m)\u001b[0m\u001b[0;34m\u001b[0m\u001b[0;34m\u001b[0m\u001b[0m\n\u001b[1;32m     54\u001b[0m \u001b[0;34m\u001b[0m\u001b[0m\n\u001b[0;32m---> 55\u001b[0;31m         \u001b[0mtf_joint_dataset\u001b[0m \u001b[0;34m=\u001b[0m \u001b[0mjoint_dataset\u001b[0m\u001b[0;34m.\u001b[0m\u001b[0mcreate_feet_joints_dataset\u001b[0m\u001b[0;34m(\u001b[0m\u001b[0moutcomes_sources\u001b[0m\u001b[0;34m,\u001b[0m \u001b[0mjoints_source\u001b[0m \u001b[0;34m=\u001b[0m \u001b[0;34m'./data/predictions/feet_joint_data.csv'\u001b[0m\u001b[0;34m,\u001b[0m \u001b[0merosion_flag\u001b[0m \u001b[0;34m=\u001b[0m \u001b[0merosion_flag\u001b[0m\u001b[0;34m)\u001b[0m\u001b[0;34m\u001b[0m\u001b[0;34m\u001b[0m\u001b[0m\n\u001b[0m\u001b[1;32m     56\u001b[0m     \u001b[0;32melif\u001b[0m \u001b[0mjoint_type\u001b[0m \u001b[0;34m==\u001b[0m \u001b[0;34m'H'\u001b[0m\u001b[0;34m:\u001b[0m\u001b[0;34m\u001b[0m\u001b[0;34m\u001b[0m\u001b[0m\n\u001b[1;32m     57\u001b[0m         \u001b[0mjoint_dataset\u001b[0m \u001b[0;34m=\u001b[0m \u001b[0mhands_joints_dataset\u001b[0m\u001b[0;34m(\u001b[0m\u001b[0mconfig\u001b[0m\u001b[0;34m)\u001b[0m\u001b[0;34m\u001b[0m\u001b[0;34m\u001b[0m\u001b[0m\n",
      "\u001b[0;32m~/Development/Projects/DreamChallenge/RA2_alpine_lads/ra_joint_predictions/dataset/joint_dataset.py\u001b[0m in \u001b[0;36mcreate_feet_joints_dataset\u001b[0;34m(self, outcomes_source, joints_source, val_joints_source, erosion_flag)\u001b[0m\n\u001b[1;32m    269\u001b[0m             \u001b[0mno_classes\u001b[0m \u001b[0;34m=\u001b[0m \u001b[0;36m11\u001b[0m\u001b[0;34m\u001b[0m\u001b[0;34m\u001b[0m\u001b[0m\n\u001b[1;32m    270\u001b[0m \u001b[0;34m\u001b[0m\u001b[0m\n\u001b[0;32m--> 271\u001b[0;31m         \u001b[0;32mreturn\u001b[0m \u001b[0mself\u001b[0m\u001b[0;34m.\u001b[0m\u001b[0m_create_dream_datasets\u001b[0m\u001b[0;34m(\u001b[0m\u001b[0moutcomes_source\u001b[0m\u001b[0;34m,\u001b[0m \u001b[0mjoints_source\u001b[0m\u001b[0;34m,\u001b[0m \u001b[0mval_joints_source\u001b[0m\u001b[0;34m,\u001b[0m \u001b[0mfoot_outcome_mapping\u001b[0m\u001b[0;34m,\u001b[0m \u001b[0mdream_foot_parts\u001b[0m\u001b[0;34m,\u001b[0m \u001b[0;34m[\u001b[0m\u001b[0moutcome_column\u001b[0m\u001b[0;34m]\u001b[0m\u001b[0;34m,\u001b[0m \u001b[0mno_classes\u001b[0m\u001b[0;34m)\u001b[0m\u001b[0;34m\u001b[0m\u001b[0;34m\u001b[0m\u001b[0m\n\u001b[0m\u001b[1;32m    272\u001b[0m \u001b[0;34m\u001b[0m\u001b[0m\n\u001b[1;32m    273\u001b[0m \u001b[0;32mclass\u001b[0m \u001b[0mhands_joints_dataset\u001b[0m\u001b[0;34m(\u001b[0m\u001b[0mdream_dataset\u001b[0m\u001b[0;34m)\u001b[0m\u001b[0;34m:\u001b[0m\u001b[0;34m\u001b[0m\u001b[0;34m\u001b[0m\u001b[0m\n",
      "\u001b[0;32m~/Development/Projects/DreamChallenge/RA2_alpine_lads/ra_joint_predictions/dataset/joint_dataset.py\u001b[0m in \u001b[0;36m_create_dream_datasets\u001b[0;34m(self, outcomes_source, joints_source, val_joints_source, outcome_mapping, parts, outcome_columns, no_classes, wrist)\u001b[0m\n\u001b[1;32m    120\u001b[0m \u001b[0;34m\u001b[0m\u001b[0m\n\u001b[1;32m    121\u001b[0m     \u001b[0;32mdef\u001b[0m \u001b[0m_create_dream_datasets\u001b[0m\u001b[0;34m(\u001b[0m\u001b[0mself\u001b[0m\u001b[0;34m,\u001b[0m \u001b[0moutcomes_source\u001b[0m\u001b[0;34m,\u001b[0m \u001b[0mjoints_source\u001b[0m\u001b[0;34m,\u001b[0m \u001b[0mval_joints_source\u001b[0m\u001b[0;34m,\u001b[0m \u001b[0moutcome_mapping\u001b[0m\u001b[0;34m,\u001b[0m \u001b[0mparts\u001b[0m\u001b[0;34m,\u001b[0m \u001b[0moutcome_columns\u001b[0m\u001b[0;34m,\u001b[0m \u001b[0mno_classes\u001b[0m\u001b[0;34m,\u001b[0m \u001b[0mwrist\u001b[0m \u001b[0;34m=\u001b[0m \u001b[0;32mFalse\u001b[0m\u001b[0;34m)\u001b[0m\u001b[0;34m:\u001b[0m\u001b[0;34m\u001b[0m\u001b[0;34m\u001b[0m\u001b[0m\n\u001b[0;32m--> 122\u001b[0;31m         \u001b[0moutcome_joint_df\u001b[0m \u001b[0;34m=\u001b[0m \u001b[0mself\u001b[0m\u001b[0;34m.\u001b[0m\u001b[0m_create_outcome_joint_dataframe\u001b[0m\u001b[0;34m(\u001b[0m\u001b[0moutcomes_source\u001b[0m\u001b[0;34m,\u001b[0m \u001b[0mjoints_source\u001b[0m\u001b[0;34m,\u001b[0m \u001b[0moutcome_mapping\u001b[0m\u001b[0;34m,\u001b[0m \u001b[0mparts\u001b[0m\u001b[0;34m,\u001b[0m \u001b[0mwrist\u001b[0m \u001b[0;34m=\u001b[0m \u001b[0mwrist\u001b[0m\u001b[0;34m)\u001b[0m\u001b[0;34m\u001b[0m\u001b[0;34m\u001b[0m\u001b[0m\n\u001b[0m\u001b[1;32m    123\u001b[0m         \u001b[0moutcome_joint_df\u001b[0m \u001b[0;34m=\u001b[0m \u001b[0moutcome_joint_df\u001b[0m\u001b[0;34m.\u001b[0m\u001b[0mdropna\u001b[0m\u001b[0;34m(\u001b[0m\u001b[0msubset\u001b[0m \u001b[0;34m=\u001b[0m \u001b[0moutcome_columns\u001b[0m\u001b[0;34m)\u001b[0m\u001b[0;34m\u001b[0m\u001b[0;34m\u001b[0m\u001b[0m\n\u001b[1;32m    124\u001b[0m         \u001b[0;32mif\u001b[0m\u001b[0;34m(\u001b[0m\u001b[0mval_joints_source\u001b[0m\u001b[0;34m)\u001b[0m\u001b[0;34m:\u001b[0m\u001b[0;34m\u001b[0m\u001b[0;34m\u001b[0m\u001b[0m\n",
      "\u001b[0;32m~/Development/Projects/DreamChallenge/RA2_alpine_lads/ra_joint_predictions/dataset/joint_dataset.py\u001b[0m in \u001b[0;36m_create_outcome_joint_dataframe\u001b[0;34m(self, outcomes_source, joints_source, outcome_mapping, parts, wrist)\u001b[0m\n\u001b[1;32m    135\u001b[0m \u001b[0;34m\u001b[0m\u001b[0m\n\u001b[1;32m    136\u001b[0m     \u001b[0;32mdef\u001b[0m \u001b[0m_create_outcome_joint_dataframe\u001b[0m\u001b[0;34m(\u001b[0m\u001b[0mself\u001b[0m\u001b[0;34m,\u001b[0m \u001b[0moutcomes_source\u001b[0m\u001b[0;34m,\u001b[0m \u001b[0mjoints_source\u001b[0m\u001b[0;34m,\u001b[0m \u001b[0moutcome_mapping\u001b[0m\u001b[0;34m,\u001b[0m \u001b[0mparts\u001b[0m\u001b[0;34m,\u001b[0m \u001b[0mwrist\u001b[0m \u001b[0;34m=\u001b[0m \u001b[0;32mFalse\u001b[0m\u001b[0;34m)\u001b[0m\u001b[0;34m:\u001b[0m\u001b[0;34m\u001b[0m\u001b[0;34m\u001b[0m\u001b[0m\n\u001b[0;32m--> 137\u001b[0;31m         \u001b[0moutcomes_df\u001b[0m \u001b[0;34m=\u001b[0m \u001b[0mself\u001b[0m\u001b[0;34m.\u001b[0m\u001b[0m_create_intermediate_outcomes_df\u001b[0m\u001b[0;34m(\u001b[0m\u001b[0moutcomes_source\u001b[0m\u001b[0;34m,\u001b[0m \u001b[0moutcome_mapping\u001b[0m\u001b[0;34m,\u001b[0m \u001b[0mparts\u001b[0m\u001b[0;34m)\u001b[0m\u001b[0;34m\u001b[0m\u001b[0;34m\u001b[0m\u001b[0m\n\u001b[0m\u001b[1;32m    138\u001b[0m         \u001b[0;32mif\u001b[0m \u001b[0mwrist\u001b[0m\u001b[0;34m:\u001b[0m\u001b[0;34m\u001b[0m\u001b[0;34m\u001b[0m\u001b[0m\n\u001b[1;32m    139\u001b[0m             \u001b[0mjoints_df\u001b[0m \u001b[0;34m=\u001b[0m \u001b[0mself\u001b[0m\u001b[0;34m.\u001b[0m\u001b[0m_create_intermediate_wrists_df\u001b[0m\u001b[0;34m(\u001b[0m\u001b[0mjoints_source\u001b[0m\u001b[0;34m,\u001b[0m \u001b[0mhand_wrist_keys\u001b[0m\u001b[0;34m)\u001b[0m\u001b[0;34m\u001b[0m\u001b[0;34m\u001b[0m\u001b[0m\n",
      "\u001b[0;32m~/Development/Projects/DreamChallenge/RA2_alpine_lads/ra_joint_predictions/dataset/joint_dataset.py\u001b[0m in \u001b[0;36m_create_intermediate_outcomes_df\u001b[0;34m(self, outcomes_source, outcome_mapping, parts)\u001b[0m\n\u001b[1;32m    144\u001b[0m \u001b[0;34m\u001b[0m\u001b[0m\n\u001b[1;32m    145\u001b[0m     \u001b[0;32mdef\u001b[0m \u001b[0m_create_intermediate_outcomes_df\u001b[0m\u001b[0;34m(\u001b[0m\u001b[0mself\u001b[0m\u001b[0;34m,\u001b[0m \u001b[0moutcomes_source\u001b[0m\u001b[0;34m,\u001b[0m \u001b[0moutcome_mapping\u001b[0m\u001b[0;34m,\u001b[0m \u001b[0mparts\u001b[0m\u001b[0;34m)\u001b[0m\u001b[0;34m:\u001b[0m\u001b[0;34m\u001b[0m\u001b[0;34m\u001b[0m\u001b[0m\n\u001b[0;32m--> 146\u001b[0;31m         \u001b[0moutcomes_df\u001b[0m \u001b[0;34m=\u001b[0m \u001b[0mpd\u001b[0m\u001b[0;34m.\u001b[0m\u001b[0mread_csv\u001b[0m\u001b[0;34m(\u001b[0m\u001b[0moutcomes_source\u001b[0m\u001b[0;34m)\u001b[0m\u001b[0;34m\u001b[0m\u001b[0;34m\u001b[0m\u001b[0m\n\u001b[0m\u001b[1;32m    147\u001b[0m \u001b[0;34m\u001b[0m\u001b[0m\n\u001b[1;32m    148\u001b[0m         \u001b[0moutcome_joints\u001b[0m \u001b[0;34m=\u001b[0m \u001b[0;34m[\u001b[0m\u001b[0;34m]\u001b[0m\u001b[0;34m\u001b[0m\u001b[0;34m\u001b[0m\u001b[0m\n",
      "\u001b[0;32m~/Development/Programs/anaconda3/lib/python3.7/site-packages/pandas/io/parsers.py\u001b[0m in \u001b[0;36mparser_f\u001b[0;34m(filepath_or_buffer, sep, delimiter, header, names, index_col, usecols, squeeze, prefix, mangle_dupe_cols, dtype, engine, converters, true_values, false_values, skipinitialspace, skiprows, skipfooter, nrows, na_values, keep_default_na, na_filter, verbose, skip_blank_lines, parse_dates, infer_datetime_format, keep_date_col, date_parser, dayfirst, iterator, chunksize, compression, thousands, decimal, lineterminator, quotechar, quoting, doublequote, escapechar, comment, encoding, dialect, tupleize_cols, error_bad_lines, warn_bad_lines, delim_whitespace, low_memory, memory_map, float_precision)\u001b[0m\n\u001b[1;32m    700\u001b[0m                     skip_blank_lines=skip_blank_lines)\n\u001b[1;32m    701\u001b[0m \u001b[0;34m\u001b[0m\u001b[0m\n\u001b[0;32m--> 702\u001b[0;31m         \u001b[0;32mreturn\u001b[0m \u001b[0m_read\u001b[0m\u001b[0;34m(\u001b[0m\u001b[0mfilepath_or_buffer\u001b[0m\u001b[0;34m,\u001b[0m \u001b[0mkwds\u001b[0m\u001b[0;34m)\u001b[0m\u001b[0;34m\u001b[0m\u001b[0;34m\u001b[0m\u001b[0m\n\u001b[0m\u001b[1;32m    703\u001b[0m \u001b[0;34m\u001b[0m\u001b[0m\n\u001b[1;32m    704\u001b[0m     \u001b[0mparser_f\u001b[0m\u001b[0;34m.\u001b[0m\u001b[0m__name__\u001b[0m \u001b[0;34m=\u001b[0m \u001b[0mname\u001b[0m\u001b[0;34m\u001b[0m\u001b[0;34m\u001b[0m\u001b[0m\n",
      "\u001b[0;32m~/Development/Programs/anaconda3/lib/python3.7/site-packages/pandas/io/parsers.py\u001b[0m in \u001b[0;36m_read\u001b[0;34m(filepath_or_buffer, kwds)\u001b[0m\n\u001b[1;32m    427\u001b[0m \u001b[0;34m\u001b[0m\u001b[0m\n\u001b[1;32m    428\u001b[0m     \u001b[0;31m# Create the parser.\u001b[0m\u001b[0;34m\u001b[0m\u001b[0;34m\u001b[0m\u001b[0;34m\u001b[0m\u001b[0m\n\u001b[0;32m--> 429\u001b[0;31m     \u001b[0mparser\u001b[0m \u001b[0;34m=\u001b[0m \u001b[0mTextFileReader\u001b[0m\u001b[0;34m(\u001b[0m\u001b[0mfilepath_or_buffer\u001b[0m\u001b[0;34m,\u001b[0m \u001b[0;34m**\u001b[0m\u001b[0mkwds\u001b[0m\u001b[0;34m)\u001b[0m\u001b[0;34m\u001b[0m\u001b[0;34m\u001b[0m\u001b[0m\n\u001b[0m\u001b[1;32m    430\u001b[0m \u001b[0;34m\u001b[0m\u001b[0m\n\u001b[1;32m    431\u001b[0m     \u001b[0;32mif\u001b[0m \u001b[0mchunksize\u001b[0m \u001b[0;32mor\u001b[0m \u001b[0miterator\u001b[0m\u001b[0;34m:\u001b[0m\u001b[0;34m\u001b[0m\u001b[0;34m\u001b[0m\u001b[0m\n",
      "\u001b[0;32m~/Development/Programs/anaconda3/lib/python3.7/site-packages/pandas/io/parsers.py\u001b[0m in \u001b[0;36m__init__\u001b[0;34m(self, f, engine, **kwds)\u001b[0m\n\u001b[1;32m    893\u001b[0m             \u001b[0mself\u001b[0m\u001b[0;34m.\u001b[0m\u001b[0moptions\u001b[0m\u001b[0;34m[\u001b[0m\u001b[0;34m'has_index_names'\u001b[0m\u001b[0;34m]\u001b[0m \u001b[0;34m=\u001b[0m \u001b[0mkwds\u001b[0m\u001b[0;34m[\u001b[0m\u001b[0;34m'has_index_names'\u001b[0m\u001b[0;34m]\u001b[0m\u001b[0;34m\u001b[0m\u001b[0;34m\u001b[0m\u001b[0m\n\u001b[1;32m    894\u001b[0m \u001b[0;34m\u001b[0m\u001b[0m\n\u001b[0;32m--> 895\u001b[0;31m         \u001b[0mself\u001b[0m\u001b[0;34m.\u001b[0m\u001b[0m_make_engine\u001b[0m\u001b[0;34m(\u001b[0m\u001b[0mself\u001b[0m\u001b[0;34m.\u001b[0m\u001b[0mengine\u001b[0m\u001b[0;34m)\u001b[0m\u001b[0;34m\u001b[0m\u001b[0;34m\u001b[0m\u001b[0m\n\u001b[0m\u001b[1;32m    896\u001b[0m \u001b[0;34m\u001b[0m\u001b[0m\n\u001b[1;32m    897\u001b[0m     \u001b[0;32mdef\u001b[0m \u001b[0mclose\u001b[0m\u001b[0;34m(\u001b[0m\u001b[0mself\u001b[0m\u001b[0;34m)\u001b[0m\u001b[0;34m:\u001b[0m\u001b[0;34m\u001b[0m\u001b[0;34m\u001b[0m\u001b[0m\n",
      "\u001b[0;32m~/Development/Programs/anaconda3/lib/python3.7/site-packages/pandas/io/parsers.py\u001b[0m in \u001b[0;36m_make_engine\u001b[0;34m(self, engine)\u001b[0m\n\u001b[1;32m   1120\u001b[0m     \u001b[0;32mdef\u001b[0m \u001b[0m_make_engine\u001b[0m\u001b[0;34m(\u001b[0m\u001b[0mself\u001b[0m\u001b[0;34m,\u001b[0m \u001b[0mengine\u001b[0m\u001b[0;34m=\u001b[0m\u001b[0;34m'c'\u001b[0m\u001b[0;34m)\u001b[0m\u001b[0;34m:\u001b[0m\u001b[0;34m\u001b[0m\u001b[0;34m\u001b[0m\u001b[0m\n\u001b[1;32m   1121\u001b[0m         \u001b[0;32mif\u001b[0m \u001b[0mengine\u001b[0m \u001b[0;34m==\u001b[0m \u001b[0;34m'c'\u001b[0m\u001b[0;34m:\u001b[0m\u001b[0;34m\u001b[0m\u001b[0;34m\u001b[0m\u001b[0m\n\u001b[0;32m-> 1122\u001b[0;31m             \u001b[0mself\u001b[0m\u001b[0;34m.\u001b[0m\u001b[0m_engine\u001b[0m \u001b[0;34m=\u001b[0m \u001b[0mCParserWrapper\u001b[0m\u001b[0;34m(\u001b[0m\u001b[0mself\u001b[0m\u001b[0;34m.\u001b[0m\u001b[0mf\u001b[0m\u001b[0;34m,\u001b[0m \u001b[0;34m**\u001b[0m\u001b[0mself\u001b[0m\u001b[0;34m.\u001b[0m\u001b[0moptions\u001b[0m\u001b[0;34m)\u001b[0m\u001b[0;34m\u001b[0m\u001b[0;34m\u001b[0m\u001b[0m\n\u001b[0m\u001b[1;32m   1123\u001b[0m         \u001b[0;32melse\u001b[0m\u001b[0;34m:\u001b[0m\u001b[0;34m\u001b[0m\u001b[0;34m\u001b[0m\u001b[0m\n\u001b[1;32m   1124\u001b[0m             \u001b[0;32mif\u001b[0m \u001b[0mengine\u001b[0m \u001b[0;34m==\u001b[0m \u001b[0;34m'python'\u001b[0m\u001b[0;34m:\u001b[0m\u001b[0;34m\u001b[0m\u001b[0;34m\u001b[0m\u001b[0m\n",
      "\u001b[0;32m~/Development/Programs/anaconda3/lib/python3.7/site-packages/pandas/io/parsers.py\u001b[0m in \u001b[0;36m__init__\u001b[0;34m(self, src, **kwds)\u001b[0m\n\u001b[1;32m   1851\u001b[0m         \u001b[0mkwds\u001b[0m\u001b[0;34m[\u001b[0m\u001b[0;34m'usecols'\u001b[0m\u001b[0;34m]\u001b[0m \u001b[0;34m=\u001b[0m \u001b[0mself\u001b[0m\u001b[0;34m.\u001b[0m\u001b[0musecols\u001b[0m\u001b[0;34m\u001b[0m\u001b[0;34m\u001b[0m\u001b[0m\n\u001b[1;32m   1852\u001b[0m \u001b[0;34m\u001b[0m\u001b[0m\n\u001b[0;32m-> 1853\u001b[0;31m         \u001b[0mself\u001b[0m\u001b[0;34m.\u001b[0m\u001b[0m_reader\u001b[0m \u001b[0;34m=\u001b[0m \u001b[0mparsers\u001b[0m\u001b[0;34m.\u001b[0m\u001b[0mTextReader\u001b[0m\u001b[0;34m(\u001b[0m\u001b[0msrc\u001b[0m\u001b[0;34m,\u001b[0m \u001b[0;34m**\u001b[0m\u001b[0mkwds\u001b[0m\u001b[0;34m)\u001b[0m\u001b[0;34m\u001b[0m\u001b[0;34m\u001b[0m\u001b[0m\n\u001b[0m\u001b[1;32m   1854\u001b[0m         \u001b[0mself\u001b[0m\u001b[0;34m.\u001b[0m\u001b[0munnamed_cols\u001b[0m \u001b[0;34m=\u001b[0m \u001b[0mself\u001b[0m\u001b[0;34m.\u001b[0m\u001b[0m_reader\u001b[0m\u001b[0;34m.\u001b[0m\u001b[0munnamed_cols\u001b[0m\u001b[0;34m\u001b[0m\u001b[0;34m\u001b[0m\u001b[0m\n\u001b[1;32m   1855\u001b[0m \u001b[0;34m\u001b[0m\u001b[0m\n",
      "\u001b[0;32mpandas/_libs/parsers.pyx\u001b[0m in \u001b[0;36mpandas._libs.parsers.TextReader.__cinit__\u001b[0;34m()\u001b[0m\n",
      "\u001b[0;32mpandas/_libs/parsers.pyx\u001b[0m in \u001b[0;36mpandas._libs.parsers.TextReader._setup_parser_source\u001b[0;34m()\u001b[0m\n",
      "\u001b[0;31mFileNotFoundError\u001b[0m: [Errno 2] File b'/mnt/jw01-aruk-home01/projects/ra_challenge/RA_challenge/training_dataset/training.csv' does not exist: b'/mnt/jw01-aruk-home01/projects/ra_challenge/RA_challenge/training_dataset/training.csv'"
     ]
    }
   ],
   "source": [
    "from train.train_joints_damage import _get_dataset\n",
    "\n",
    "pretrained_base_model = tf.keras.models.load_model('feet_erosion_v1.h5', custom_objects=dependencies)\n",
    "\n",
    "joint_dataset, tf_joint_dataset = _get_dataset(config, 'F', 'E')\n",
    "    \n",
    "outputs = []\n",
    "for idx, class_weight in enumerate(joint_dataset.class_weights()):\n",
    "    no_outcomes = len(class_weight.keys())\n",
    "        \n",
    "    output = Dense(no_outcomes, activation = 'softmax', name = f'output_{idx}')(pretrained_base_model)\n",
    "    outputs.append(output)\n",
    "\n",
    "model = keras.models.Model(\n",
    "    inputs = pretrained_base_model.get_input_at(0),\n",
    "    outputs = outputs,\n",
    "    name = f'joint_model_{joint_type}_{dmg_type}')"
   ]
  },
  {
   "cell_type": "code",
   "execution_count": null,
   "metadata": {},
   "outputs": [],
   "source": []
  }
 ],
 "metadata": {
  "kernelspec": {
   "display_name": "Python 3",
   "language": "python",
   "name": "python3"
  },
  "language_info": {
   "codemirror_mode": {
    "name": "ipython",
    "version": 3
   },
   "file_extension": ".py",
   "mimetype": "text/x-python",
   "name": "python",
   "nbconvert_exporter": "python",
   "pygments_lexer": "ipython3",
   "version": "3.7.3"
  }
 },
 "nbformat": 4,
 "nbformat_minor": 4
}
