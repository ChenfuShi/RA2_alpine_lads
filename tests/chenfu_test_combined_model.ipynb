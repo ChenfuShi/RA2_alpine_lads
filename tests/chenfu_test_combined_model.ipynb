{
 "cells": [
  {
   "cell_type": "code",
   "execution_count": 1,
   "metadata": {},
   "outputs": [],
   "source": [
    "import os\n",
    "os.chdir('/mnt/jw01-aruk-home01/projects/ra_challenge/RA_challenge/RA2_alpine_lads/ra_joint_predictions')"
   ]
  },
  {
   "cell_type": "code",
   "execution_count": 2,
   "metadata": {},
   "outputs": [],
   "source": [
    "import tensorflow as tf\n",
    "import numpy as np\n",
    "import pandas as pd\n",
    "import matplotlib.pyplot as plt\n",
    "from tensorflow import keras\n",
    "from utils.config import Config\n",
    "import PIL\n",
    "import json\n",
    "import logging\n",
    "import re\n",
    "import seaborn as sns"
   ]
  },
  {
   "cell_type": "code",
   "execution_count": 3,
   "metadata": {},
   "outputs": [],
   "source": [
    "configuration = Config()\n",
    "tf.config.threading.set_intra_op_parallelism_threads(20)\n",
    "tf.config.threading.set_inter_op_parallelism_threads(20)"
   ]
  },
  {
   "cell_type": "code",
   "execution_count": 4,
   "metadata": {},
   "outputs": [],
   "source": [
    "# need this to stop that warning\n",
    "logging.disable(logging.WARNING)\n",
    "os.environ[\"TF_CPP_MIN_LOG_LEVEL\"] = \"3\""
   ]
  },
  {
   "cell_type": "code",
   "execution_count": 5,
   "metadata": {},
   "outputs": [],
   "source": [
    "import dataset.combined_joints_dataset as combset\n",
    "from prediction import joint_damage"
   ]
  },
  {
   "cell_type": "code",
   "execution_count": 6,
   "metadata": {},
   "outputs": [],
   "source": [
    "hands_model = keras.models.load_model(\"weights/SC1_v3A_hand_narrowingafter_model_50.h5\")"
   ]
  },
  {
   "cell_type": "code",
   "execution_count": 8,
   "metadata": {},
   "outputs": [],
   "source": [
    "test_dataset_class = combset.overall_test_hand(configuration,\"/mnt/jw01-aruk-home01/projects/ra_challenge/RA_challenge/training_dataset/fixed\", is_test = True)\n",
    "test_data = test_dataset_class.create_generator(joints_source= \"./data/predictions/hand_joint_data_test_v2.csv\")"
   ]
  },
  {
   "cell_type": "code",
   "execution_count": 9,
   "metadata": {},
   "outputs": [],
   "source": [
    "results = {}\n",
    "\n",
    "for i in range(368):\n",
    "    imgs, img_id = next(test_data)\n",
    "    res = hands_model.predict(imgs)\n",
    "    try:\n",
    "        results[img_id].append(res[0][0])\n",
    "    except:\n",
    "        results[img_id] = [res[0][0]]"
   ]
  },
  {
   "cell_type": "code",
   "execution_count": 10,
   "metadata": {},
   "outputs": [],
   "source": [
    "for item in results:\n",
    "    results[item] = sum(results[item])/len(results[item])"
   ]
  },
  {
   "cell_type": "code",
   "execution_count": 11,
   "metadata": {},
   "outputs": [],
   "source": [
    "result = pd.DataFrame.from_dict(results,orient='index')\n",
    "result.columns = [\"Prediction\"]\n",
    "result[\"patient\"] = result.index.str.split(\"-\").str[0]\n",
    "result[\"side\"] = result.index.str.split(\"-\").str[1]\n",
    "result = result.pivot(index = \"patient\", values=\"Prediction\", columns=\"side\")"
   ]
  },
  {
   "cell_type": "code",
   "execution_count": 12,
   "metadata": {},
   "outputs": [],
   "source": [
    "ground_truth_df = pd.read_csv(\"/mnt/iusers01/jw01/mdefscs4/ra_challenge/RA_challenge/training_dataset/training.csv\")\n",
    "ground_truth_df = ground_truth_df.set_index(\"Patient_ID\")\n",
    "what = \".*H.*J.*\"\n",
    "what = re.compile(what)\n",
    "wanted_cols = list(filter(what.match, ground_truth_df.columns))\n",
    "merged_df=result.merge(ground_truth_df.loc[:,wanted_cols],how=\"inner\",left_on = \"patient\", right_index=True)\n",
    "truth_idx = [\"LH_\" in x for x in merged_df.columns]\n",
    "merged_df[\"Overall_truth LH\"] =  merged_df.loc[:,truth_idx].sum(axis = 1)\n",
    "truth_idx = [\"RH_\" in x for x in merged_df.columns]\n",
    "merged_df[\"Overall_truth RH\"] =  merged_df.loc[:,truth_idx].sum(axis = 1)\n"
   ]
  },
  {
   "cell_type": "code",
   "execution_count": 13,
   "metadata": {},
   "outputs": [
    {
     "data": {
      "text/html": [
       "<div>\n",
       "<style scoped>\n",
       "    .dataframe tbody tr th:only-of-type {\n",
       "        vertical-align: middle;\n",
       "    }\n",
       "\n",
       "    .dataframe tbody tr th {\n",
       "        vertical-align: top;\n",
       "    }\n",
       "\n",
       "    .dataframe thead th {\n",
       "        text-align: right;\n",
       "    }\n",
       "</style>\n",
       "<table border=\"1\" class=\"dataframe\">\n",
       "  <thead>\n",
       "    <tr style=\"text-align: right;\">\n",
       "      <th></th>\n",
       "      <th>LH</th>\n",
       "      <th>RH</th>\n",
       "      <th>Overall_truth LH</th>\n",
       "      <th>Overall_truth RH</th>\n",
       "    </tr>\n",
       "    <tr>\n",
       "      <th>patient</th>\n",
       "      <th></th>\n",
       "      <th></th>\n",
       "      <th></th>\n",
       "      <th></th>\n",
       "    </tr>\n",
       "  </thead>\n",
       "  <tbody>\n",
       "    <tr>\n",
       "      <th>UAB002</th>\n",
       "      <td>-1.012571</td>\n",
       "      <td>-1.123812</td>\n",
       "      <td>2</td>\n",
       "      <td>0</td>\n",
       "    </tr>\n",
       "    <tr>\n",
       "      <th>UAB018</th>\n",
       "      <td>-1.895618</td>\n",
       "      <td>-1.831168</td>\n",
       "      <td>0</td>\n",
       "      <td>0</td>\n",
       "    </tr>\n",
       "    <tr>\n",
       "      <th>UAB030</th>\n",
       "      <td>-1.393027</td>\n",
       "      <td>-1.630212</td>\n",
       "      <td>0</td>\n",
       "      <td>0</td>\n",
       "    </tr>\n",
       "    <tr>\n",
       "      <th>UAB032</th>\n",
       "      <td>5.723666</td>\n",
       "      <td>12.803871</td>\n",
       "      <td>6</td>\n",
       "      <td>14</td>\n",
       "    </tr>\n",
       "    <tr>\n",
       "      <th>UAB036</th>\n",
       "      <td>0.176207</td>\n",
       "      <td>-0.046082</td>\n",
       "      <td>2</td>\n",
       "      <td>4</td>\n",
       "    </tr>\n",
       "    <tr>\n",
       "      <th>...</th>\n",
       "      <td>...</td>\n",
       "      <td>...</td>\n",
       "      <td>...</td>\n",
       "      <td>...</td>\n",
       "    </tr>\n",
       "    <tr>\n",
       "      <th>UAB700</th>\n",
       "      <td>-1.108670</td>\n",
       "      <td>-1.006778</td>\n",
       "      <td>0</td>\n",
       "      <td>0</td>\n",
       "    </tr>\n",
       "    <tr>\n",
       "      <th>UAB701</th>\n",
       "      <td>4.647711</td>\n",
       "      <td>5.874339</td>\n",
       "      <td>22</td>\n",
       "      <td>18</td>\n",
       "    </tr>\n",
       "    <tr>\n",
       "      <th>UAB706</th>\n",
       "      <td>37.276632</td>\n",
       "      <td>38.250637</td>\n",
       "      <td>60</td>\n",
       "      <td>60</td>\n",
       "    </tr>\n",
       "    <tr>\n",
       "      <th>UAB707</th>\n",
       "      <td>-0.837066</td>\n",
       "      <td>-0.134137</td>\n",
       "      <td>0</td>\n",
       "      <td>0</td>\n",
       "    </tr>\n",
       "    <tr>\n",
       "      <th>UAB716</th>\n",
       "      <td>-1.388517</td>\n",
       "      <td>-1.486238</td>\n",
       "      <td>0</td>\n",
       "      <td>0</td>\n",
       "    </tr>\n",
       "  </tbody>\n",
       "</table>\n",
       "<p>92 rows × 4 columns</p>\n",
       "</div>"
      ],
      "text/plain": [
       "                LH         RH  Overall_truth LH  Overall_truth RH\n",
       "patient                                                          \n",
       "UAB002   -1.012571  -1.123812                 2                 0\n",
       "UAB018   -1.895618  -1.831168                 0                 0\n",
       "UAB030   -1.393027  -1.630212                 0                 0\n",
       "UAB032    5.723666  12.803871                 6                14\n",
       "UAB036    0.176207  -0.046082                 2                 4\n",
       "...            ...        ...               ...               ...\n",
       "UAB700   -1.108670  -1.006778                 0                 0\n",
       "UAB701    4.647711   5.874339                22                18\n",
       "UAB706   37.276632  38.250637                60                60\n",
       "UAB707   -0.837066  -0.134137                 0                 0\n",
       "UAB716   -1.388517  -1.486238                 0                 0\n",
       "\n",
       "[92 rows x 4 columns]"
      ]
     },
     "execution_count": 13,
     "metadata": {},
     "output_type": "execute_result"
    }
   ],
   "source": [
    "merged_df[[\"LH\",\"RH\",\"Overall_truth LH\",\"Overall_truth RH\"]]"
   ]
  },
  {
   "cell_type": "code",
   "execution_count": 15,
   "metadata": {},
   "outputs": [
    {
     "data": {
      "text/plain": [
       "<matplotlib.axes._subplots.AxesSubplot at 0x7f2bf7b949e8>"
      ]
     },
     "execution_count": 15,
     "metadata": {},
     "output_type": "execute_result"
    },
    {
     "data": {
      "image/png": "[encoded data removed]",
      "text/plain": [
       "<Figure size 432x288 with 1 Axes>"
      ]
     },
     "metadata": {
      "needs_background": "light"
     },
     "output_type": "display_data"
    }
   ],
   "source": [
    "sns.scatterplot(data = merged_df, x=\"Overall_truth LH\",y=\"LH\")"
   ]
  },
  {
   "cell_type": "markdown",
   "metadata": {},
   "source": [
    "# feet"
   ]
  },
  {
   "cell_type": "code",
   "execution_count": 6,
   "metadata": {},
   "outputs": [],
   "source": [
    "feet_model = keras.models.load_model(\"weights/SC1_v3A_feet_narrowing_0.4zerosafter_model_50.h5\")"
   ]
  },
  {
   "cell_type": "code",
   "execution_count": 7,
   "metadata": {},
   "outputs": [],
   "source": [
    "test_dataset_class = combset.overall_test_feet(configuration,\"/mnt/jw01-aruk-home01/projects/ra_challenge/RA_challenge/training_dataset/fixed\", is_test = True)\n",
    "test_data = test_dataset_class.create_generator(joints_source= \"./data/predictions/feet_joint_data_test_v2.csv\")\n"
   ]
  },
  {
   "cell_type": "code",
   "execution_count": 14,
   "metadata": {},
   "outputs": [],
   "source": [
    "results = {}\n",
    "\n",
    "for i in range(1472):\n",
    "    imgs, img_id = next(test_data)\n",
    "    res = feet_model.predict(imgs)\n",
    "    try:\n",
    "        results[img_id].append(res[0][0])\n",
    "    except:\n",
    "        results[img_id] = [res[0][0]]"
   ]
  },
  {
   "cell_type": "code",
   "execution_count": 15,
   "metadata": {},
   "outputs": [],
   "source": [
    "for item in results:\n",
    "    results[item] = sum(results[item])/len(results[item])"
   ]
  },
  {
   "cell_type": "code",
   "execution_count": 16,
   "metadata": {},
   "outputs": [],
   "source": [
    "result = pd.DataFrame.from_dict(results,orient='index')\n",
    "result.columns = [\"Prediction\"]\n",
    "result[\"patient\"] = result.index.str.split(\"-\").str[0]\n",
    "result[\"side\"] = result.index.str.split(\"-\").str[1]\n",
    "result = result.pivot(index = \"patient\", values=\"Prediction\", columns=\"side\")"
   ]
  },
  {
   "cell_type": "code",
   "execution_count": 17,
   "metadata": {},
   "outputs": [],
   "source": [
    "ground_truth_df = pd.read_csv(\"/mnt/iusers01/jw01/mdefscs4/ra_challenge/RA_challenge/training_dataset/training.csv\")\n",
    "ground_truth_df = ground_truth_df.set_index(\"Patient_ID\")\n",
    "what = \".*F.*J.*\"\n",
    "what = re.compile(what)\n",
    "wanted_cols = list(filter(what.match, ground_truth_df.columns))\n",
    "merged_df=result.merge(ground_truth_df.loc[:,wanted_cols],how=\"inner\",left_on = \"patient\", right_index=True)\n",
    "truth_idx = [\"LF_\" in x for x in merged_df.columns]\n",
    "merged_df[\"Overall_truth LF\"] =  merged_df.loc[:,truth_idx].sum(axis = 1)\n",
    "truth_idx = [\"RF_\" in x for x in merged_df.columns]\n",
    "merged_df[\"Overall_truth RF\"] =  merged_df.loc[:,truth_idx].sum(axis = 1)\n"
   ]
  },
  {
   "cell_type": "code",
   "execution_count": 18,
   "metadata": {},
   "outputs": [
    {
     "data": {
      "text/html": [
       "<div>\n",
       "<style scoped>\n",
       "    .dataframe tbody tr th:only-of-type {\n",
       "        vertical-align: middle;\n",
       "    }\n",
       "\n",
       "    .dataframe tbody tr th {\n",
       "        vertical-align: top;\n",
       "    }\n",
       "\n",
       "    .dataframe thead th {\n",
       "        text-align: right;\n",
       "    }\n",
       "</style>\n",
       "<table border=\"1\" class=\"dataframe\">\n",
       "  <thead>\n",
       "    <tr style=\"text-align: right;\">\n",
       "      <th></th>\n",
       "      <th>LF</th>\n",
       "      <th>RF</th>\n",
       "      <th>Overall_truth LF</th>\n",
       "      <th>Overall_truth RF</th>\n",
       "    </tr>\n",
       "    <tr>\n",
       "      <th>patient</th>\n",
       "      <th></th>\n",
       "      <th></th>\n",
       "      <th></th>\n",
       "      <th></th>\n",
       "    </tr>\n",
       "  </thead>\n",
       "  <tbody>\n",
       "    <tr>\n",
       "      <th>UAB002</th>\n",
       "      <td>-0.063619</td>\n",
       "      <td>0.010148</td>\n",
       "      <td>0</td>\n",
       "      <td>0</td>\n",
       "    </tr>\n",
       "    <tr>\n",
       "      <th>UAB018</th>\n",
       "      <td>0.114267</td>\n",
       "      <td>0.126078</td>\n",
       "      <td>0</td>\n",
       "      <td>0</td>\n",
       "    </tr>\n",
       "    <tr>\n",
       "      <th>UAB030</th>\n",
       "      <td>1.242606</td>\n",
       "      <td>1.511555</td>\n",
       "      <td>2</td>\n",
       "      <td>2</td>\n",
       "    </tr>\n",
       "    <tr>\n",
       "      <th>UAB032</th>\n",
       "      <td>2.120514</td>\n",
       "      <td>0.403756</td>\n",
       "      <td>0</td>\n",
       "      <td>2</td>\n",
       "    </tr>\n",
       "    <tr>\n",
       "      <th>UAB036</th>\n",
       "      <td>0.402697</td>\n",
       "      <td>0.200632</td>\n",
       "      <td>0</td>\n",
       "      <td>0</td>\n",
       "    </tr>\n",
       "    <tr>\n",
       "      <th>...</th>\n",
       "      <td>...</td>\n",
       "      <td>...</td>\n",
       "      <td>...</td>\n",
       "      <td>...</td>\n",
       "    </tr>\n",
       "    <tr>\n",
       "      <th>UAB700</th>\n",
       "      <td>0.088656</td>\n",
       "      <td>1.518372</td>\n",
       "      <td>0</td>\n",
       "      <td>2</td>\n",
       "    </tr>\n",
       "    <tr>\n",
       "      <th>UAB701</th>\n",
       "      <td>1.270650</td>\n",
       "      <td>0.923474</td>\n",
       "      <td>0</td>\n",
       "      <td>0</td>\n",
       "    </tr>\n",
       "    <tr>\n",
       "      <th>UAB706</th>\n",
       "      <td>11.048823</td>\n",
       "      <td>8.825521</td>\n",
       "      <td>11</td>\n",
       "      <td>23</td>\n",
       "    </tr>\n",
       "    <tr>\n",
       "      <th>UAB707</th>\n",
       "      <td>0.884175</td>\n",
       "      <td>1.540102</td>\n",
       "      <td>0</td>\n",
       "      <td>0</td>\n",
       "    </tr>\n",
       "    <tr>\n",
       "      <th>UAB716</th>\n",
       "      <td>0.285875</td>\n",
       "      <td>0.227719</td>\n",
       "      <td>0</td>\n",
       "      <td>0</td>\n",
       "    </tr>\n",
       "  </tbody>\n",
       "</table>\n",
       "<p>92 rows × 4 columns</p>\n",
       "</div>"
      ],
      "text/plain": [
       "                LF        RF  Overall_truth LF  Overall_truth RF\n",
       "patient                                                         \n",
       "UAB002   -0.063619  0.010148                 0                 0\n",
       "UAB018    0.114267  0.126078                 0                 0\n",
       "UAB030    1.242606  1.511555                 2                 2\n",
       "UAB032    2.120514  0.403756                 0                 2\n",
       "UAB036    0.402697  0.200632                 0                 0\n",
       "...            ...       ...               ...               ...\n",
       "UAB700    0.088656  1.518372                 0                 2\n",
       "UAB701    1.270650  0.923474                 0                 0\n",
       "UAB706   11.048823  8.825521                11                23\n",
       "UAB707    0.884175  1.540102                 0                 0\n",
       "UAB716    0.285875  0.227719                 0                 0\n",
       "\n",
       "[92 rows x 4 columns]"
      ]
     },
     "execution_count": 18,
     "metadata": {},
     "output_type": "execute_result"
    }
   ],
   "source": [
    "merged_df[[\"LF\",\"RF\",\"Overall_truth LF\",\"Overall_truth RF\"]]"
   ]
  },
  {
   "cell_type": "code",
   "execution_count": 19,
   "metadata": {},
   "outputs": [
    {
     "data": {
      "text/plain": [
       "<matplotlib.axes._subplots.AxesSubplot at 0x7fc8a7f06e80>"
      ]
     },
     "execution_count": 19,
     "metadata": {},
     "output_type": "execute_result"
    },
    {
     "data": {
      "image/png": "[encoded data removed]",
      "text/plain": [
       "<Figure size 432x288 with 1 Axes>"
      ]
     },
     "metadata": {
      "needs_background": "light"
     },
     "output_type": "display_data"
    }
   ],
   "source": [
    "sns.scatterplot(data = merged_df, x=\"Overall_truth LF\",y=\"LF\")"
   ]
  },
  {
   "cell_type": "code",
   "execution_count": null,
   "metadata": {},
   "outputs": [],
   "source": []
  },
  {
   "cell_type": "code",
   "execution_count": null,
   "metadata": {},
   "outputs": [],
   "source": []
  }
 ],
 "metadata": {
  "kernelspec": {
   "display_name": "Python 3",
   "language": "python",
   "name": "python3"
  },
  "language_info": {
   "codemirror_mode": {
    "name": "ipython",
    "version": 3
   },
   "file_extension": ".py",
   "mimetype": "text/x-python",
   "name": "python",
   "nbconvert_exporter": "python",
   "pygments_lexer": "ipython3",
   "version": "3.7.3"
  }
 },
 "nbformat": 4,
 "nbformat_minor": 4
}
