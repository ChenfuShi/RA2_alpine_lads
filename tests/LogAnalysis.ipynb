{
 "cells": [
  {
   "cell_type": "code",
   "execution_count": 1,
   "metadata": {},
   "outputs": [],
   "source": [
    "import os\n",
    "\n",
    "os.chdir('/mnt/jw01-aruk-home01/projects/ra_challenge/RA_challenge/michael_dev/RA2_alpine_lads/ra_joint_predictions')"
   ]
  },
  {
   "cell_type": "code",
   "execution_count": 38,
   "metadata": {},
   "outputs": [],
   "source": [
    "file1 = open('../tests/out_010ho.log.txt', 'r') \n",
    "lines = file1.readlines() \n",
    "\n",
    "file2 = open('../tests/out_fullsub.log.txt', 'r')\n",
    "full_lines = file2.readlines()"
   ]
  },
  {
   "cell_type": "code",
   "execution_count": 43,
   "metadata": {},
   "outputs": [],
   "source": [
    "hands_start_idx = 21\n",
    "hands_end_idx = 4544\n",
    "\n",
    "feet_start_idx = 7402\n",
    "full_feet_start_idx = 7410"
   ]
  },
  {
   "cell_type": "code",
   "execution_count": 40,
   "metadata": {},
   "outputs": [],
   "source": [
    "import numpy as np\n",
    "\n",
    "hands_j_preds = []\n",
    "hands_e_preds = []\n",
    "\n",
    "feet_j_preds = []\n",
    "feet_e_preds = []\n",
    "\n",
    "def _get_value(joint_type, line):\n",
    "    return float(line.split(joint_type)[1].split('for')[0].strip())\n",
    "\n",
    "for hand_line in lines[hands_start_idx:hands_end_idx]:\n",
    "    if 'narrowing' in hand_line:\n",
    "        hands_j_preds.append(_get_value('narrowing', hand_line))\n",
    "    elif 'erosion' in hand_line:\n",
    "        hands_e_preds.append(_get_value('erosion', hand_line))\n",
    "        \n",
    "for feet_line in lines[feet_start_idx:]:\n",
    "    if 'narrowing' in feet_line:\n",
    "        feet_j_preds.append(_get_value('narrowing', feet_line))\n",
    "    elif 'erosion' in feet_line:\n",
    "        feet_e_preds.append(_get_value('erosion', feet_line))\n",
    "        \n",
    "hands_j_preds = np.array(hands_j_preds)\n",
    "hands_e_preds = np.array(hands_e_preds)\n",
    "\n",
    "feet_j_preds = np.array(feet_j_preds)\n",
    "feet_e_preds = np.array(feet_e_preds)"
   ]
  },
  {
   "cell_type": "code",
   "execution_count": 44,
   "metadata": {},
   "outputs": [],
   "source": [
    "import numpy as np\n",
    "\n",
    "full_hands_j_preds = []\n",
    "full_hands_e_preds = []\n",
    "\n",
    "full_feet_j_preds = []\n",
    "full_feet_e_preds = []\n",
    "\n",
    "def _get_value(joint_type, line):\n",
    "    return float(line.split(joint_type)[1].split('for')[0].strip())\n",
    "\n",
    "for hand_line in full_lines[hands_start_idx:hands_end_idx]:\n",
    "    if 'narrowing' in hand_line:\n",
    "        full_hands_j_preds.append(_get_value('narrowing', hand_line))\n",
    "    elif 'erosion' in hand_line:\n",
    "        full_hands_e_preds.append(_get_value('erosion', hand_line))\n",
    "        \n",
    "for feet_line in full_lines[full_feet_start_idx:]:\n",
    "    if 'narrowing' in feet_line:\n",
    "        full_feet_j_preds.append(_get_value('narrowing', feet_line))\n",
    "    elif 'erosion' in feet_line:\n",
    "        full_feet_e_preds.append(_get_value('erosion', feet_line))\n",
    "        \n",
    "full_hands_j_preds = np.array(full_hands_j_preds)\n",
    "full_hands_e_preds = np.array(full_hands_e_preds)\n",
    "\n",
    "full_feet_j_preds = np.array(full_feet_j_preds)\n",
    "full_feet_e_preds = np.array(full_feet_e_preds)"
   ]
  },
  {
   "cell_type": "code",
   "execution_count": 46,
   "metadata": {},
   "outputs": [
    {
     "name": "stdout",
     "output_type": "stream",
     "text": [
      "10% Holdout:\n",
      "Hand Narrowing 0s: 0.8281979458450047\n",
      "Hand Erosion 0s: 0.9088235294117647\n",
      "Feet Narrowing 0s: 0.8486334968465312\n",
      "Feet Erosion 0s: 0.7874911158493249\n"
     ]
    }
   ],
   "source": [
    "print('10% Holdout:')\n",
    "print('Hand Narrowing 0s:', np.count_nonzero(hands_j_preds == 0) / hands_j_preds.shape[0])\n",
    "print('Hand Erosion 0s:', np.count_nonzero(hands_e_preds == 0) / hands_e_preds.shape[0])\n",
    "print('Feet Narrowing 0s:', np.count_nonzero(feet_j_preds == 0) / feet_j_preds.shape[0])\n",
    "print('Feet Erosion 0s:', np.count_nonzero(feet_e_preds == 0) / feet_e_preds.shape[0])"
   ]
  },
  {
   "cell_type": "code",
   "execution_count": 47,
   "metadata": {},
   "outputs": [
    {
     "name": "stdout",
     "output_type": "stream",
     "text": [
      "Full Models:\n",
      "Hand Narrowing 0s: 0.742296918767507\n",
      "Hand Erosion 0s: 0.8432773109243697\n",
      "Feet Narrowing 0s: 0.7876230661040787\n",
      "Feet Erosion 0s: 0.5766526019690577\n"
     ]
    }
   ],
   "source": [
    "print('Full Models:')\n",
    "print('Hand Narrowing 0s:', np.count_nonzero(full_hands_j_preds == 0) / full_hands_j_preds.shape[0])\n",
    "print('Hand Erosion 0s:', np.count_nonzero(full_hands_e_preds == 0) / full_hands_e_preds.shape[0])\n",
    "print('Feet Narrowing 0s:', np.count_nonzero(full_feet_j_preds == 0) / full_feet_j_preds.shape[0])\n",
    "print('Feet Erosion 0s:', np.count_nonzero(full_feet_e_preds == 0) / full_feet_e_preds.shape[0])"
   ]
  }
 ],
 "metadata": {
  "kernelspec": {
   "display_name": "Python 3",
   "language": "python",
   "name": "python3"
  },
  "language_info": {
   "codemirror_mode": {
    "name": "ipython",
    "version": 3
   },
   "file_extension": ".py",
   "mimetype": "text/x-python",
   "name": "python",
   "nbconvert_exporter": "python",
   "pygments_lexer": "ipython3",
   "version": "3.7.3"
  }
 },
 "nbformat": 4,
 "nbformat_minor": 4
}
