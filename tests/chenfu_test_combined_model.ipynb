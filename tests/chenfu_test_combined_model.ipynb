{
 "cells": [
  {
   "cell_type": "code",
   "execution_count": 1,
   "metadata": {},
   "outputs": [],
   "source": [
    "import os\n",
    "os.chdir('/mnt/jw01-aruk-home01/projects/ra_challenge/RA_challenge/RA2_alpine_lads/ra_joint_predictions')"
   ]
  },
  {
   "cell_type": "code",
   "execution_count": 2,
   "metadata": {},
   "outputs": [],
   "source": [
    "import tensorflow as tf\n",
    "import numpy as np\n",
    "import pandas as pd\n",
    "import matplotlib.pyplot as plt\n",
    "from tensorflow import keras\n",
    "from utils.config import Config\n",
    "import PIL\n",
    "import json\n",
    "import logging\n",
    "import re\n",
    "import seaborn as sns\n",
    "from sklearn.metrics import mean_squared_error, mean_absolute_error"
   ]
  },
  {
   "cell_type": "code",
   "execution_count": 3,
   "metadata": {},
   "outputs": [],
   "source": [
    "configuration = Config()\n",
    "tf.config.threading.set_intra_op_parallelism_threads(20)\n",
    "tf.config.threading.set_inter_op_parallelism_threads(20)"
   ]
  },
  {
   "cell_type": "code",
   "execution_count": null,
   "metadata": {},
   "outputs": [],
   "source": []
  },
  {
   "cell_type": "code",
   "execution_count": 4,
   "metadata": {},
   "outputs": [],
   "source": [
    "from dataset import overall_joints_dataset\n",
    "from prediction import joint_damage\n",
    "from dataset.joints.joint_extractor_factory import get_joint_extractor"
   ]
  },
  {
   "cell_type": "code",
   "execution_count": 5,
   "metadata": {},
   "outputs": [],
   "source": [
    "def robust_mean(scores):\n",
    "    scores = np.sort(scores)\n",
    "    size_p = len(scores)//10\n",
    "    mean_score = np.mean(scores[size_p:len(scores)-size_p])\n",
    "    return mean_score\n",
    "    \n",
    "def _prepare_image(img_arr):\n",
    "    imgs = [np.expand_dims(x.numpy(),0) for x in img_arr]\n",
    "    return imgs"
   ]
  },
  {
   "cell_type": "code",
   "execution_count": 15,
   "metadata": {},
   "outputs": [],
   "source": [
    "hands_model = keras.models.load_model(\"weights/SC1_v3A_hand_narrowing_maeafter_model_40.h5\")"
   ]
  },
  {
   "cell_type": "code",
   "execution_count": 16,
   "metadata": {},
   "outputs": [],
   "source": [
    "hand_extractor = get_joint_extractor(\"H\", False) \n",
    "ds = overall_joints_dataset.hands_overall_joints_dataset(configuration, 'test', joint_extractor = hand_extractor).create_hands_overall_joints_dataset(\"/mnt/iusers01/jw01/mdefscs4/ra_challenge/RA_challenge/training_dataset/training.csv\",joints_source = './data/predictions/hand_joint_data_test_v2.csv')\n"
   ]
  },
  {
   "cell_type": "code",
   "execution_count": null,
   "metadata": {},
   "outputs": [],
   "source": []
  },
  {
   "cell_type": "code",
   "execution_count": 17,
   "metadata": {},
   "outputs": [],
   "source": [
    "results = {}\n",
    "for x in ds:\n",
    "    imgs, img_id = _prepare_image(x[1]), x[0].numpy()[0].decode(\"utf-8\")\n",
    "    res = hands_model.predict(imgs)\n",
    "    try:\n",
    "        results[img_id].append(res[0][0])\n",
    "    except:\n",
    "        results[img_id] = [res[0][0]]"
   ]
  },
  {
   "cell_type": "code",
   "execution_count": 18,
   "metadata": {},
   "outputs": [],
   "source": [
    "for item in results:\n",
    "    results[item] = robust_mean(results[item])"
   ]
  },
  {
   "cell_type": "code",
   "execution_count": 19,
   "metadata": {},
   "outputs": [],
   "source": [
    "result = pd.DataFrame.from_dict(results,orient='index')\n",
    "result.columns = [\"Prediction\"]\n",
    "result[\"patient\"] = result.index.str.split(\"-\").str[0]\n",
    "result[\"side\"] = result.index.str.split(\"-\").str[1]\n",
    "result = result.pivot(index = \"patient\", values=\"Prediction\", columns=\"side\")"
   ]
  },
  {
   "cell_type": "code",
   "execution_count": 20,
   "metadata": {},
   "outputs": [],
   "source": [
    "ground_truth_df = pd.read_csv(\"/mnt/iusers01/jw01/mdefscs4/ra_challenge/RA_challenge/training_dataset/training.csv\")\n",
    "ground_truth_df = ground_truth_df.set_index(\"Patient_ID\")\n",
    "what = \".*H.*J.*\"\n",
    "what = re.compile(what)\n",
    "wanted_cols = list(filter(what.match, ground_truth_df.columns))\n",
    "merged_df=result.merge(ground_truth_df.loc[:,wanted_cols],how=\"inner\",left_on = \"patient\", right_index=True)\n",
    "truth_idx = [\"LH_\" in x for x in merged_df.columns]\n",
    "merged_df[\"Overall_truth LH\"] =  merged_df.loc[:,truth_idx].sum(axis = 1)\n",
    "truth_idx = [\"RH_\" in x for x in merged_df.columns]\n",
    "merged_df[\"Overall_truth RH\"] =  merged_df.loc[:,truth_idx].sum(axis = 1)\n"
   ]
  },
  {
   "cell_type": "code",
   "execution_count": 21,
   "metadata": {},
   "outputs": [
    {
     "data": {
      "text/html": [
       "<div>\n",
       "<style scoped>\n",
       "    .dataframe tbody tr th:only-of-type {\n",
       "        vertical-align: middle;\n",
       "    }\n",
       "\n",
       "    .dataframe tbody tr th {\n",
       "        vertical-align: top;\n",
       "    }\n",
       "\n",
       "    .dataframe thead th {\n",
       "        text-align: right;\n",
       "    }\n",
       "</style>\n",
       "<table border=\"1\" class=\"dataframe\">\n",
       "  <thead>\n",
       "    <tr style=\"text-align: right;\">\n",
       "      <th></th>\n",
       "      <th>LH</th>\n",
       "      <th>RH</th>\n",
       "      <th>Overall_truth LH</th>\n",
       "      <th>Overall_truth RH</th>\n",
       "    </tr>\n",
       "    <tr>\n",
       "      <th>patient</th>\n",
       "      <th></th>\n",
       "      <th></th>\n",
       "      <th></th>\n",
       "      <th></th>\n",
       "    </tr>\n",
       "  </thead>\n",
       "  <tbody>\n",
       "    <tr>\n",
       "      <th>UAB002</th>\n",
       "      <td>0.280556</td>\n",
       "      <td>0.228263</td>\n",
       "      <td>2</td>\n",
       "      <td>0</td>\n",
       "    </tr>\n",
       "    <tr>\n",
       "      <th>UAB018</th>\n",
       "      <td>0.003399</td>\n",
       "      <td>0.367139</td>\n",
       "      <td>0</td>\n",
       "      <td>0</td>\n",
       "    </tr>\n",
       "    <tr>\n",
       "      <th>UAB030</th>\n",
       "      <td>0.490818</td>\n",
       "      <td>1.063584</td>\n",
       "      <td>0</td>\n",
       "      <td>0</td>\n",
       "    </tr>\n",
       "    <tr>\n",
       "      <th>UAB032</th>\n",
       "      <td>8.078384</td>\n",
       "      <td>16.274839</td>\n",
       "      <td>6</td>\n",
       "      <td>14</td>\n",
       "    </tr>\n",
       "    <tr>\n",
       "      <th>UAB036</th>\n",
       "      <td>1.328471</td>\n",
       "      <td>1.016839</td>\n",
       "      <td>2</td>\n",
       "      <td>4</td>\n",
       "    </tr>\n",
       "    <tr>\n",
       "      <th>...</th>\n",
       "      <td>...</td>\n",
       "      <td>...</td>\n",
       "      <td>...</td>\n",
       "      <td>...</td>\n",
       "    </tr>\n",
       "    <tr>\n",
       "      <th>UAB700</th>\n",
       "      <td>0.801712</td>\n",
       "      <td>0.663400</td>\n",
       "      <td>0</td>\n",
       "      <td>0</td>\n",
       "    </tr>\n",
       "    <tr>\n",
       "      <th>UAB701</th>\n",
       "      <td>4.854816</td>\n",
       "      <td>7.669703</td>\n",
       "      <td>22</td>\n",
       "      <td>18</td>\n",
       "    </tr>\n",
       "    <tr>\n",
       "      <th>UAB706</th>\n",
       "      <td>38.978977</td>\n",
       "      <td>42.757824</td>\n",
       "      <td>60</td>\n",
       "      <td>60</td>\n",
       "    </tr>\n",
       "    <tr>\n",
       "      <th>UAB707</th>\n",
       "      <td>0.225338</td>\n",
       "      <td>1.146428</td>\n",
       "      <td>0</td>\n",
       "      <td>0</td>\n",
       "    </tr>\n",
       "    <tr>\n",
       "      <th>UAB716</th>\n",
       "      <td>0.153851</td>\n",
       "      <td>0.582933</td>\n",
       "      <td>0</td>\n",
       "      <td>0</td>\n",
       "    </tr>\n",
       "  </tbody>\n",
       "</table>\n",
       "<p>92 rows × 4 columns</p>\n",
       "</div>"
      ],
      "text/plain": [
       "                LH         RH  Overall_truth LH  Overall_truth RH\n",
       "patient                                                          \n",
       "UAB002    0.280556   0.228263                 2                 0\n",
       "UAB018    0.003399   0.367139                 0                 0\n",
       "UAB030    0.490818   1.063584                 0                 0\n",
       "UAB032    8.078384  16.274839                 6                14\n",
       "UAB036    1.328471   1.016839                 2                 4\n",
       "...            ...        ...               ...               ...\n",
       "UAB700    0.801712   0.663400                 0                 0\n",
       "UAB701    4.854816   7.669703                22                18\n",
       "UAB706   38.978977  42.757824                60                60\n",
       "UAB707    0.225338   1.146428                 0                 0\n",
       "UAB716    0.153851   0.582933                 0                 0\n",
       "\n",
       "[92 rows x 4 columns]"
      ]
     },
     "execution_count": 21,
     "metadata": {},
     "output_type": "execute_result"
    }
   ],
   "source": [
    "merged_df[[\"LH\",\"RH\",\"Overall_truth LH\",\"Overall_truth RH\"]]"
   ]
  },
  {
   "cell_type": "code",
   "execution_count": 22,
   "metadata": {},
   "outputs": [
    {
     "data": {
      "text/plain": [
       "<matplotlib.axes._subplots.AxesSubplot at 0x7fb4b3f920f0>"
      ]
     },
     "execution_count": 22,
     "metadata": {},
     "output_type": "execute_result"
    },
    {
     "data": {
      "image/png": "[encoded data removed]",
      "text/plain": [
       "<Figure size 432x288 with 1 Axes>"
      ]
     },
     "metadata": {
      "needs_background": "light"
     },
     "output_type": "display_data"
    }
   ],
   "source": [
    "sns.scatterplot(data = merged_df, x=\"Overall_truth LH\",y=\"LH\")"
   ]
  },
  {
   "cell_type": "code",
   "execution_count": 23,
   "metadata": {},
   "outputs": [
    {
     "data": {
      "text/plain": [
       "2.4822833907345068"
      ]
     },
     "execution_count": 23,
     "metadata": {},
     "output_type": "execute_result"
    }
   ],
   "source": [
    "mean_absolute_error(merged_df[\"Overall_truth LH\"],merged_df[\"LH\"])"
   ]
  },
  {
   "cell_type": "markdown",
   "metadata": {},
   "source": [
    "# feet"
   ]
  },
  {
   "cell_type": "code",
   "execution_count": 24,
   "metadata": {},
   "outputs": [],
   "source": [
    "feet_model = keras.models.load_model(\"weights/SC1_v3A_feet_narrowing_maeafter_model_100.h5\")"
   ]
  },
  {
   "cell_type": "code",
   "execution_count": 25,
   "metadata": {},
   "outputs": [],
   "source": [
    "foot_extractor = get_joint_extractor(\"F\", False)\n",
    "ds = overall_joints_dataset.feet_overall_joints_dataset(configuration, 'test', joint_extractor = foot_extractor).create_feet_overall_joints_dataset(\"/mnt/iusers01/jw01/mdefscs4/ra_challenge/RA_challenge/training_dataset/training.csv\",joints_source = './data/predictions/feet_joint_data_test_v2.csv')\n"
   ]
  },
  {
   "cell_type": "code",
   "execution_count": 26,
   "metadata": {},
   "outputs": [],
   "source": [
    "results = {}\n",
    "for x in ds:\n",
    "    imgs, img_id = _prepare_image(x[1]), x[0].numpy()[0].decode(\"utf-8\")\n",
    "    res = feet_model.predict(imgs)\n",
    "    try:\n",
    "        results[img_id].append(res[0][0])\n",
    "    except:\n",
    "        results[img_id] = [res[0][0]]"
   ]
  },
  {
   "cell_type": "code",
   "execution_count": 27,
   "metadata": {},
   "outputs": [],
   "source": [
    "for item in results:\n",
    "    results[item] = sum(results[item])/len(results[item])"
   ]
  },
  {
   "cell_type": "code",
   "execution_count": 28,
   "metadata": {},
   "outputs": [],
   "source": [
    "result = pd.DataFrame.from_dict(results,orient='index')\n",
    "result.columns = [\"Prediction\"]\n",
    "result[\"patient\"] = result.index.str.split(\"-\").str[0]\n",
    "result[\"side\"] = result.index.str.split(\"-\").str[1]\n",
    "result = result.pivot(index = \"patient\", values=\"Prediction\", columns=\"side\")"
   ]
  },
  {
   "cell_type": "code",
   "execution_count": 29,
   "metadata": {},
   "outputs": [],
   "source": [
    "ground_truth_df = pd.read_csv(\"/mnt/iusers01/jw01/mdefscs4/ra_challenge/RA_challenge/training_dataset/training.csv\")\n",
    "ground_truth_df = ground_truth_df.set_index(\"Patient_ID\")\n",
    "what = \".*F.*J.*\"\n",
    "what = re.compile(what)\n",
    "wanted_cols = list(filter(what.match, ground_truth_df.columns))\n",
    "merged_df=result.merge(ground_truth_df.loc[:,wanted_cols],how=\"inner\",left_on = \"patient\", right_index=True)\n",
    "truth_idx = [\"LF_\" in x for x in merged_df.columns]\n",
    "merged_df[\"Overall_truth LF\"] =  merged_df.loc[:,truth_idx].sum(axis = 1)\n",
    "truth_idx = [\"RF_\" in x for x in merged_df.columns]\n",
    "merged_df[\"Overall_truth RF\"] =  merged_df.loc[:,truth_idx].sum(axis = 1)\n"
   ]
  },
  {
   "cell_type": "code",
   "execution_count": 30,
   "metadata": {},
   "outputs": [
    {
     "data": {
      "text/html": [
       "<div>\n",
       "<style scoped>\n",
       "    .dataframe tbody tr th:only-of-type {\n",
       "        vertical-align: middle;\n",
       "    }\n",
       "\n",
       "    .dataframe tbody tr th {\n",
       "        vertical-align: top;\n",
       "    }\n",
       "\n",
       "    .dataframe thead th {\n",
       "        text-align: right;\n",
       "    }\n",
       "</style>\n",
       "<table border=\"1\" class=\"dataframe\">\n",
       "  <thead>\n",
       "    <tr style=\"text-align: right;\">\n",
       "      <th></th>\n",
       "      <th>LF</th>\n",
       "      <th>RF</th>\n",
       "      <th>Overall_truth LF</th>\n",
       "      <th>Overall_truth RF</th>\n",
       "    </tr>\n",
       "    <tr>\n",
       "      <th>patient</th>\n",
       "      <th></th>\n",
       "      <th></th>\n",
       "      <th></th>\n",
       "      <th></th>\n",
       "    </tr>\n",
       "  </thead>\n",
       "  <tbody>\n",
       "    <tr>\n",
       "      <th>UAB002</th>\n",
       "      <td>-0.109870</td>\n",
       "      <td>-0.266527</td>\n",
       "      <td>0</td>\n",
       "      <td>0</td>\n",
       "    </tr>\n",
       "    <tr>\n",
       "      <th>UAB018</th>\n",
       "      <td>-0.126751</td>\n",
       "      <td>0.079240</td>\n",
       "      <td>0</td>\n",
       "      <td>0</td>\n",
       "    </tr>\n",
       "    <tr>\n",
       "      <th>UAB030</th>\n",
       "      <td>1.461668</td>\n",
       "      <td>1.616075</td>\n",
       "      <td>2</td>\n",
       "      <td>2</td>\n",
       "    </tr>\n",
       "    <tr>\n",
       "      <th>UAB032</th>\n",
       "      <td>1.394497</td>\n",
       "      <td>0.157280</td>\n",
       "      <td>0</td>\n",
       "      <td>2</td>\n",
       "    </tr>\n",
       "    <tr>\n",
       "      <th>UAB036</th>\n",
       "      <td>0.257110</td>\n",
       "      <td>0.174424</td>\n",
       "      <td>0</td>\n",
       "      <td>0</td>\n",
       "    </tr>\n",
       "    <tr>\n",
       "      <th>...</th>\n",
       "      <td>...</td>\n",
       "      <td>...</td>\n",
       "      <td>...</td>\n",
       "      <td>...</td>\n",
       "    </tr>\n",
       "    <tr>\n",
       "      <th>UAB700</th>\n",
       "      <td>0.211158</td>\n",
       "      <td>0.194332</td>\n",
       "      <td>0</td>\n",
       "      <td>2</td>\n",
       "    </tr>\n",
       "    <tr>\n",
       "      <th>UAB701</th>\n",
       "      <td>0.067473</td>\n",
       "      <td>-0.066321</td>\n",
       "      <td>0</td>\n",
       "      <td>0</td>\n",
       "    </tr>\n",
       "    <tr>\n",
       "      <th>UAB706</th>\n",
       "      <td>6.906244</td>\n",
       "      <td>6.957275</td>\n",
       "      <td>11</td>\n",
       "      <td>23</td>\n",
       "    </tr>\n",
       "    <tr>\n",
       "      <th>UAB707</th>\n",
       "      <td>-0.035802</td>\n",
       "      <td>-0.017823</td>\n",
       "      <td>0</td>\n",
       "      <td>0</td>\n",
       "    </tr>\n",
       "    <tr>\n",
       "      <th>UAB716</th>\n",
       "      <td>-0.084715</td>\n",
       "      <td>-0.008337</td>\n",
       "      <td>0</td>\n",
       "      <td>0</td>\n",
       "    </tr>\n",
       "  </tbody>\n",
       "</table>\n",
       "<p>92 rows × 4 columns</p>\n",
       "</div>"
      ],
      "text/plain": [
       "               LF        RF  Overall_truth LF  Overall_truth RF\n",
       "patient                                                        \n",
       "UAB002  -0.109870 -0.266527                 0                 0\n",
       "UAB018  -0.126751  0.079240                 0                 0\n",
       "UAB030   1.461668  1.616075                 2                 2\n",
       "UAB032   1.394497  0.157280                 0                 2\n",
       "UAB036   0.257110  0.174424                 0                 0\n",
       "...           ...       ...               ...               ...\n",
       "UAB700   0.211158  0.194332                 0                 2\n",
       "UAB701   0.067473 -0.066321                 0                 0\n",
       "UAB706   6.906244  6.957275                11                23\n",
       "UAB707  -0.035802 -0.017823                 0                 0\n",
       "UAB716  -0.084715 -0.008337                 0                 0\n",
       "\n",
       "[92 rows x 4 columns]"
      ]
     },
     "execution_count": 30,
     "metadata": {},
     "output_type": "execute_result"
    }
   ],
   "source": [
    "merged_df[[\"LF\",\"RF\",\"Overall_truth LF\",\"Overall_truth RF\"]]"
   ]
  },
  {
   "cell_type": "code",
   "execution_count": 31,
   "metadata": {},
   "outputs": [
    {
     "data": {
      "text/plain": [
       "<matplotlib.axes._subplots.AxesSubplot at 0x7fb3f8792400>"
      ]
     },
     "execution_count": 31,
     "metadata": {},
     "output_type": "execute_result"
    },
    {
     "data": {
      "image/png": "[encoded data removed]",
      "text/plain": [
       "<Figure size 432x288 with 1 Axes>"
      ]
     },
     "metadata": {
      "needs_background": "light"
     },
     "output_type": "display_data"
    }
   ],
   "source": [
    "sns.scatterplot(data = merged_df, x=\"Overall_truth LF\",y=\"LF\")"
   ]
  },
  {
   "cell_type": "code",
   "execution_count": 32,
   "metadata": {},
   "outputs": [
    {
     "data": {
      "text/plain": [
       "1.0599797702515903"
      ]
     },
     "execution_count": 32,
     "metadata": {},
     "output_type": "execute_result"
    }
   ],
   "source": [
    "mean_absolute_error(merged_df[\"Overall_truth LF\"],merged_df[\"LF\"])"
   ]
  },
  {
   "cell_type": "code",
   "execution_count": null,
   "metadata": {},
   "outputs": [],
   "source": []
  }
 ],
 "metadata": {
  "kernelspec": {
   "display_name": "Python 3",
   "language": "python",
   "name": "python3"
  },
  "language_info": {
   "codemirror_mode": {
    "name": "ipython",
    "version": 3
   },
   "file_extension": ".py",
   "mimetype": "text/x-python",
   "name": "python",
   "nbconvert_exporter": "python",
   "pygments_lexer": "ipython3",
   "version": "3.7.3"
  }
 },
 "nbformat": 4,
 "nbformat_minor": 4
}
