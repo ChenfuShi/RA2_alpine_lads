{
 "cells": [
  {
   "cell_type": "code",
   "execution_count": 4,
   "metadata": {},
   "outputs": [],
   "source": [
    "import os\n",
    "\n",
    "PATH = '/home/stadlerm/Development/Projects/DreamChallenge/RA2_alpine_lads'\n",
    "\n",
    "os.chdir(PATH)"
   ]
  },
  {
   "cell_type": "code",
   "execution_count": 5,
   "metadata": {},
   "outputs": [],
   "source": [
    "from utils.config import Config\n",
    "\n",
    "config = Config()"
   ]
  },
  {
   "cell_type": "code",
   "execution_count": 6,
   "metadata": {},
   "outputs": [],
   "source": [
    "import os\n",
    "import pandas as pd\n",
    "\n",
    "training_csv = os.path.join(config.train_location, 'training.csv')\n",
    "\n",
    "training_data = pd.read_csv(training_csv)"
   ]
  },
  {
   "cell_type": "code",
   "execution_count": 9,
   "metadata": {},
   "outputs": [
    {
     "name": "stdout",
     "output_type": "stream",
     "text": [
      "6\n",
      "2\n",
      "1\n",
      "0\n"
     ]
    }
   ],
   "source": [
    "import re\n",
    "\n",
    "import numpy as np\n",
    "\n",
    "# Prepare outcome vector\n",
    "column_types = [\n",
    "    ['hands_narrowing', '.*H_.*_J.*'], \n",
    "    ['hands_erosion', '.*H_.*_E.*'], \n",
    "    ['feet_narrowing', '.*F_.*_J.*'],\n",
    "    ['feet_erosion', '.*F_.*_E.*']\n",
    "]\n",
    "\n",
    "for column_type in column_types:\n",
    "    file_post_fix = column_type[0]\n",
    "    column_reg = column_type[1]\n",
    "    \n",
    "    p = re.compile(column_reg)\n",
    "\n",
    "    column_idx = np.where([p.match(column) for column in training_data.columns])[0]\n",
    "    columns = training_data.columns[column_idx]\n",
    "    \n",
    "    values = training_data[columns]\n",
    "    vals, counts = np.unique(values, return_counts = True)\n",
    "    \n",
    "    y = np.zeros((training_data.shape[0], vals.size))\n",
    "    \n",
    "    for idx, val in enumerate(vals):\n",
    "        r_idx = np.where(values == val)[0]\n",
    "        \n",
    "        y[r_idx, idx] = 1\n",
    "        \n",
    "    y_t = y[:, 1]\n",
    "\n",
    "    for idx in range(1, vals.size):\n",
    "        y_t = np.logical_and(y_t, y[:, idx])\n",
    "    \n",
    "    print(np.count_nonzero(y_t))"
   ]
  },
  {
   "cell_type": "code",
   "execution_count": 10,
   "metadata": {},
   "outputs": [
    {
     "name": "stdout",
     "output_type": "stream",
     "text": [
      "4\n"
     ]
    }
   ],
   "source": [
    "import functools\n",
    "\n",
    "y_t = y[:, 0]\n",
    "\n",
    "for idx in range(1, 5):\n",
    "    y_t = np.logical_and(y_t, y[:, idx])\n",
    "    \n",
    "print(np.count_nonzero(y_t))"
   ]
  },
  {
   "cell_type": "code",
   "execution_count": 13,
   "metadata": {},
   "outputs": [],
   "source": [
    "# Regex for hand narrowing, erosion, and feet narrowing columns\n",
    "column_reg = ['.*F_.*_J.*']\n",
    "\n",
    "for idx, reg in enumerate(column_reg):\n",
    "    p = re.compile(reg)\n",
    "\n",
    "    column_idx = np.where([p.match(column) for column in training_data.columns])[0]\n",
    "    columns = training_data.columns[column_idx]\n",
    "    \n",
    "    values = training_data[columns].to_numpy()\n",
    "    vals, c = np.unique(values, return_counts = True)\n",
    "    \n",
    "    sorted_idx = np.argsort(c)[::-1]\n",
    "    \n",
    "    y = np.zeros(training_data.shape[0])\n",
    "    for idx in sorted_idx[1:]:\n",
    "        y[np.where(values == vals[idx])[0]] = vals[idx]"
   ]
  },
  {
   "cell_type": "code",
   "execution_count": 15,
   "metadata": {},
   "outputs": [
    {
     "name": "stdout",
     "output_type": "stream",
     "text": [
      "(array([0., 1., 2., 3., 4.]), array([257,   7,  47,  28,  29]))\n"
     ]
    }
   ],
   "source": [
    "print(np.unique(y, return_counts = True))"
   ]
  },
  {
   "cell_type": "code",
   "execution_count": 18,
   "metadata": {},
   "outputs": [],
   "source": [
    "from sklearn.model_selection import train_test_split\n",
    "\n",
    "train_idx, test_idx = train_test_split(np.arange(training_data.shape[0]), test_size = 0.25, stratify = y)"
   ]
  },
  {
   "cell_type": "code",
   "execution_count": 19,
   "metadata": {},
   "outputs": [
    {
     "name": "stdout",
     "output_type": "stream",
     "text": [
      "(array([0., 1., 2., 3., 4.]), array([193,   5,  35,  21,  22]))\n"
     ]
    }
   ],
   "source": [
    "print(np.unique(y[train_idx], return_counts = True))"
   ]
  },
  {
   "cell_type": "code",
   "execution_count": 20,
   "metadata": {},
   "outputs": [
    {
     "name": "stdout",
     "output_type": "stream",
     "text": [
      "(array([0., 1., 2., 3., 4.]), array([64,  2, 12,  7,  7]))\n"
     ]
    }
   ],
   "source": [
    "print(np.unique(y[test_idx], return_counts = True))"
   ]
  },
  {
   "cell_type": "code",
   "execution_count": 21,
   "metadata": {},
   "outputs": [],
   "source": [
    "train_patient_id = training_data.iloc[train_idx]['Patient_ID'].to_numpy()\n",
    "test_patient_id = training_data.iloc[test_idx]['Patient_ID'].to_numpy()"
   ]
  },
  {
   "cell_type": "code",
   "execution_count": 22,
   "metadata": {},
   "outputs": [
    {
     "name": "stdout",
     "output_type": "stream",
     "text": [
      "['UAB003' 'UAB060' 'UAB580' 'UAB042' 'UAB130' 'UAB407' 'UAB417' 'UAB233'\n",
      " 'UAB122' 'UAB002' 'UAB110' 'UAB701' 'UAB013' 'UAB165' 'UAB504' 'UAB297'\n",
      " 'UAB672' 'UAB422' 'UAB537' 'UAB036' 'UAB524' 'UAB403' 'UAB049' 'UAB192'\n",
      " 'UAB028' 'UAB100' 'UAB383' 'UAB342' 'UAB679' 'UAB124' 'UAB123' 'UAB719'\n",
      " 'UAB131' 'UAB067' 'UAB711' 'UAB143' 'UAB171' 'UAB160' 'UAB716' 'UAB396'\n",
      " 'UAB159' 'UAB366' 'UAB363' 'UAB045' 'UAB041' 'UAB271' 'UAB399' 'UAB487'\n",
      " 'UAB244' 'UAB216' 'UAB700' 'UAB491' 'UAB536' 'UAB499' 'UAB551' 'UAB486'\n",
      " 'UAB630' 'UAB111' 'UAB032' 'UAB703' 'UAB675' 'UAB125' 'UAB085' 'UAB007'\n",
      " 'UAB697' 'UAB453' 'UAB481' 'UAB228' 'UAB200' 'UAB659' 'UAB179' 'UAB105'\n",
      " 'UAB052' 'UAB326' 'UAB549' 'UAB394' 'UAB490' 'UAB031' 'UAB374' 'UAB033'\n",
      " 'UAB379' 'UAB080' 'UAB062' 'UAB144' 'UAB070' 'UAB198' 'UAB441' 'UAB107'\n",
      " 'UAB625' 'UAB538' 'UAB333' 'UAB182' 'UAB617' 'UAB449' 'UAB720' 'UAB571'\n",
      " 'UAB357' 'UAB329' 'UAB494' 'UAB577' 'UAB239' 'UAB199' 'UAB649' 'UAB184'\n",
      " 'UAB135' 'UAB574' 'UAB012' 'UAB098' 'UAB464' 'UAB572' 'UAB113' 'UAB364'\n",
      " 'UAB079' 'UAB055' 'UAB665' 'UAB564' 'UAB224' 'UAB119' 'UAB462' 'UAB567'\n",
      " 'UAB628' 'UAB170' 'UAB395' 'UAB109' 'UAB560' 'UAB463' 'UAB543' 'UAB246'\n",
      " 'UAB181' 'UAB440' 'UAB319' 'UAB212' 'UAB497' 'UAB093' 'UAB161' 'UAB392'\n",
      " 'UAB084' 'UAB286' 'UAB219' 'UAB139' 'UAB108' 'UAB176' 'UAB343' 'UAB398'\n",
      " 'UAB217' 'UAB443' 'UAB006' 'UAB522' 'UAB310' 'UAB178' 'UAB372' 'UAB280'\n",
      " 'UAB205' 'UAB236' 'UAB191' 'UAB039' 'UAB511' 'UAB129' 'UAB508' 'UAB687'\n",
      " 'UAB204' 'UAB054' 'UAB678' 'UAB708' 'UAB563' 'UAB096' 'UAB090' 'UAB145'\n",
      " 'UAB009' 'UAB177' 'UAB050' 'UAB569' 'UAB651' 'UAB692' 'UAB582' 'UAB114'\n",
      " 'UAB335' 'UAB585' 'UAB477' 'UAB229' 'UAB051' 'UAB172' 'UAB637' 'UAB661'\n",
      " 'UAB596' 'UAB058' 'UAB106' 'UAB168' 'UAB458' 'UAB190' 'UAB475' 'UAB614'\n",
      " 'UAB195' 'UAB317' 'UAB648' 'UAB151' 'UAB166' 'UAB278' 'UAB232' 'UAB167'\n",
      " 'UAB586' 'UAB532' 'UAB405' 'UAB642' 'UAB680' 'UAB452' 'UAB334' 'UAB722'\n",
      " 'UAB087' 'UAB018' 'UAB592' 'UAB307' 'UAB602' 'UAB064' 'UAB183' 'UAB595'\n",
      " 'UAB001' 'UAB509' 'UAB531' 'UAB302' 'UAB707' 'UAB581' 'UAB634' 'UAB223'\n",
      " 'UAB622' 'UAB451' 'UAB141' 'UAB506' 'UAB207' 'UAB694' 'UAB264' 'UAB037'\n",
      " 'UAB489' 'UAB406' 'UAB318' 'UAB059' 'UAB268' 'UAB140' 'UAB300' 'UAB690'\n",
      " 'UAB667' 'UAB136' 'UAB502' 'UAB126' 'UAB238' 'UAB496' 'UAB260' 'UAB066'\n",
      " 'UAB566' 'UAB503' 'UAB521' 'UAB270' 'UAB669' 'UAB495' 'UAB068' 'UAB063'\n",
      " 'UAB078' 'UAB472' 'UAB104' 'UAB142' 'UAB360' 'UAB301' 'UAB597' 'UAB492'\n",
      " 'UAB252' 'UAB231' 'UAB102' 'UAB272' 'UAB133' 'UAB645' 'UAB189' 'UAB227'\n",
      " 'UAB081' 'UAB267' 'UAB022' 'UAB046']\n"
     ]
    }
   ],
   "source": [
    "print(train_patient_id)"
   ]
  },
  {
   "cell_type": "code",
   "execution_count": 23,
   "metadata": {},
   "outputs": [
    {
     "name": "stdout",
     "output_type": "stream",
     "text": [
      "['UAB196' 'UAB061' 'UAB552' 'UAB071' 'UAB234' 'UAB717' 'UAB601' 'UAB008'\n",
      " 'UAB056' 'UAB519' 'UAB347' 'UAB030' 'UAB704' 'UAB150' 'UAB576' 'UAB557'\n",
      " 'UAB389' 'UAB185' 'UAB488' 'UAB138' 'UAB420' 'UAB088' 'UAB024' 'UAB127'\n",
      " 'UAB323' 'UAB436' 'UAB163' 'UAB427' 'UAB103' 'UAB671' 'UAB225' 'UAB607'\n",
      " 'UAB573' 'UAB243' 'UAB517' 'UAB337' 'UAB197' 'UAB180' 'UAB640' 'UAB428'\n",
      " 'UAB115' 'UAB706' 'UAB666' 'UAB277' 'UAB288' 'UAB461' 'UAB500' 'UAB057'\n",
      " 'UAB251' 'UAB005' 'UAB639' 'UAB683' 'UAB208' 'UAB653' 'UAB620' 'UAB023'\n",
      " 'UAB128' 'UAB550' 'UAB367' 'UAB688' 'UAB702' 'UAB345' 'UAB384' 'UAB626'\n",
      " 'UAB411' 'UAB482' 'UAB040' 'UAB101' 'UAB501' 'UAB210' 'UAB352' 'UAB348'\n",
      " 'UAB562' 'UAB609' 'UAB530' 'UAB075' 'UAB698' 'UAB545' 'UAB099' 'UAB654'\n",
      " 'UAB535' 'UAB086' 'UAB331' 'UAB021' 'UAB035' 'UAB539' 'UAB393' 'UAB162'\n",
      " 'UAB069' 'UAB413' 'UAB388' 'UAB065']\n"
     ]
    }
   ],
   "source": [
    "print(test_patient_id)"
   ]
  },
  {
   "cell_type": "code",
   "execution_count": 32,
   "metadata": {},
   "outputs": [
    {
     "name": "stdout",
     "output_type": "stream",
     "text": [
      "[]\n"
     ]
    }
   ],
   "source": [
    "print(np.intersect1d(train_patient_id, test_patient_id))"
   ]
  },
  {
   "cell_type": "code",
   "execution_count": 24,
   "metadata": {},
   "outputs": [],
   "source": [
    "hands_dataframe = pd.read_csv('./data/hand_joint_data.csv')\n",
    "feet_dataframe = pd.read_csv('./data/feet_joint_data.csv')"
   ]
  },
  {
   "cell_type": "code",
   "execution_count": 25,
   "metadata": {},
   "outputs": [],
   "source": [
    "hand_idx = [image_name.split('-')[0] in test_patient_id for image_name in hands_dataframe['image_name']]\n",
    "feet_idx = [image_name.split('-')[0] in test_patient_id for image_name in feet_dataframe['image_name']]"
   ]
  },
  {
   "cell_type": "code",
   "execution_count": 26,
   "metadata": {},
   "outputs": [],
   "source": [
    "hands_dataframe.iloc[np.where(np.logical_not(hand_idx))[0]].to_csv('./data/hand_joint_data_train.csv')\n",
    "feet_dataframe.iloc[np.where(np.logical_not(feet_idx))[0]].to_csv('./data/feet_joint_data_train.csv')\n",
    "\n",
    "hands_dataframe.iloc[np.where(hand_idx)[0]].to_csv('./data/hand_joint_data_test.csv')\n",
    "feet_dataframe.iloc[np.where(feet_idx)[0]].to_csv('./data/feet_joint_data_test.csv')"
   ]
  },
  {
   "cell_type": "code",
   "execution_count": 27,
   "metadata": {},
   "outputs": [],
   "source": [
    "feet_data = pd.read_csv('./data/feet_joint_data_train.csv')\n",
    "feet_data_val = pd.read_csv('./data/feet_joint_data_test.csv')"
   ]
  },
  {
   "cell_type": "code",
   "execution_count": 28,
   "metadata": {},
   "outputs": [
    {
     "data": {
      "text/plain": [
       "(array([0., 1., 2., 3., 4.]), array([3021,    5,  142,   72,   72]))"
      ]
     },
     "execution_count": 28,
     "metadata": {},
     "output_type": "execute_result"
    }
   ],
   "source": [
    "np.unique(feet_data['narrowing_0'], return_counts = True)"
   ]
  },
  {
   "cell_type": "code",
   "execution_count": 29,
   "metadata": {},
   "outputs": [
    {
     "data": {
      "text/plain": [
       "(array([0., 1., 2., 3., 4.]), array([985,   2,  55,  34,  28]))"
      ]
     },
     "execution_count": 29,
     "metadata": {},
     "output_type": "execute_result"
    }
   ],
   "source": [
    "np.unique(feet_data_val['narrowing_0'], return_counts = True)"
   ]
  },
  {
   "cell_type": "code",
   "execution_count": 30,
   "metadata": {},
   "outputs": [],
   "source": [
    "x = np.count_nonzero(feet_data_val['narrowing_0'] == 0)"
   ]
  },
  {
   "cell_type": "code",
   "execution_count": 31,
   "metadata": {},
   "outputs": [
    {
     "name": "stdout",
     "output_type": "stream",
     "text": [
      "0.8922101449275363\n"
     ]
    }
   ],
   "source": [
    "print(x / feet_data_val.shape[0])"
   ]
  },
  {
   "cell_type": "code",
   "execution_count": null,
   "metadata": {},
   "outputs": [],
   "source": []
  }
 ],
 "metadata": {
  "kernelspec": {
   "display_name": "Python 3",
   "language": "python",
   "name": "python3"
  },
  "language_info": {
   "codemirror_mode": {
    "name": "ipython",
    "version": 3
   },
   "file_extension": ".py",
   "mimetype": "text/x-python",
   "name": "python",
   "nbconvert_exporter": "python",
   "pygments_lexer": "ipython3",
   "version": "3.7.3"
  }
 },
 "nbformat": 4,
 "nbformat_minor": 4
}
