{
 "cells": [
  {
   "cell_type": "code",
   "execution_count": 16,
   "metadata": {},
   "outputs": [],
   "source": [
    "import os\n",
    "\n",
    "PATH = '/home/stadlerm/Development/Projects/DreamChallenge/RA2_alpine_lads'\n",
    "\n",
    "os.chdir(PATH)"
   ]
  },
  {
   "cell_type": "code",
   "execution_count": 2,
   "metadata": {},
   "outputs": [],
   "source": [
    "from utils.config import Config\n",
    "\n",
    "config = Config()"
   ]
  },
  {
   "cell_type": "code",
   "execution_count": 264,
   "metadata": {},
   "outputs": [],
   "source": [
    "import os\n",
    "import pandas as pd\n",
    "\n",
    "training_csv = os.path.join(config.train_location, 'training.csv')\n",
    "\n",
    "training_data = pd.read_csv(training_csv)"
   ]
  },
  {
   "cell_type": "code",
   "execution_count": 299,
   "metadata": {},
   "outputs": [
    {
     "name": "stdout",
     "output_type": "stream",
     "text": [
      "6\n",
      "2\n",
      "1\n",
      "0\n"
     ]
    }
   ],
   "source": [
    "# Prepare outcome vector\n",
    "\n",
    "\n",
    "column_types = [\n",
    "    ['hands_narrowing', '.*H_.*_J.*'], \n",
    "    ['hands_erosion', '.*H_.*_E.*'], \n",
    "    ['feet_narrowing', '.*F_.*_J.*'],\n",
    "    ['feet_erosion', '.*F_.*_E.*']\n",
    "]\n",
    "\n",
    "for column_type in column_types:\n",
    "    file_post_fix = column_type[0]\n",
    "    column_reg = column_type[1]\n",
    "    \n",
    "    p = re.compile(column_reg)\n",
    "\n",
    "    column_idx = np.where([p.match(column) for column in training_data.columns])[0]\n",
    "    columns = training_data.columns[column_idx]\n",
    "    \n",
    "    values = training_data[columns]\n",
    "    vals, counts = np.unique(values, return_counts = True)\n",
    "    \n",
    "    y = np.zeros((training_data.shape[0], vals.size))\n",
    "    \n",
    "    for idx, val in enumerate(vals):\n",
    "        r_idx = np.where(values == val)[0]\n",
    "        \n",
    "        y[r_idx, idx] = 1\n",
    "        \n",
    "    y_t = y[:, 1]\n",
    "\n",
    "    for idx in range(1, vals.size):\n",
    "        y_t = np.logical_and(y_t, y[:, idx])\n",
    "    \n",
    "    print(np.count_nonzero(y_t))"
   ]
  },
  {
   "cell_type": "code",
   "execution_count": 296,
   "metadata": {},
   "outputs": [
    {
     "name": "stdout",
     "output_type": "stream",
     "text": [
      "6\n"
     ]
    }
   ],
   "source": [
    "import functools\n",
    "\n",
    "y_t = y[:, 0]\n",
    "\n",
    "for idx in range(1, 5):\n",
    "    y_t = np.logical_and(y_t, y[:, idx])\n",
    "    \n",
    "print(np.count_nonzero(y_t))"
   ]
  },
  {
   "cell_type": "code",
   "execution_count": 200,
   "metadata": {},
   "outputs": [],
   "source": [
    "# Regex for hand narrowing, erosion, and feet narrowing columns\n",
    "column_reg = ['.*H_.*_J.*', '.*H_.*_E.*', '.*F_.*_J.*']\n",
    "\n",
    "for idx, reg in enumerate(column_reg):\n",
    "    p = re.compile(reg)\n",
    "\n",
    "    column_idx = np.where([p.match(column) for column in training_data.columns])[0]\n",
    "    columns = training_data.columns[column_idx]\n",
    "    \n",
    "    add_y_classes(training_data[columns].to_numpy(), idx)\n",
    "\n",
    "# Process feet erosion differently because it goes from 0-10, and higher values are extremely rare (8-10)\n",
    "p = re.compile('.*F_.*_E.*')\n",
    "column_idx = np.where([p.match(column) for column in training_data.columns])[0]\n",
    "columns = training_data.columns[column_idx]\n",
    "\n",
    "values = np.round(training_data[columns] / 2)\n",
    "# Very few have 5, so add them to 4\n",
    "values[values == 5] = 4\n",
    "add_y_classes(values, 3)"
   ]
  },
  {
   "cell_type": "code",
   "execution_count": 230,
   "metadata": {},
   "outputs": [
    {
     "name": "stdout",
     "output_type": "stream",
     "text": [
      "(array([0., 1., 2., 3., 4.]), array([163,  22,  65,  37,  81]))\n",
      "(array([0., 1., 2., 3., 4., 5.]), array([145, 107,  45,  53,   4,  14]))\n",
      "(array([0., 1., 2., 3., 4.]), array([257,   7,  47,  28,  29]))\n",
      "(array([0., 1., 2., 3., 4.]), array([268,  66,  26,   4,   4]))\n"
     ]
    }
   ],
   "source": [
    "print(np.unique(y[:, 0], return_counts = True))\n",
    "print(np.unique(y[:, 1], return_counts = True))\n",
    "print(np.unique(y[:, 2], return_counts = True))\n",
    "print(np.unique(y[:, 3], return_counts = True))"
   ]
  },
  {
   "cell_type": "code",
   "execution_count": 231,
   "metadata": {},
   "outputs": [],
   "source": [
    "def create_joint_random_variable(x, y):\n",
    "    N = x.shape[0]\n",
    "\n",
    "    # Alphabet of x & y\n",
    "    x_abc = np.unique(x)\n",
    "    y_abc = np.unique(y)\n",
    "\n",
    "    # Joint Random Variable\n",
    "    x_y = np.zeros(N, dtype = np.int32)\n",
    "\n",
    "    # Hold current combination\n",
    "    n = 0\n",
    "    for x_letter in x_abc:\n",
    "        for y_letter in y_abc:\n",
    "            # Check entries where x & y are equal to the current letter\n",
    "            x_y_idx = np.logical_and(x == x_letter, y == y_letter)\n",
    "\n",
    "            # Skip non existent combinations\n",
    "            if (np.count_nonzero(x_y_idx) > 0):\n",
    "                x_y[x_y_idx] = n\n",
    "\n",
    "                # After a combination has been used, increase counter to assign a new value to new combinations\n",
    "                n += 1\n",
    "\n",
    "    return x_y"
   ]
  },
  {
   "cell_type": "code",
   "execution_count": 241,
   "metadata": {},
   "outputs": [
    {
     "name": "stdout",
     "output_type": "stream",
     "text": [
      "[[2. 1. 1. 0.]\n",
      " [2. 0. 0. 0.]\n",
      " [0. 0. 0. 0.]\n",
      " ...\n",
      " [3. 0. 0. 0.]\n",
      " [4. 1. 0. 0.]\n",
      " [2. 1. 3. 0.]]\n"
     ]
    }
   ],
   "source": [
    "print(y)"
   ]
  },
  {
   "cell_type": "code",
   "execution_count": 238,
   "metadata": {},
   "outputs": [],
   "source": [
    "joint_y = y[:, 0]\n",
    "\n",
    "for y_p in range(3):\n",
    "        joint_y = create_joint_random_variable(joint_y, y[:, y_p+1])"
   ]
  },
  {
   "cell_type": "code",
   "execution_count": 245,
   "metadata": {},
   "outputs": [],
   "source": [
    "joint_y = create_joint_random_variable(create_joint_random_variable(create_joint_random_variable(y[:, 0], y[:, 1]), y[:, 2]), y[:, 3])"
   ]
  },
  {
   "cell_type": "code",
   "execution_count": 247,
   "metadata": {},
   "outputs": [
    {
     "data": {
      "text/plain": [
       "(array([  0,   1,   2,   3,   4,   5,   6,   7,   8,   9,  10,  11,  12,\n",
       "         13,  14,  15,  16,  17,  18,  19,  20,  21,  22,  23,  24,  25,\n",
       "         26,  27,  28,  29,  30,  31,  32,  33,  34,  35,  36,  37,  38,\n",
       "         39,  40,  41,  42,  43,  44,  45,  46,  47,  48,  49,  50,  51,\n",
       "         52,  53,  54,  55,  56,  57,  58,  59,  60,  61,  62,  63,  64,\n",
       "         65,  66,  67,  68,  69,  70,  71,  72,  73,  74,  75,  76,  77,\n",
       "         78,  79,  80,  81,  82,  83,  84,  85,  86,  87,  88,  89,  90,\n",
       "         91,  92,  93,  94,  95,  96,  97,  98,  99, 100, 101, 102, 103,\n",
       "        104, 105, 106], dtype=int32),\n",
       " array([64, 12,  3,  7,  2,  3,  1,  2,  1,  1, 42,  7,  3,  3,  1,  1,  8,\n",
       "         1,  1,  5,  3,  1,  1,  1,  1,  1,  1,  2,  1,  2,  1,  1,  1, 19,\n",
       "         1,  4,  1, 12,  4,  1,  1,  3,  1,  1,  1,  1,  3,  1,  1,  2,  2,\n",
       "         4,  1,  1, 14,  1,  2,  4,  3,  3,  1,  2,  4,  1,  1,  1,  6,  1,\n",
       "         5,  1,  1,  3,  1,  1,  4,  1,  1,  1,  1,  1,  2,  1, 10,  1,  2,\n",
       "         1,  1,  2,  1,  1,  4,  1,  1,  4,  1,  1,  2,  2,  1,  1,  4,  1,\n",
       "         1,  2,  2,  2,  1]))"
      ]
     },
     "execution_count": 247,
     "metadata": {},
     "output_type": "execute_result"
    }
   ],
   "source": [
    "np.unique(joint_y, return_counts = True)"
   ]
  },
  {
   "cell_type": "code",
   "execution_count": 254,
   "metadata": {},
   "outputs": [],
   "source": [
    "from sklearn.model_selection import train_test_split\n",
    "\n",
    "train_idx, test_idx = train_test_split(np.arange(training_data.shape[0]), test_size = 0.25, stratify = y[:, 2])"
   ]
  },
  {
   "cell_type": "code",
   "execution_count": 300,
   "metadata": {},
   "outputs": [
    {
     "name": "stdout",
     "output_type": "stream",
     "text": [
      "(array([0., 1.]), array([  1, 275]))\n",
      "(array([0., 1.]), array([190,  86]))\n",
      "(array([0., 1.]), array([228,  48]))\n",
      "(array([0., 1.]), array([253,  23]))\n"
     ]
    }
   ],
   "source": [
    "print(np.unique(y[train_idx, 0], return_counts = True))\n",
    "print(np.unique(y[train_idx, 1], return_counts = True))\n",
    "print(np.unique(y[train_idx, 2], return_counts = True))\n",
    "print(np.unique(y[train_idx, 3], return_counts = True))"
   ]
  },
  {
   "cell_type": "code",
   "execution_count": 301,
   "metadata": {},
   "outputs": [
    {
     "name": "stdout",
     "output_type": "stream",
     "text": [
      "(array([1.]), array([92]))\n",
      "(array([0., 1.]), array([66, 26]))\n",
      "(array([0., 1.]), array([69, 23]))\n",
      "(array([0., 1.]), array([84,  8]))\n"
     ]
    }
   ],
   "source": [
    "print(np.unique(y[test_idx, 0], return_counts = True))\n",
    "print(np.unique(y[test_idx, 1], return_counts = True))\n",
    "print(np.unique(y[test_idx, 2], return_counts = True))\n",
    "print(np.unique(y[test_idx, 3], return_counts = True))"
   ]
  },
  {
   "cell_type": "code",
   "execution_count": 257,
   "metadata": {},
   "outputs": [],
   "source": [
    "train_patient_id = training_data.iloc[train_idx]['Patient_ID'].to_numpy()\n",
    "test_patient_id = training_data.iloc[test_idx]['Patient_ID'].to_numpy()"
   ]
  },
  {
   "cell_type": "code",
   "execution_count": 258,
   "metadata": {},
   "outputs": [
    {
     "name": "stdout",
     "output_type": "stream",
     "text": [
      "['UAB227' 'UAB345' 'UAB343' 'UAB614' 'UAB040' 'UAB189' 'UAB223' 'UAB489'\n",
      " 'UAB046' 'UAB052' 'UAB075' 'UAB232' 'UAB128' 'UAB394' 'UAB366' 'UAB389'\n",
      " 'UAB319' 'UAB661' 'UAB196' 'UAB151' 'UAB379' 'UAB522' 'UAB039' 'UAB323'\n",
      " 'UAB268' 'UAB224' 'UAB503' 'UAB204' 'UAB300' 'UAB239' 'UAB126' 'UAB270'\n",
      " 'UAB286' 'UAB384' 'UAB463' 'UAB567' 'UAB013' 'UAB219' 'UAB090' 'UAB080'\n",
      " 'UAB033' 'UAB023' 'UAB392' 'UAB630' 'UAB139' 'UAB054' 'UAB557' 'UAB086'\n",
      " 'UAB551' 'UAB260' 'UAB233' 'UAB717' 'UAB143' 'UAB491' 'UAB539' 'UAB081'\n",
      " 'UAB002' 'UAB105' 'UAB563' 'UAB436' 'UAB006' 'UAB597' 'UAB238' 'UAB045'\n",
      " 'UAB131' 'UAB005' 'UAB207' 'UAB041' 'UAB264' 'UAB009' 'UAB210' 'UAB573'\n",
      " 'UAB440' 'UAB596' 'UAB087' 'UAB487' 'UAB317' 'UAB109' 'UAB494' 'UAB372'\n",
      " 'UAB171' 'UAB427' 'UAB093' 'UAB406' 'UAB411' 'UAB244' 'UAB495' 'UAB140'\n",
      " 'UAB458' 'UAB065' 'UAB018' 'UAB180' 'UAB617' 'UAB422' 'UAB360' 'UAB191'\n",
      " 'UAB216' 'UAB267' 'UAB701' 'UAB031' 'UAB085' 'UAB129' 'UAB357' 'UAB700'\n",
      " 'UAB177' 'UAB519' 'UAB124' 'UAB335' 'UAB694' 'UAB492' 'UAB068' 'UAB592'\n",
      " 'UAB181' 'UAB719' 'UAB022' 'UAB088' 'UAB703' 'UAB231' 'UAB383' 'UAB549'\n",
      " 'UAB672' 'UAB574' 'UAB462' 'UAB363' 'UAB524' 'UAB609' 'UAB007' 'UAB326'\n",
      " 'UAB008' 'UAB396' 'UAB531' 'UAB176' 'UAB680' 'UAB185' 'UAB536' 'UAB637'\n",
      " 'UAB687' 'UAB096' 'UAB170' 'UAB690' 'UAB110' 'UAB626' 'UAB675' 'UAB486'\n",
      " 'UAB449' 'UAB496' 'UAB659' 'UAB461' 'UAB499' 'UAB477' 'UAB497' 'UAB252'\n",
      " 'UAB367' 'UAB511' 'UAB707' 'UAB079' 'UAB103' 'UAB678' 'UAB138' 'UAB342'\n",
      " 'UAB163' 'UAB639' 'UAB318' 'UAB564' 'UAB572' 'UAB167' 'UAB331' 'UAB199'\n",
      " 'UAB545' 'UAB649' 'UAB642' 'UAB243' 'UAB021' 'UAB195' 'UAB671' 'UAB722'\n",
      " 'UAB576' 'UAB413' 'UAB417' 'UAB543' 'UAB172' 'UAB329' 'UAB566' 'UAB035'\n",
      " 'UAB055' 'UAB001' 'UAB420' 'UAB395' 'UAB651' 'UAB532' 'UAB388' 'UAB464'\n",
      " 'UAB640' 'UAB481' 'UAB428' 'UAB251' 'UAB179' 'UAB101' 'UAB114' 'UAB225'\n",
      " 'UAB704' 'UAB192' 'UAB475' 'UAB229' 'UAB028' 'UAB571' 'UAB070' 'UAB716'\n",
      " 'UAB200' 'UAB302' 'UAB049' 'UAB622' 'UAB403' 'UAB451' 'UAB278' 'UAB108'\n",
      " 'UAB107' 'UAB521' 'UAB601' 'UAB063' 'UAB003' 'UAB607' 'UAB577' 'UAB165'\n",
      " 'UAB550' 'UAB111' 'UAB634' 'UAB552' 'UAB190' 'UAB508' 'UAB272' 'UAB398'\n",
      " 'UAB236' 'UAB288' 'UAB166' 'UAB136' 'UAB234' 'UAB506' 'UAB374' 'UAB405'\n",
      " 'UAB024' 'UAB102' 'UAB399' 'UAB452' 'UAB208' 'UAB364' 'UAB071' 'UAB032'\n",
      " 'UAB530' 'UAB586' 'UAB711' 'UAB562' 'UAB058' 'UAB119' 'UAB407' 'UAB012'\n",
      " 'UAB698' 'UAB692' 'UAB037' 'UAB184' 'UAB060' 'UAB197' 'UAB708' 'UAB453'\n",
      " 'UAB509' 'UAB100' 'UAB488' 'UAB133' 'UAB084' 'UAB585' 'UAB535' 'UAB125'\n",
      " 'UAB141' 'UAB059' 'UAB069' 'UAB620']\n"
     ]
    }
   ],
   "source": [
    "print(train_patient_id)"
   ]
  },
  {
   "cell_type": "code",
   "execution_count": 259,
   "metadata": {},
   "outputs": [
    {
     "name": "stdout",
     "output_type": "stream",
     "text": [
      "['UAB212' 'UAB517' 'UAB067' 'UAB183' 'UAB654' 'UAB500' 'UAB135' 'UAB078'\n",
      " 'UAB161' 'UAB246' 'UAB504' 'UAB310' 'UAB702' 'UAB679' 'UAB582' 'UAB030'\n",
      " 'UAB056' 'UAB142' 'UAB064' 'UAB595' 'UAB665' 'UAB123' 'UAB104' 'UAB581'\n",
      " 'UAB062' 'UAB098' 'UAB482' 'UAB502' 'UAB648' 'UAB099' 'UAB560' 'UAB720'\n",
      " 'UAB348' 'UAB653' 'UAB472' 'UAB178' 'UAB333' 'UAB307' 'UAB301' 'UAB706'\n",
      " 'UAB683' 'UAB625' 'UAB159' 'UAB628' 'UAB042' 'UAB036' 'UAB160' 'UAB205'\n",
      " 'UAB277' 'UAB145' 'UAB115' 'UAB441' 'UAB352' 'UAB490' 'UAB569' 'UAB645'\n",
      " 'UAB271' 'UAB280' 'UAB537' 'UAB688' 'UAB106' 'UAB066' 'UAB061' 'UAB051'\n",
      " 'UAB538' 'UAB347' 'UAB182' 'UAB130' 'UAB666' 'UAB057' 'UAB168' 'UAB198'\n",
      " 'UAB667' 'UAB443' 'UAB113' 'UAB150' 'UAB697' 'UAB602' 'UAB334' 'UAB217'\n",
      " 'UAB228' 'UAB501' 'UAB127' 'UAB393' 'UAB144' 'UAB162' 'UAB122' 'UAB297'\n",
      " 'UAB669' 'UAB337' 'UAB580' 'UAB050']\n"
     ]
    }
   ],
   "source": [
    "print(test_patient_id)"
   ]
  },
  {
   "cell_type": "code",
   "execution_count": 260,
   "metadata": {},
   "outputs": [],
   "source": [
    "hands_dataframe = pd.read_csv('./data/hand_joint_data.csv')\n",
    "feet_dataframe = pd.read_csv('./data/feet_joint_data.csv')"
   ]
  },
  {
   "cell_type": "code",
   "execution_count": 261,
   "metadata": {},
   "outputs": [],
   "source": [
    "hand_idx = [image_name.split('-')[0] in test_patient_id for image_name in hands_dataframe['image_name']]\n",
    "feet_idx = [image_name.split('-')[0] in test_patient_id for image_name in feet_dataframe['image_name']]"
   ]
  },
  {
   "cell_type": "code",
   "execution_count": 262,
   "metadata": {},
   "outputs": [],
   "source": [
    "hands_dataframe.iloc[np.where(np.logical_not(hand_idx))[0]].to_csv('./data/hand_joint_data_train.csv')\n",
    "feet_dataframe.iloc[np.where(np.logical_not(feet_idx))[0]].to_csv('./data/feet_joint_data_train.csv')\n",
    "\n",
    "hands_dataframe.iloc[np.where(hand_idx)[0]].to_csv('./data/hand_joint_data_test.csv')\n",
    "feet_dataframe.iloc[np.where(feet_idx)[0]].to_csv('./data/feet_joint_data_test.csv')"
   ]
  },
  {
   "cell_type": "code",
   "execution_count": 302,
   "metadata": {},
   "outputs": [],
   "source": [
    "feet_data = pd.read_csv('./data/feet_joint_data_train.csv')\n",
    "feet_data_val = pd.read_csv('./data/feet_joint_data_test.csv')"
   ]
  },
  {
   "cell_type": "code",
   "execution_count": 304,
   "metadata": {},
   "outputs": [
    {
     "data": {
      "text/plain": [
       "(array([0., 1., 2., 3., 4.]), array([3016,    5,  143,   76,   72]))"
      ]
     },
     "execution_count": 304,
     "metadata": {},
     "output_type": "execute_result"
    }
   ],
   "source": [
    "np.unique(feet_data['narrowing_0'], return_counts = True)"
   ]
  },
  {
   "cell_type": "code",
   "execution_count": 305,
   "metadata": {},
   "outputs": [
    {
     "data": {
      "text/plain": [
       "(array([0., 1., 2., 3., 4.]), array([990,   2,  54,  30,  28]))"
      ]
     },
     "execution_count": 305,
     "metadata": {},
     "output_type": "execute_result"
    }
   ],
   "source": [
    "np.unique(feet_data_val['narrowing_0'], return_counts = True)"
   ]
  },
  {
   "cell_type": "code",
   "execution_count": 309,
   "metadata": {},
   "outputs": [],
   "source": [
    "x = np.count_nonzero(feet_data_val['narrowing_0'] == 0)"
   ]
  },
  {
   "cell_type": "code",
   "execution_count": 310,
   "metadata": {},
   "outputs": [
    {
     "name": "stdout",
     "output_type": "stream",
     "text": [
      "0.8967391304347826\n"
     ]
    }
   ],
   "source": [
    "print(x / feet_data_val.shape[0])"
   ]
  },
  {
   "cell_type": "code",
   "execution_count": null,
   "metadata": {},
   "outputs": [],
   "source": []
  }
 ],
 "metadata": {
  "kernelspec": {
   "display_name": "Python 3",
   "language": "python",
   "name": "python3"
  },
  "language_info": {
   "codemirror_mode": {
    "name": "ipython",
    "version": 3
   },
   "file_extension": ".py",
   "mimetype": "text/x-python",
   "name": "python",
   "nbconvert_exporter": "python",
   "pygments_lexer": "ipython3",
   "version": "3.7.3"
  }
 },
 "nbformat": 4,
 "nbformat_minor": 4
}
