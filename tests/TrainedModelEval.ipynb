{
 "cells": [
  {
   "cell_type": "code",
   "execution_count": 1,
   "metadata": {},
   "outputs": [],
   "source": [
    "import os\n",
    "\n",
    "os.chdir('/mnt/jw01-aruk-home01/projects/ra_challenge/RA_challenge/michael_dev/RA2_alpine_lads/ra_joint_predictions')"
   ]
  },
  {
   "cell_type": "code",
   "execution_count": 2,
   "metadata": {},
   "outputs": [],
   "source": [
    "from utils.config import Config\n",
    "\n",
    "config = Config()"
   ]
  },
  {
   "cell_type": "code",
   "execution_count": 3,
   "metadata": {},
   "outputs": [
    {
     "name": "stdout",
     "output_type": "stream",
     "text": [
      "2020-06-27 12:02:19,486;WARNING - Missing permissions to create directory for caching!\n",
      "2020-06-27 12:02:19,676;WARNING - Missing permissions to create directory for caching!\n",
      "2020-06-27 12:02:19,950;WARNING - Missing permissions to create directory for caching!\n",
      "2020-06-27 12:02:20,136;WARNING - Missing permissions to create directory for caching!\n",
      "2020-06-27 12:02:20,322;WARNING - Missing permissions to create directory for caching!\n",
      "[{'augment': <function random_flip at 0x7fa3d0002158>, 'p': 1}, {'augment': <function random_brightness_and_contrast at 0x7fa3d00021e0>}, {'augment': <function random_crop at 0x7fa3d00022f0>}, {'augment': <function random_gaussian_noise at 0x7fa3d0002378>, 'p': 0.2}, {'augment': <function random_rotation at 0x7fa3d0002268>}]\n",
      "2020-06-27 12:02:25,234;WARNING - Missing permissions to create directory for caching!\n",
      "2020-06-27 12:02:25,419;WARNING - Missing permissions to create directory for caching!\n",
      "2020-06-27 12:02:25,604;WARNING - Missing permissions to create directory for caching!\n",
      "2020-06-27 12:02:25,789;WARNING - Missing permissions to create directory for caching!\n",
      "2020-06-27 12:02:26,090;WARNING - Missing permissions to create directory for caching!\n",
      "[{'augment': <function random_flip at 0x7fa3d0002158>, 'p': 1}, {'augment': <function random_brightness_and_contrast at 0x7fa3d00021e0>}, {'augment': <function random_crop at 0x7fa3d00022f0>}, {'augment': <function random_gaussian_noise at 0x7fa3d0002378>, 'p': 0.2}, {'augment': <function random_rotation at 0x7fa3d0002268>}]\n",
      "2020-06-27 12:02:27,587;WARNING - Missing permissions to create directory for caching!\n",
      "2020-06-27 12:02:27,772;WARNING - Missing permissions to create directory for caching!\n",
      "2020-06-27 12:02:28,098;WARNING - Missing permissions to create directory for caching!\n",
      "2020-06-27 12:02:28,282;WARNING - Missing permissions to create directory for caching!\n",
      "2020-06-27 12:02:28,468;WARNING - Missing permissions to create directory for caching!\n",
      "[{'augment': <function random_flip at 0x7fa3d0002158>, 'p': 1}, {'augment': <function random_brightness_and_contrast at 0x7fa3d00021e0>}, {'augment': <function random_crop at 0x7fa3d00022f0>}, {'augment': <function random_gaussian_noise at 0x7fa3d0002378>, 'p': 0.2}, {'augment': <function random_rotation at 0x7fa3d0002268>}]\n",
      "2020-06-27 12:02:29,835;WARNING - Missing permissions to create directory for caching!\n",
      "2020-06-27 12:02:30,019;WARNING - Missing permissions to create directory for caching!\n",
      "2020-06-27 12:02:30,355;WARNING - Missing permissions to create directory for caching!\n",
      "2020-06-27 12:02:30,540;WARNING - Missing permissions to create directory for caching!\n",
      "2020-06-27 12:02:30,726;WARNING - Missing permissions to create directory for caching!\n",
      "[{'augment': <function random_flip at 0x7fa3d0002158>, 'p': 1}, {'augment': <function random_brightness_and_contrast at 0x7fa3d00021e0>}, {'augment': <function random_crop at 0x7fa3d00022f0>}, {'augment': <function random_gaussian_noise at 0x7fa3d0002378>, 'p': 0.2}, {'augment': <function random_rotation at 0x7fa3d0002268>}]\n"
     ]
    }
   ],
   "source": [
    "from dataset.joint_val_dataset import hands_joints_val_dataset, feet_joint_val_dataset, hands_wrists_val_dataset\n",
    "from dataset.joints.joint_extractor import default_joint_extractor\n",
    "from dataset.joints.joint_extractor_factory import get_joint_extractor\n",
    "\n",
    "hands_ds = hands_joints_val_dataset(config, joint_extractor = get_joint_extractor('H', False), split_type = 'balanced', repeat = False)\n",
    "feet_ds = feet_joint_val_dataset(config, joint_extractor = get_joint_extractor('F', True), split_type = 'balanced', repeat = False)\n",
    "\n",
    "tf_hands_data = hands_ds.create_hands_joints_dataset_with_validation(config.train_location + '/training.csv', erosion_flag = False)\n",
    "tf_hands_e_data = hands_ds.create_hands_joints_dataset_with_validation(config.train_location + '/training.csv', erosion_flag = True)\n",
    "tf_feet_j_data = feet_ds.create_feet_joints_dataset_with_validation(config.train_location + '/training.csv', erosion_flag = False)\n",
    "tf_feet_e_data = feet_ds.create_feet_joints_dataset_with_validation(config.train_location + '/training.csv', erosion_flag = True)"
   ]
  },
  {
   "cell_type": "code",
   "execution_count": 4,
   "metadata": {},
   "outputs": [],
   "source": [
    "import numpy as np\n",
    "\n",
    "from tensorflow import keras\n",
    "from model.utils.metrics import mae_metric, rmse_metric, class_filter_rmse_metric, softmax_mae_metric, softmax_rmse_metric, class_filter_softmax_rmse_metric\n",
    "\n",
    "def eval_model(label, dataset, model_paths, max_output, filter_model_paths = None, filter_cutoff = 0.5, rounding_cutoff = 0.3):\n",
    "    pred_models = [keras.models.load_model(model_path, compile = False) for model_path in model_paths]\n",
    "    \n",
    "    if filter_model_paths is not None:\n",
    "        filter_models = [keras.models.load_model(filter_model_path, compile = False) for filter_model_path in filter_model_paths]\n",
    "    else:\n",
    "        filter_models = None\n",
    "    \n",
    "    truths = []\n",
    "    preds = []\n",
    "    \n",
    "    for x, y in dataset:\n",
    "        if filter_models is not None:\n",
    "            filter_y_pred = filter_models[0].predict(x)\n",
    "            \n",
    "            for filter_model in filter_models[1:]:\n",
    "                filter_y_pred += filter_model.predict(x)\n",
    "                \n",
    "            filter_y_pred = filter_y_pred / len(filter_models)\n",
    "            \n",
    "            filter_y_pred = filter_y_pred > filter_cutoff\n",
    "            filter_y_pred = filter_y_pred.astype(np.int32)\n",
    "        else:\n",
    "            filter_y_pred = np.ones(x.shape[0])\n",
    "            \n",
    "        y_pred = pred_models[0].predict(x)\n",
    "        for pred_model in pred_models[1:]:\n",
    "            y_pred += pred_model.predict(x)\n",
    "            \n",
    "        y_pred = y_pred / len(pred_models)\n",
    "        \n",
    "        y_pred = y_pred * filter_y_pred\n",
    "        \n",
    "        truths.extend(y.numpy()[:, 0])\n",
    "        preds.extend(y_pred[:, 0])\n",
    "    \n",
    "    truths = np.array(truths)\n",
    "    preds = np.array(preds)\n",
    "    \n",
    "    preds[preds < 0] = 0\n",
    "    preds[preds > max_output] = max_output\n",
    "    preds[preds <= rounding_cutoff] = 0.0\n",
    "    \n",
    "    non0_idx = np.where(truths != 0.0)[0]\n",
    "    \n",
    "    mae = np.mean(np.absolute(truths - preds))\n",
    "    mae_std = np.std(np.absolute(truths - preds))\n",
    "    mse = np.mean(np.square(truths - preds))\n",
    "    mse_std = np.std(np.square(truths - preds))\n",
    "    rmse = np.sqrt(mse)\n",
    "    \n",
    "    non0_rmse = np.sqrt(np.mean(np.square(truths[non0_idx] - preds[non0_idx])))\n",
    "    non0_mae = np.mean(np.absolute(truths[non0_idx] - preds[non0_idx]))\n",
    "    \n",
    "    print(f'Model: {label} -- \\nLoss: {mse} (+/- {mse_std}) \\nMAE: {mae} (+/- {mae_std}) \\nRMSE: {rmse} \\nFilter0-RMSE: {non0_rmse} \\nFilter0-MAE: {non0_mae}')"
   ]
  },
  {
   "cell_type": "code",
   "execution_count": 5,
   "metadata": {},
   "outputs": [
    {
     "name": "stdout",
     "output_type": "stream",
     "text": [
      "Hands Narrowing\n"
     ]
    }
   ],
   "source": [
    "print('Hands Narrowing')\n",
    "\n",
    "hand_j_filter_model_paths = ['../trained_models/narrowing/v7/hands_narrowing_joint_damage_type_model_complex_rewritten_64bs_normsteps_75epochs_adamW_3e4_1e6_mixed_test_calpha.h5', \n",
    "                             '../trained_models/narrowing/v7/hands_narrowing_joint_damage_type_model_complex_rewritten_64bs_normsteps_75epochs_adamW_3e4_1e6_test_gamma1.h5',\n",
    "                             '../trained_models/narrowing/v7/narrowing_joint_damage_type_model_complex_rewritten_64bs_normsteps_75epochs_adamW_3e4_1e6.h5']"
   ]
  },
  {
   "cell_type": "code",
   "execution_count": 11,
   "metadata": {},
   "outputs": [
    {
     "name": "stdout",
     "output_type": "stream",
     "text": [
      "Model: 3e-4 (25%, Current Model, 25%): -- \n",
      "Loss: 0.1420328215900876 (+/- 0.525037233699757) \n",
      "MAE: 0.12921246627893784 (+/- 0.35402960349129275) \n",
      "RMSE: 0.3768724208403788 \n",
      "Filter0-RMSE: 0.7909338908760941 \n",
      "Filter0-MAE: 0.5928418082473552\n"
     ]
    }
   ],
   "source": [
    "eval_model('3e-4 (25%, Current Model, 25%):', tf_hands_data[1], ['../trained_models/narrowing/v7/hands_narrowing_joint_damage_model_complex_rewritten_64bs_145steps_300epochs_adamW_3e4_1e6_fullwd_balanced_mixed_test.h5'], 4, filter_model_paths = hand_j_filter_model_paths, filter_cutoff = 0.35)"
   ]
  },
  {
   "cell_type": "code",
   "execution_count": 9,
   "metadata": {},
   "outputs": [
    {
     "name": "stdout",
     "output_type": "stream",
     "text": [
      "Model: 3e-4 (25%, Small Dense): -- \n",
      "Loss: 0.1451845731144687 (+/- 0.5833913253265093) \n",
      "MAE: 0.13562776830606846 (+/- 0.3560753874936937) \n",
      "RMSE: 0.38103093458992104 \n",
      "Filter0-RMSE: 0.8060810699156774 \n",
      "Filter0-MAE: 0.6034756832945664\n"
     ]
    }
   ],
   "source": [
    "eval_model('3e-4 (25%, Small Dense):', tf_hands_data[1], ['../trained_models/narrowing/v8/hands_narrowing_small_bottlenecked_dense_1M_withNIH_nonfc_224x224_64bs_145steps_200epochs_adamW_3e4_1e6_50frozen_nodecay_fixed_bs_test.h5'], 4, filter_model_paths = hand_j_filter_model_paths, filter_cutoff = 0.35)"
   ]
  },
  {
   "cell_type": "code",
   "execution_count": 10,
   "metadata": {},
   "outputs": [
    {
     "name": "stdout",
     "output_type": "stream",
     "text": [
      "Model: 3e-4 (25%, Ensemble): -- \n",
      "Loss: 0.12776453462403736 (+/- 0.4725189302287351) \n",
      "MAE: 0.12881788245705894 (+/- 0.33342238644595645) \n",
      "RMSE: 0.3574416520553213 \n",
      "Filter0-RMSE: 0.7473862843074289 \n",
      "Filter0-MAE: 0.5776081736636373\n"
     ]
    }
   ],
   "source": [
    "eval_model('3e-4 (25%, Ensemble):', tf_hands_data[1], ['../trained_models/narrowing/v7/hands_narrowing_joint_damage_model_complex_rewritten_64bs_145steps_300epochs_adamW_3e4_1e6_fullwd_balanced_mixed_test.h5', '../trained_models/narrowing/v8/hands_narrowing_small_bottlenecked_dense_1M_withNIH_nonfc_224x224_64bs_145steps_200epochs_adamW_3e4_1e6_50frozen_nodecay_fixed_bs_test.h5'], 4, filter_model_paths = hand_j_filter_model_paths, filter_cutoff = 0.35)"
   ]
  },
  {
   "cell_type": "code",
   "execution_count": 13,
   "metadata": {},
   "outputs": [
    {
     "name": "stdout",
     "output_type": "stream",
     "text": [
      "Model: 3e-4 (25%, Ensemble, New Filter): -- \n",
      "Loss: 0.1269735263256009 (+/- 0.46324654520846126) \n",
      "MAE: 0.13035717268129846 (+/- 0.3316331314210615) \n",
      "RMSE: 0.35633344822736035 \n",
      "Filter0-RMSE: 0.7368427892951471 \n",
      "Filter0-MAE: 0.5717693895629022\n"
     ]
    }
   ],
   "source": [
    "new_hand_j_model_paths = ['../trained_models/narrowing/v8/hands_narrowing_joint_damage_type_complex_gap_224x224_64bs_75epochs_adamW_3e4_1e6_5frozen_nodecay_fixed_bs_test.h5',\n",
    "'../trained_models/narrowing/v8/hands_narrowing_joint_damage_type_complex_gap_224x224_64bs_75epochs_adamW_3e4_1e6_5frozen_nodecay_fixed_bs_gamma1_test.h5',\n",
    "'../trained_models/narrowing/v8/narrowing_joint_damage_type_complex_gap_224x224_64bs_75epochs_adamW_3e4_1e6_5frozen_nodecay_fixed_bs_test.h5']\n",
    "\n",
    "eval_model('3e-4 (25%, Ensemble, New Filter):', tf_hands_data[1], ['../trained_models/narrowing/v7/hands_narrowing_joint_damage_model_complex_rewritten_64bs_145steps_300epochs_adamW_3e4_1e6_fullwd_balanced_mixed_test.h5', '../trained_models/narrowing/v8/hands_narrowing_small_bottlenecked_dense_1M_withNIH_nonfc_224x224_64bs_145steps_200epochs_adamW_3e4_1e6_50frozen_nodecay_fixed_bs_test.h5'], 4, filter_model_paths = new_hand_j_model_paths, filter_cutoff = 0.3)"
   ]
  },
  {
   "cell_type": "code",
   "execution_count": 14,
   "metadata": {},
   "outputs": [
    {
     "name": "stdout",
     "output_type": "stream",
     "text": [
      "Feet Narrowing\n",
      "Model: 3e-4 (25%, Current Model): -- \n",
      "Loss: 0.2671964816926142 (+/- 0.9517533114333534) \n",
      "MAE: 0.1850603175086853 (+/- 0.48264807114107355) \n",
      "RMSE: 0.5169105161366077 \n",
      "Filter0-RMSE: 1.1145134682852007 \n",
      "Filter0-MAE: 0.8407738459984045\n"
     ]
    }
   ],
   "source": [
    "print('Feet Narrowing')\n",
    "\n",
    "feet_j_filter_model_paths = ['../trained_models/narrowing/v7/feet_narrowing_joint_damage_type_model_complex_rewritten_64bs_normsteps_75epochs_adamW_3e4_1e6_mixed_test_calpha.h5', \n",
    "                             '../trained_models/narrowing/v7/feet_narrowing_joint_damage_type_model_complex_rewritten_64bs_normsteps_75epochs_adamW_3e4_1e6_test_gamma1.h5',\n",
    "                             '../trained_models/narrowing/v7/narrowing_joint_damage_type_model_complex_rewritten_64bs_normsteps_75epochs_adamW_3e4_1e6.h5']\n",
    "\n",
    "\n",
    "eval_model('3e-4 (25%, Current Model):', tf_feet_j_data[1], ['../trained_models/narrowing/v7/feet_narrowing_joint_damage_model_complex_rewritten_64bs_125steps_300epochs_adamW_3e4_1e6_fullwd_balanced_mixed_test.h5'], 4, filter_model_paths = feet_j_filter_model_paths, filter_cutoff = 0.35)"
   ]
  },
  {
   "cell_type": "code",
   "execution_count": 15,
   "metadata": {},
   "outputs": [
    {
     "name": "stdout",
     "output_type": "stream",
     "text": [
      "Model: 3e-4 (25%, Small Dense): -- \n",
      "Loss: 0.2836965940387474 (+/- 0.961666535574048) \n",
      "MAE: 0.19784777199392353 (+/- 0.494522854027787) \n",
      "RMSE: 0.5326317621384847 \n",
      "Filter0-RMSE: 1.1367305974366224 \n",
      "Filter0-MAE: 0.8960645077116203\n"
     ]
    }
   ],
   "source": [
    "eval_model('3e-4 (25%, Small Dense):', tf_feet_j_data[1], ['../trained_models/narrowing/v8/feet_narrowing_small_bottlenecked_dense_1M_withNIH_nonfc_224x224_64bs_145steps_200epochs_adamW_3e4_1e6_50frozen_nodecay_fixed_bs_test.h5'], 4, filter_model_paths = feet_j_filter_model_paths, filter_cutoff = 0.35)"
   ]
  },
  {
   "cell_type": "code",
   "execution_count": 16,
   "metadata": {},
   "outputs": [
    {
     "name": "stdout",
     "output_type": "stream",
     "text": [
      "Model: 3e-4 (25%, Ensemble): -- \n",
      "Loss: 0.2604919103845064 (+/- 0.9150191495959892) \n",
      "MAE: 0.18852933780068443 (+/- 0.4742874647014634) \n",
      "RMSE: 0.5103840812412809 \n",
      "Filter0-RMSE: 1.0984529643069059 \n",
      "Filter0-MAE: 0.8528164263171051\n"
     ]
    }
   ],
   "source": [
    "eval_model('3e-4 (25%, Ensemble):', tf_feet_j_data[1], ['../trained_models/narrowing/v7/feet_narrowing_joint_damage_model_complex_rewritten_64bs_125steps_300epochs_adamW_3e4_1e6_fullwd_balanced_mixed_test.h5', '../trained_models/narrowing/v8/feet_narrowing_small_bottlenecked_dense_1M_withNIH_nonfc_224x224_64bs_145steps_200epochs_adamW_3e4_1e6_50frozen_nodecay_fixed_bs_test.h5'], 4, filter_model_paths = feet_j_filter_model_paths, filter_cutoff = 0.35)"
   ]
  },
  {
   "cell_type": "code",
   "execution_count": 14,
   "metadata": {},
   "outputs": [
    {
     "name": "stdout",
     "output_type": "stream",
     "text": [
      "Model: 3e-4 (25%, Ensemble, New Filter): -- \n",
      "Loss: 0.262644676801499 (+/- 0.9101182127740578) \n",
      "MAE: 0.1955749683163978 (+/- 0.4737036083560468) \n",
      "RMSE: 0.5124887089502548 \n",
      "Filter0-RMSE: 1.0727070508918661 \n",
      "Filter0-MAE: 0.8268394644971917\n"
     ]
    }
   ],
   "source": [
    "new_feet_j_model_paths = ['../trained_models/narrowing/v8/feet_narrowing_joint_damage_type_complex_gap_224x224_64bs_75epochs_adamW_3e4_1e6_5frozen_nodecay_fixed_bs_test.h5',\n",
    "'../trained_models/narrowing/v8/feet_narrowing_joint_damage_type_complex_gap_224x224_64bs_75epochs_adamW_3e4_1e6_5frozen_nodecay_fixed_bs_gamma1_test.h5',\n",
    "'../trained_models/narrowing/v8/narrowing_joint_damage_type_complex_gap_224x224_64bs_75epochs_adamW_3e4_1e6_5frozen_nodecay_fixed_bs_test.h5']\n",
    "\n",
    "eval_model('3e-4 (25%, Ensemble, New Filter):', tf_feet_j_data[1], ['../trained_models/narrowing/v7/feet_narrowing_joint_damage_model_complex_rewritten_64bs_125steps_300epochs_adamW_3e4_1e6_fullwd_balanced_mixed_test.h5', '../trained_models/narrowing/v8/feet_narrowing_small_bottlenecked_dense_1M_withNIH_nonfc_224x224_64bs_145steps_200epochs_adamW_3e4_1e6_50frozen_nodecay_fixed_bs_test.h5'], 4, filter_model_paths = new_feet_j_model_paths, filter_cutoff = 0.35)"
   ]
  },
  {
   "cell_type": "code",
   "execution_count": 18,
   "metadata": {},
   "outputs": [
    {
     "name": "stdout",
     "output_type": "stream",
     "text": [
      "Hands Erosion\n",
      "Model: 3e-4 (25%, Current Model): -- \n",
      "Loss: 0.37367892021692084 (+/- 1.8385369268971166) \n",
      "MAE: 0.17831631551732074 (+/- 0.5847069452616825) \n",
      "RMSE: 0.6112928268979776 \n",
      "Filter0-RMSE: 1.9511561666130377 \n",
      "Filter0-MAE: 1.5984274785892636\n"
     ]
    }
   ],
   "source": [
    "print('Hands Erosion')\n",
    "\n",
    "hand_e_filter_model_paths = ['../trained_models/erosion/v7/hands_erosion_joint_damage_type_model_complex_rewritten_64bs_normsteps_75epochs_adamW_3e4_1e6_mixed_test_calpha.h5', \n",
    "                             '../trained_models/erosion/v7/hands_erosion_joint_damage_type_model_complex_rewritten_64bs_normsteps_75epochs_adamW_3e4_1e6_test_gamma1.h5',\n",
    "                             '../trained_models/erosion/v7/narrowing_joint_damage_type_model_complex_rewritten_64bs_normsteps_75epochs_adamW_3e4_1e6.h5']\n",
    "\n",
    "eval_model('3e-4 (25%, Current Model):', tf_hands_e_data[1], ['../trained_models/erosion/v7/hands_erosion_joint_damage_model_complex_rewritten_64bs_105steps_300epochs_adamW_3e4_1e6_fullwd_balanced_mixed_test.h5'], 5, filter_model_paths = hand_e_filter_model_paths, filter_cutoff = 0.3)"
   ]
  },
  {
   "cell_type": "code",
   "execution_count": 19,
   "metadata": {},
   "outputs": [
    {
     "name": "stdout",
     "output_type": "stream",
     "text": [
      "Model: 3e-4 (25%, Small Dense): -- \n",
      "Loss: 0.29702328358205893 (+/- 1.4160343665307393) \n",
      "MAE: 0.162314039681639 (+/- 0.520266697093218) \n",
      "RMSE: 0.5449984253023663 \n",
      "Filter0-RMSE: 1.7398029088390217 \n",
      "Filter0-MAE: 1.4194916679578669\n"
     ]
    }
   ],
   "source": [
    "eval_model('3e-4 (25%, Small Dense):', tf_hands_e_data[1], ['../trained_models/erosion/v8/hands_erosion_small_bottlenecked_dense_1M_withNIH_nonfc_224x224_64bs_145steps_200epochs_adamW_3e4_1e6_50frozen_nodecay_fixed_bs_test.h5'], 5, filter_model_paths = hand_e_filter_model_paths, filter_cutoff = 0.3)"
   ]
  },
  {
   "cell_type": "code",
   "execution_count": 20,
   "metadata": {},
   "outputs": [
    {
     "name": "stdout",
     "output_type": "stream",
     "text": [
      "Model: 3e-4 (25%, Small Dense): -- \n",
      "Loss: 0.32104250265897555 (+/- 1.5299561128883403) \n",
      "MAE: 0.16866837993755446 (+/- 0.5409191069542805) \n",
      "RMSE: 0.5666061265632198 \n",
      "Filter0-RMSE: 1.816842843835084 \n",
      "Filter0-MAE: 1.4904338298669828\n"
     ]
    }
   ],
   "source": [
    "eval_model('3e-4 (25%, Small Dense):', tf_hands_e_data[1], ['../trained_models/erosion/v7/hands_erosion_joint_damage_model_complex_rewritten_64bs_105steps_300epochs_adamW_3e4_1e6_fullwd_balanced_mixed_test.h5', '../trained_models/erosion/v8/hands_erosion_small_bottlenecked_dense_1M_withNIH_nonfc_224x224_64bs_145steps_200epochs_adamW_3e4_1e6_50frozen_nodecay_fixed_bs_test.h5'], 5, filter_model_paths = hand_e_filter_model_paths, filter_cutoff = 0.3)"
   ]
  },
  {
   "cell_type": "code",
   "execution_count": 17,
   "metadata": {},
   "outputs": [
    {
     "name": "stdout",
     "output_type": "stream",
     "text": [
      "Model: 3e-4 (25%, Ensemble, New Filter): -- \n",
      "Loss: 0.32301336658240964 (+/- 1.5310592048322391) \n",
      "MAE: 0.17373939601929633 (+/- 0.5411358321653259) \n",
      "RMSE: 0.5683426489208862 \n",
      "Filter0-RMSE: 1.8100725724992295 \n",
      "Filter0-MAE: 1.47402419646581\n"
     ]
    }
   ],
   "source": [
    "new_hands_e_filter_paths = ['../trained_models/erosion/v8/erosion_joint_damage_type_complex_gap_224x224_64bs_75epochs_adamW_3e4_1e6_5frozen_nodecay_fixed_bs_test.h5',\n",
    "'../trained_models/erosion/v8/hands_erosion_joint_damage_type_complex_gap_224x224_64bs_75epochs_adamW_3e4_1e6_5frozen_nodecay_fixed_bs_gamma1_test.h5',\n",
    "'../trained_models/erosion/v8/hands_erosion_joint_damage_type_complex_gap_224x224_64bs_75epochs_adamW_3e4_1e6_5frozen_nodecay_fixed_bs_test.h5']\n",
    "\n",
    "eval_model('3e-4 (25%, Ensemble, New Filter):', tf_hands_e_data[1], ['../trained_models/erosion/v7/hands_erosion_joint_damage_model_complex_rewritten_64bs_105steps_300epochs_adamW_3e4_1e6_fullwd_balanced_mixed_test.h5', '../trained_models/erosion/v8/hands_erosion_small_bottlenecked_dense_1M_withNIH_nonfc_224x224_64bs_145steps_200epochs_adamW_3e4_1e6_50frozen_nodecay_fixed_bs_test.h5'], 5, filter_model_paths = new_hands_e_filter_paths, filter_cutoff = 0.3)"
   ]
  },
  {
   "cell_type": "code",
   "execution_count": 18,
   "metadata": {},
   "outputs": [
    {
     "name": "stdout",
     "output_type": "stream",
     "text": [
      "Feet Erosion\n",
      "Model: 1e-3 (25%, Current Model): -- \n",
      "Loss: 0.9681167156109959 (+/- 4.9082364597777275) \n",
      "MAE: 0.3490601142138352 (+/- 0.9199313845477934) \n",
      "RMSE: 0.9839292228666633 \n",
      "Filter0-RMSE: 2.2989376785946307 \n",
      "Filter0-MAE: 1.701672994664737\n"
     ]
    }
   ],
   "source": [
    "print('Feet Erosion')\n",
    "\n",
    "feet_e_filter_model_paths = ['../trained_models/erosion/v7/feet_erosion_joint_damage_type_model_complex_rewritten_64bs_normsteps_75epochs_adamW_3e4_1e6_mixed_test_calpha.h5', \n",
    "                             '../trained_models/erosion/v7/feet_erosion_joint_damage_type_model_complex_rewritten_64bs_normsteps_75epochs_adamW_3e4_1e6_test_gamma1.h5',\n",
    "                             '../trained_models/erosion/v7/narrowing_joint_damage_type_model_complex_rewritten_64bs_normsteps_75epochs_adamW_3e4_1e6.h5']\n",
    "\n",
    "eval_model('1e-3 (25%, Current Model):', tf_feet_e_data[1], ['../trained_models/erosion/v7/feet_erosion_joint_damage_model_complex_rewritten_64bs_140steps_mixed_balanced_test_1e3.h5'], 10, filter_model_paths = feet_e_filter_model_paths, filter_cutoff = 0.3)"
   ]
  },
  {
   "cell_type": "code",
   "execution_count": 19,
   "metadata": {},
   "outputs": [
    {
     "name": "stdout",
     "output_type": "stream",
     "text": [
      "Model: 1e-3 (25%, Small Dense): -- \n",
      "Loss: 0.8525335917904582 (+/- 4.0712127414041515) \n",
      "MAE: 0.34331820564064786 (+/- 0.8571267126079689) \n",
      "RMSE: 0.9233274564261902 \n",
      "Filter0-RMSE: 2.0948709818279108 \n",
      "Filter0-MAE: 1.5222559352586795\n"
     ]
    }
   ],
   "source": [
    "eval_model('1e-3 (25%, Small Dense):', tf_feet_e_data[1], ['../trained_models/erosion/v8/feet_erosion_small_bottlenecked_dense_1M_withNIH_nonfc_224x224_64bs_145steps_200epochs_adamW_3e4_1e6_50frozen_nodecay_fixed_bs_test.h5'], 10, filter_model_paths = feet_e_filter_model_paths, filter_cutoff = 0.3)"
   ]
  },
  {
   "cell_type": "code",
   "execution_count": 20,
   "metadata": {},
   "outputs": [
    {
     "name": "stdout",
     "output_type": "stream",
     "text": [
      "Model: 1e-3 (25%, Ensemble): -- \n",
      "Loss: 0.8377317358112133 (+/- 4.057111282238705) \n",
      "MAE: 0.3378699711445487 (+/- 0.8506324813983975) \n",
      "RMSE: 0.9152768629279412 \n",
      "Filter0-RMSE: 2.1197938313666804 \n",
      "Filter0-MAE: 1.5586488506236633\n"
     ]
    }
   ],
   "source": [
    "eval_model('1e-3 (25%, Ensemble):', tf_feet_e_data[1], ['../trained_models/erosion/v7/feet_erosion_joint_damage_model_complex_rewritten_64bs_140steps_mixed_balanced_test_1e3.h5', '../trained_models/erosion/v8/feet_erosion_small_bottlenecked_dense_1M_withNIH_nonfc_224x224_64bs_145steps_200epochs_adamW_3e4_1e6_50frozen_nodecay_fixed_bs_test.h5'], 10, filter_model_paths = feet_e_filter_model_paths, filter_cutoff = 0.3)"
   ]
  },
  {
   "cell_type": "code",
   "execution_count": 21,
   "metadata": {},
   "outputs": [
    {
     "name": "stdout",
     "output_type": "stream",
     "text": [
      "Model: 1e-3 (25%, Ensemble, New Filter): -- \n",
      "Loss: 0.8956644489549314 (+/- 4.479446037478796) \n",
      "MAE: 0.3497553825542167 (+/- 0.8793950314445066) \n",
      "RMSE: 0.9463955034524051 \n",
      "Filter0-RMSE: 2.1999588040266627 \n",
      "Filter0-MAE: 1.585042436595087\n"
     ]
    }
   ],
   "source": [
    "new_feet_e_filter_paths = ['../trained_models/erosion/v8/erosion_joint_damage_type_complex_gap_224x224_64bs_75epochs_adamW_3e4_1e6_5frozen_nodecay_fixed_bs_test.h5',\n",
    "'../trained_models/erosion/v8/feet_erosion_joint_damage_type_complex_gap_224x224_64bs_75epochs_adamW_3e4_1e6_5frozen_nodecay_fixed_bs_gamma1_test.h5',\n",
    "'../trained_models/erosion/v8/feet_erosion_joint_damage_type_complex_gap_224x224_64bs_75epochs_adamW_3e4_1e6_5frozen_nodecay_fixed_bs_test.h5']\n",
    "\n",
    "eval_model('1e-3 (25%, Ensemble, New Filter):', tf_feet_e_data[1], ['../trained_models/erosion/v7/feet_erosion_joint_damage_model_complex_rewritten_64bs_140steps_mixed_balanced_test_1e3.h5', '../trained_models/erosion/v8/feet_erosion_small_bottlenecked_dense_1M_withNIH_nonfc_224x224_64bs_145steps_200epochs_adamW_3e4_1e6_50frozen_nodecay_fixed_bs_test.h5'], 10, filter_model_paths = new_feet_e_filter_paths, filter_cutoff = 0.35)"
   ]
  },
  {
   "cell_type": "code",
   "execution_count": null,
   "metadata": {},
   "outputs": [],
   "source": []
  }
 ],
 "metadata": {
  "kernelspec": {
   "display_name": "Python 3",
   "language": "python",
   "name": "python3"
  },
  "language_info": {
   "codemirror_mode": {
    "name": "ipython",
    "version": 3
   },
   "file_extension": ".py",
   "mimetype": "text/x-python",
   "name": "python",
   "nbconvert_exporter": "python",
   "pygments_lexer": "ipython3",
   "version": "3.7.3"
  }
 },
 "nbformat": 4,
 "nbformat_minor": 4
}
