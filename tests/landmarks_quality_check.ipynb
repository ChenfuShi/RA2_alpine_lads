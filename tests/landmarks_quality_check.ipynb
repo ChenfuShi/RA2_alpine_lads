{
 "cells": [
  {
   "cell_type": "code",
   "execution_count": 1,
   "metadata": {},
   "outputs": [],
   "source": [
    "import os\n",
    "os.chdir('/mnt/jw01-aruk-home01/projects/ra_challenge/RA_challenge/RA2_alpine_lads')"
   ]
  },
  {
   "cell_type": "code",
   "execution_count": 3,
   "metadata": {},
   "outputs": [],
   "source": [
    "import pandas as pd\n",
    "import numpy as np\n",
    "import matplotlib.pyplot as plt\n",
    "from tensorflow import keras \n",
    "import os\n",
    "import tensorflow as tf\n",
    "import tensorflow_addons as tfa\n",
    "from utils.config import Config\n",
    "import dataset.train_dataset as dtd\n",
    "import PIL\n",
    "import PIL.ImageOps\n",
    "from tensorflow.keras.utils import plot_model\n",
    "Configuration = Config()\n",
    "from tensorflow.keras.models import load_model\n",
    "from model import NASnet_multioutput\n",
    "import itertools\n",
    "import seaborn as sns\n",
    "\n",
    "AUTOTUNE = tf.data.experimental.AUTOTUNE\n",
    "\n",
    "from dataset import dataset_ops\n",
    "import dataset.image_ops as ops\n",
    "from dataset import landmarks_pretrain_dataset as land_pre\n",
    "from model import landmarks_model"
   ]
  },
  {
   "cell_type": "code",
   "execution_count": 4,
   "metadata": {},
   "outputs": [],
   "source": [
    "# reload the library\n",
    "import importlib\n",
    "import types\n",
    "import os\n",
    "\n",
    "def reload_package(package):\n",
    "    assert(hasattr(package, \"__package__\"))\n",
    "    fn = package.__file__\n",
    "    fn_dir = os.path.dirname(fn) + os.sep\n",
    "    module_visit = {fn}\n",
    "    del fn\n",
    "\n",
    "    def reload_recursive_ex(module):\n",
    "        importlib.reload(module)\n",
    "\n",
    "        for module_child in vars(module).values():\n",
    "            if isinstance(module_child, types.ModuleType):\n",
    "                fn_child = getattr(module_child, \"__file__\", None)\n",
    "                if (fn_child is not None) and fn_child.startswith(fn_dir):\n",
    "                    if fn_child not in module_visit:\n",
    "                        # print(\"reloading:\", fn_child, \"from\", module)\n",
    "                        module_visit.add(fn_child)\n",
    "                        reload_recursive_ex(module_child)\n",
    "\n",
    "    return reload_recursive_ex(package)\n",
    "\n"
   ]
  },
  {
   "cell_type": "code",
   "execution_count": null,
   "metadata": {},
   "outputs": [],
   "source": []
  },
  {
   "cell_type": "code",
   "execution_count": null,
   "metadata": {},
   "outputs": [],
   "source": [
    "dataset = land_pre.landmark_pretrain_faces_dataset(Configuration)\n",
    "faces, faces_val = dataset.create_train_dataset()"
   ]
  },
  {
   "cell_type": "code",
   "execution_count": null,
   "metadata": {},
   "outputs": [],
   "source": [
    "model = landmarks_model.landmarks_model_pretrain(Configuration)"
   ]
  },
  {
   "cell_type": "code",
   "execution_count": null,
   "metadata": {},
   "outputs": [],
   "source": [
    "model.load_weights(\"weights/FACE_LANDMARK_medium_model_epoch_30\")"
   ]
  },
  {
   "cell_type": "code",
   "execution_count": null,
   "metadata": {},
   "outputs": [],
   "source": [
    "for a,b in faces_val.skip(50).take(1):\n",
    "    h = model.predict(a)\n",
    "    plt.figure(figsize=(20,20))\n",
    "    for n in range(25):\n",
    "        ax = plt.subplot(5,5,n+1)\n",
    "        plt.imshow(np.array(a[n])[:, :,0],cmap=\"gray\")\n",
    "        plt.scatter(np.array(b[n])[[0,2,4,6,8]],np.array(b[n])[[1,3,5,7,9]])\n",
    "        plt.scatter(np.array(h[n])[[0,2,4,6,8]],np.array(h[n])[[1,3,5,7,9]])\n",
    "        plt.axis('off')"
   ]
  },
  {
   "cell_type": "code",
   "execution_count": null,
   "metadata": {},
   "outputs": [],
   "source": []
  },
  {
   "cell_type": "markdown",
   "metadata": {},
   "source": [
    "## joints"
   ]
  },
  {
   "cell_type": "code",
   "execution_count": null,
   "metadata": {},
   "outputs": [],
   "source": [
    "joints_model = landmarks_model.landmarks_model_feet(test_config,\"weights/FACE_LANDMARK_medium_model_epoch_30\")"
   ]
  },
  {
   "cell_type": "code",
   "execution_count": null,
   "metadata": {},
   "outputs": [],
   "source": [
    "from dataset.landmarks_dataset import landmarks_dataset as ld\n",
    "\n",
    "landmark_dataset = ld(test_config).create_landmarks_dataset()"
   ]
  },
  {
   "cell_type": "code",
   "execution_count": null,
   "metadata": {},
   "outputs": [],
   "source": [
    "for a,b in landmark_dataset.take(1):\n",
    "    h = joints_model.predict(a)\n",
    "    plt.figure(figsize=(20,20))\n",
    "    for n in range(25):\n",
    "        ax = plt.subplot(5,5,n+1)\n",
    "        plt.imshow(np.array(a[n])[:, :,0],cmap=\"gray\")\n",
    "        plt.scatter(np.array(b[n])[[0,2,4,6,8,10]],np.array(b[n])[[1,3,5,7,9,11]])\n",
    "        plt.scatter(np.array(h[n])[[0,2,4,6,8,10]],np.array(h[n])[[1,3,5,7,9,11]])\n",
    "        plt.axis('off')"
   ]
  },
  {
   "cell_type": "code",
   "execution_count": null,
   "metadata": {},
   "outputs": [],
   "source": [
    "from PIL import Image, ImageOps\n",
    "images = [\"UAB651-LF.jpg\",\n",
    "\"UAB653-LF.jpg\",\n",
    "\"UAB654-LF.jpg\",\n",
    "\"UAB659-LF.jpg\",\n",
    "\"UAB661-LF.jpg\",\n",
    "\"UAB665-LF.jpg\",\n",
    "\"UAB666-LF.jpg\",\n",
    "\"UAB667-LF.jpg\",\n",
    "\"UAB669-LF.jpg\",\n",
    "\"UAB671-LF.jpg\",\n",
    "\"UAB672-LF.jpg\",\n",
    "\"UAB675-LF.jpg\",\n",
    "\"UAB678-LF.jpg\",\n",
    "\"UAB679-LF.jpg\",\n",
    "\"UAB680-LF.jpg\",\n",
    "\"UAB683-LF.jpg\",\n",
    "\"UAB687-LF.jpg\",\n",
    "\"UAB688-LF.jpg\",\n",
    "\"UAB690-LF.jpg\",\n",
    "\"UAB692-LF.jpg\",\n",
    "\"UAB694-LF.jpg\",\n",
    "\"UAB697-LF.jpg\",\n",
    "\"UAB698-LF.jpg\",\n",
    "\"UAB700-LF.jpg\",\n",
    "\"UAB701-LF.jpg\",\n",
    "\"UAB702-LF.jpg\",\n",
    "\"UAB703-LF.jpg\",\n",
    "\"UAB704-LF.jpg\",\n",
    "\"UAB706-LF.jpg\",\n",
    "\"UAB707-LF.jpg\",\n",
    "\"UAB708-LF.jpg\",\n",
    "\"UAB711-LF.jpg\",\n",
    "\"UAB716-LF.jpg\",\n",
    "\"UAB717-LF.jpg\",\n",
    "\"UAB719-LF.jpg\",\n",
    "\"UAB720-LF.jpg\",\n",
    "\"UAB722-LF.jpg\",\n",
    "]\n",
    "desired_size = 512\n",
    "for i in images:\n",
    "    im = Image.open(\"/mnt/iusers01/jw01/mdefscs4/ra_challenge/RA_challenge/training_dataset/\" + i).convert('L')\n",
    "    old_size = im.size  # old_size[0] is in (width, height) format\n",
    "\n",
    "    ratio = float(desired_size)/max(old_size)\n",
    "    new_size = tuple([int(x*ratio) for x in old_size])\n",
    "    im = im.resize(new_size, Image.ANTIALIAS)\n",
    "    # create a new image and paste the resized on it\n",
    "\n",
    "    new_im = Image.new(\"L\", (desired_size, desired_size))\n",
    "    new_im.paste(im, ((desired_size-new_size[0])//2,\n",
    "                        (desired_size-new_size[1])//2))\n",
    "\n",
    "    im = new_im\n",
    "    h = joints_model.predict(np.array(im).reshape((1,512,512,1))/255.0)\n",
    "    plt.figure(figsize=(5,5))\n",
    "    plt.imshow(np.array(im).reshape((512,512,1))[:, :,0],cmap=\"gray\")\n",
    "    plt.scatter(np.array(h[0])[[0,2,4,6,8,10]],np.array(h[0])[[1,3,5,7,9,11]])"
   ]
  },
  {
   "cell_type": "code",
   "execution_count": null,
   "metadata": {},
   "outputs": [],
   "source": []
  },
  {
   "cell_type": "code",
   "execution_count": null,
   "metadata": {},
   "outputs": [],
   "source": []
  },
  {
   "cell_type": "code",
   "execution_count": null,
   "metadata": {},
   "outputs": [],
   "source": []
  }
 ],
 "metadata": {
  "kernelspec": {
   "display_name": "Python 3",
   "language": "python",
   "name": "python3"
  },
  "language_info": {
   "codemirror_mode": {
    "name": "ipython",
    "version": 3
   },
   "file_extension": ".py",
   "mimetype": "text/x-python",
   "name": "python",
   "nbconvert_exporter": "python",
   "pygments_lexer": "ipython3",
   "version": "3.7.3"
  }
 },
 "nbformat": 4,
 "nbformat_minor": 4
}
