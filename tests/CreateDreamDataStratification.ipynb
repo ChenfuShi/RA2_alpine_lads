{
 "cells": [
  {
   "cell_type": "code",
   "execution_count": 14,
   "metadata": {},
   "outputs": [],
   "source": [
    "import os\n",
    "\n",
    "os.chdir('/mnt/jw01-aruk-home01/projects/ra_challenge/RA_challenge/michael_dev/RA2_alpine_lads/ra_joint_predictions')"
   ]
  },
  {
   "cell_type": "code",
   "execution_count": 15,
   "metadata": {},
   "outputs": [],
   "source": [
    "from utils.config import Config\n",
    "\n",
    "config = Config()"
   ]
  },
  {
   "cell_type": "code",
   "execution_count": 16,
   "metadata": {},
   "outputs": [],
   "source": [
    "train_patient_id = ['UAB648', 'UAB628', 'UAB271', 'UAB128', 'UAB562', 'UAB111', 'UAB099', 'UAB236',\n",
    " 'UAB068', 'UAB592', 'UAB101', 'UAB492', 'UAB176', 'UAB310', 'UAB595', 'UAB531',\n",
    " 'UAB246', 'UAB352', 'UAB395', 'UAB067', 'UAB051', 'UAB106', 'UAB482', 'UAB040',\n",
    " 'UAB078', 'UAB115', 'UAB617', 'UAB297', 'UAB331', 'UAB524', 'UAB486', 'UAB719',\n",
    " 'UAB392', 'UAB079', 'UAB189', 'UAB270', 'UAB342', 'UAB039', 'UAB024', 'UAB703',\n",
    " 'UAB070', 'UAB086', 'UAB563', 'UAB278', 'UAB536', 'UAB179', 'UAB708', 'UAB567',\n",
    " 'UAB009', 'UAB216', 'UAB109', 'UAB477', 'UAB228', 'UAB665', 'UAB333', 'UAB139',\n",
    " 'UAB500', 'UAB666', 'UAB233', 'UAB519', 'UAB022', 'UAB035', 'UAB061', 'UAB323',\n",
    " 'UAB497', 'UAB630', 'UAB475', 'UAB093', 'UAB007', 'UAB223', 'UAB625', 'UAB037',\n",
    " 'UAB427', 'UAB219', 'UAB084', 'UAB711', 'UAB503', 'UAB138', 'UAB268', 'UAB208',\n",
    " 'UAB057', 'UAB098', 'UAB451', 'UAB539', 'UAB399', 'UAB126', 'UAB317', 'UAB052',\n",
    " 'UAB661', 'UAB692', 'UAB107', 'UAB191', 'UAB113', 'UAB087', 'UAB461', 'UAB443',\n",
    " 'UAB487', 'UAB105', 'UAB124', 'UAB182', 'UAB150', 'UAB159', 'UAB224', 'UAB481',\n",
    " 'UAB413', 'UAB464', 'UAB135', 'UAB272', 'UAB580', 'UAB102', 'UAB489', 'UAB071',\n",
    " 'UAB168', 'UAB005', 'UAB013', 'UAB672', 'UAB059', 'UAB508', 'UAB104', 'UAB227',\n",
    " 'UAB170', 'UAB337', 'UAB679', 'UAB143', 'UAB238', 'UAB110', 'UAB502', 'UAB234',\n",
    " 'UAB622', 'UAB064', 'UAB642', 'UAB609', 'UAB537', 'UAB683', 'UAB586', 'UAB417',\n",
    " 'UAB491', 'UAB122', 'UAB501', 'UAB195', 'UAB564', 'UAB367', 'UAB571', 'UAB690',\n",
    " 'UAB535', 'UAB100', 'UAB141', 'UAB388', 'UAB530', 'UAB260', 'UAB543', 'UAB085',\n",
    " 'UAB205', 'UAB178', 'UAB551', 'UAB066', 'UAB602', 'UAB651', 'UAB552', 'UAB021',\n",
    " 'UAB136', 'UAB458', 'UAB653', 'UAB160', 'UAB560', 'UAB161', 'UAB436', 'UAB720',\n",
    " 'UAB028', 'UAB200', 'UAB549', 'UAB003', 'UAB080', 'UAB697', 'UAB229', 'UAB372',\n",
    " 'UAB045', 'UAB144', 'UAB462', 'UAB688', 'UAB585', 'UAB006', 'UAB181', 'UAB119',\n",
    " 'UAB198', 'UAB440', 'UAB058', 'UAB671', 'UAB210', 'UAB532', 'UAB453', 'UAB062',\n",
    " 'UAB190', 'UAB225', 'UAB717', 'UAB407', 'UAB204', 'UAB722', 'UAB614', 'UAB212',\n",
    " 'UAB243', 'UAB167', 'UAB364', 'UAB550', 'UAB509', 'UAB183', 'UAB033', 'UAB411',\n",
    " 'UAB496', 'UAB348', 'UAB374', 'UAB357', 'UAB023', 'UAB131', 'UAB495', 'UAB133',\n",
    " 'UAB582', 'UAB307', 'UAB288', 'UAB538', 'UAB449', 'UAB573', 'UAB192', 'UAB251',\n",
    " 'UAB267', 'UAB277', 'UAB334', 'UAB360', 'UAB597', 'UAB001', 'UAB103', 'UAB184',\n",
    " 'UAB702', 'UAB165', 'UAB239', 'UAB127', 'UAB140', 'UAB396', 'UAB649', 'UAB441',\n",
    " 'UAB055', 'UAB335', 'UAB171', 'UAB252', 'UAB347', 'UAB522', 'UAB576', 'UAB383',\n",
    " 'UAB694', 'UAB645', 'UAB393', 'UAB166', 'UAB069', 'UAB199', 'UAB545', 'UAB244',\n",
    " 'UAB704', 'UAB687', 'UAB008', 'UAB081', 'UAB042', 'UAB054', 'UAB581', 'UAB428',\n",
    " 'UAB607', 'UAB125', 'UAB031', 'UAB669', 'UAB698', 'UAB659', 'UAB329', 'UAB406',\n",
    " 'UAB012', 'UAB185', 'UAB634', 'UAB494']\n",
    "\n",
    "test_patient_id = ['UAB557', 'UAB162', 'UAB574', 'UAB394', 'UAB506', 'UAB521', 'UAB302', 'UAB488',\n",
    " 'UAB050', 'UAB232', 'UAB654', 'UAB326', 'UAB123', 'UAB601', 'UAB504', 'UAB420',\n",
    " 'UAB129', 'UAB678', 'UAB366', 'UAB196', 'UAB142', 'UAB639', 'UAB060', 'UAB626',\n",
    " 'UAB264', 'UAB301', 'UAB343', 'UAB114', 'UAB056', 'UAB217', 'UAB090', 'UAB063',\n",
    " 'UAB707', 'UAB286', 'UAB700', 'UAB177', 'UAB231', 'UAB569', 'UAB197', 'UAB620',\n",
    " 'UAB130', 'UAB490', 'UAB036', 'UAB300', 'UAB088', 'UAB566', 'UAB517', 'UAB680',\n",
    " 'UAB207', 'UAB318', 'UAB403', 'UAB405', 'UAB163', 'UAB596', 'UAB049', 'UAB319',\n",
    " 'UAB345', 'UAB716', 'UAB145', 'UAB499', 'UAB572', 'UAB096', 'UAB363', 'UAB463',\n",
    " 'UAB280', 'UAB706', 'UAB041', 'UAB640', 'UAB046', 'UAB577', 'UAB379', 'UAB151',\n",
    " 'UAB032', 'UAB002', 'UAB030', 'UAB018', 'UAB172', 'UAB065', 'UAB511', 'UAB675',\n",
    " 'UAB667', 'UAB180', 'UAB108', 'UAB075', 'UAB637', 'UAB452', 'UAB398', 'UAB384',\n",
    " 'UAB389', 'UAB472', 'UAB422', 'UAB701']"
   ]
  },
  {
   "cell_type": "code",
   "execution_count": 17,
   "metadata": {},
   "outputs": [
    {
     "name": "stdout",
     "output_type": "stream",
     "text": [
      "276\n"
     ]
    }
   ],
   "source": [
    "print(len(train_patient_id))"
   ]
  },
  {
   "cell_type": "code",
   "execution_count": 18,
   "metadata": {},
   "outputs": [
    {
     "name": "stdout",
     "output_type": "stream",
     "text": [
      "[]\n"
     ]
    }
   ],
   "source": [
    "import numpy as np\n",
    "\n",
    "print(np.intersect1d(train_patient_id, test_patient_id))"
   ]
  },
  {
   "cell_type": "code",
   "execution_count": 19,
   "metadata": {},
   "outputs": [],
   "source": [
    "import pandas as pd\n",
    "\n",
    "hands_dataframe = pd.read_csv('./data/predictions/hand_joint_data_v2.csv')\n",
    "feet_dataframe = pd.read_csv('./data/predictions/feet_joint_data_v2.csv')\n",
    "\n",
    "for idx, row in hands_dataframe.iterrows():\n",
    "    lt_0_counts = np.count_nonzero(row.iloc[4:].to_numpy() < 0)\n",
    "    \n",
    "    if lt_0_counts > 0:\n",
    "        print(row)\n",
    "        \n",
    "for idx, row in feet_dataframe.iterrows():\n",
    "    if row['image_name'].startswith('UAB'):\n",
    "        lt_0_counts = np.count_nonzero(row.iloc[4:].to_numpy() < 0)\n",
    "\n",
    "        if lt_0_counts > 0:\n",
    "            print(row)"
   ]
  },
  {
   "cell_type": "code",
   "execution_count": 21,
   "metadata": {},
   "outputs": [],
   "source": [
    "hand_idx = [image_name.split('-')[0] in test_patient_id for image_name in hands_dataframe['image_name']]\n",
    "feet_idx = [image_name.split('-')[0] in test_patient_id for image_name in feet_dataframe['image_name']]"
   ]
  },
  {
   "cell_type": "code",
   "execution_count": 22,
   "metadata": {},
   "outputs": [],
   "source": [
    "hands_dataframe.iloc[np.where(np.logical_not(hand_idx))[0]].to_csv('./data/predictions/hand_joint_data_train_v2.csv')\n",
    "feet_dataframe.iloc[np.where(np.logical_not(feet_idx))[0]].to_csv('./data/predictions/feet_joint_data_train_v2.csv')\n",
    "\n",
    "hands_dataframe.iloc[np.where(hand_idx)[0]].to_csv('./data/predictions/hand_joint_data_test_v2.csv')\n",
    "feet_dataframe.iloc[np.where(feet_idx)[0]].to_csv('./data/predictions/feet_joint_data_test_v2.csv')"
   ]
  },
  {
   "cell_type": "code",
   "execution_count": null,
   "metadata": {},
   "outputs": [],
   "source": []
  },
  {
   "cell_type": "code",
   "execution_count": 23,
   "metadata": {},
   "outputs": [
    {
     "name": "stdout",
     "output_type": "stream",
     "text": [
      "(552, 31)\n",
      "(184, 31)\n",
      "(552, 31)\n",
      "(184, 31)\n",
      "552\n",
      "184\n"
     ]
    }
   ],
   "source": [
    "hand_data = pd.read_csv('./data/predictions/hand_joint_data_train_v2.csv')\n",
    "hand_data_val = pd.read_csv('./data/predictions/hand_joint_data_test_v2.csv')\n",
    "\n",
    "v1_hand_data = pd.read_csv('./data/predictions/hand_joint_data_train.csv')\n",
    "v1_hand_data_val = pd.read_csv('./data/predictions/hand_joint_data_test.csv')\n",
    "\n",
    "print(hand_data.shape)\n",
    "print(hand_data_val.shape)\n",
    "print(v1_hand_data.shape)\n",
    "print(v1_hand_data_val.shape)\n",
    "\n",
    "print(np.count_nonzero(hand_data['image_name'] == v1_hand_data['image_name']))\n",
    "print(np.count_nonzero(hand_data_val['image_name'] == v1_hand_data_val['image_name']))"
   ]
  },
  {
   "cell_type": "code",
   "execution_count": null,
   "metadata": {},
   "outputs": [],
   "source": []
  },
  {
   "cell_type": "code",
   "execution_count": null,
   "metadata": {},
   "outputs": [],
   "source": []
  }
 ],
 "metadata": {
  "kernelspec": {
   "display_name": "Python 3",
   "language": "python",
   "name": "python3"
  },
  "language_info": {
   "codemirror_mode": {
    "name": "ipython",
    "version": 3
   },
   "file_extension": ".py",
   "mimetype": "text/x-python",
   "name": "python",
   "nbconvert_exporter": "python",
   "pygments_lexer": "ipython3",
   "version": "3.7.3"
  }
 },
 "nbformat": 4,
 "nbformat_minor": 4
}
