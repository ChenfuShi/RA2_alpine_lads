{
 "cells": [
  {
   "cell_type": "code",
   "execution_count": 33,
   "metadata": {},
   "outputs": [],
   "source": [
    "import pandas as pd\n",
    "import numpy as np\n",
    "from utils.config import Config\n",
    "test_config = Config()"
   ]
  },
  {
   "cell_type": "code",
   "execution_count": 2,
   "metadata": {},
   "outputs": [],
   "source": [
    "training_csv = \"data/train/training.csv\""
   ]
  },
  {
   "cell_type": "code",
   "execution_count": 8,
   "metadata": {},
   "outputs": [],
   "source": [
    "info = pd.read_csv(training_csv)\n",
    "features = info.columns"
   ]
  },
  {
   "cell_type": "code",
   "execution_count": 14,
   "metadata": {},
   "outputs": [],
   "source": [
    "erosions = [s for s in features if \"E\" in s]\n",
    "narrowings = [s for s in features if \"J\" in s]"
   ]
  },
  {
   "cell_type": "code",
   "execution_count": 17,
   "metadata": {},
   "outputs": [
    {
     "data": {
      "text/plain": [
       "43"
      ]
     },
     "execution_count": 17,
     "metadata": {},
     "output_type": "execute_result"
    }
   ],
   "source": [
    "info.loc[0,narrowings]"
   ]
  },
  {
   "cell_type": "code",
   "execution_count": 26,
   "metadata": {},
   "outputs": [],
   "source": [
    "parts = [\"LH\",\"RH\",\"LF\",\"RF\"]\n",
    "dataframes = {}\n",
    "for part in parts:\n",
    "    dataframes[part] = info.loc[:,[\"Patient_ID\"]+[s for s in features if part in s]].copy()\n",
    "    dataframes[part][\"total_fig_score\"] = dataframes[part].loc[:,[s for s in features if part in s]].sum(axis=1)"
   ]
  },
  {
   "cell_type": "code",
   "execution_count": 27,
   "metadata": {},
   "outputs": [
    {
     "name": "stdout",
     "output_type": "stream",
     "text": [
      "Index(['Patient_ID', 'LH_mcp_E__ip', 'LH_pip_E__2', 'LH_pip_E__3',\n",
      "       'LH_pip_E__4', 'LH_pip_E__5', 'LH_mcp_E__1', 'LH_mcp_E__2',\n",
      "       'LH_mcp_E__3', 'LH_mcp_E__4', 'LH_mcp_E__5', 'LH_wrist_E__mc1',\n",
      "       'LH_wrist_E__mul', 'LH_wrist_E__nav', 'LH_wrist_E__lunate',\n",
      "       'LH_wrist_E__radius', 'LH_wrist_E__ulna', 'LH_pip_J__2', 'LH_pip_J__3',\n",
      "       'LH_pip_J__4', 'LH_pip_J__5', 'LH_mcp_J__1', 'LH_mcp_J__2',\n",
      "       'LH_mcp_J__3', 'LH_mcp_J__4', 'LH_mcp_J__5', 'LH_wrist_J__cmc3',\n",
      "       'LH_wrist_J__cmc4', 'LH_wrist_J__cmc5', 'LH_wrist_J__mna',\n",
      "       'LH_wrist_J__capnlun', 'LH_wrist_J__radcar', 'total_fig_score'],\n",
      "      dtype='object')\n",
      "Index(['Patient_ID', 'RH_mcp_E__ip', 'RH_pip_E__2', 'RH_pip_E__3',\n",
      "       'RH_pip_E__4', 'RH_pip_E__5', 'RH_mcp_E__1', 'RH_mcp_E__2',\n",
      "       'RH_mcp_E__3', 'RH_mcp_E__4', 'RH_mcp_E__5', 'RH_wrist_E__mc1',\n",
      "       'RH_wrist_E__mul', 'RH_wrist_E__nav', 'RH_wrist_E__lunate',\n",
      "       'RH_wrist_E__radius', 'RH_wrist_E__ulna', 'RH_pip_J__2', 'RH_pip_J__3',\n",
      "       'RH_pip_J__4', 'RH_pip_J__5', 'RH_mcp_J__1', 'RH_mcp_J__2',\n",
      "       'RH_mcp_J__3', 'RH_mcp_J__4', 'RH_mcp_J__5', 'RH_wrist_J__cmc3',\n",
      "       'RH_wrist_J__cmc4', 'RH_wrist_J__cmc5', 'RH_wrist_J__mna',\n",
      "       'RH_wrist_J__capnlun', 'RH_wrist_J__radcar', 'total_fig_score'],\n",
      "      dtype='object')\n",
      "Index(['Patient_ID', 'LF_mtp_E__ip', 'LF_mtp_E__1', 'LF_mtp_E__2',\n",
      "       'LF_mtp_E__3', 'LF_mtp_E__4', 'LF_mtp_E__5', 'LF_mtp_J__ip',\n",
      "       'LF_mtp_J__1', 'LF_mtp_J__2', 'LF_mtp_J__3', 'LF_mtp_J__4',\n",
      "       'LF_mtp_J__5', 'total_fig_score'],\n",
      "      dtype='object')\n",
      "Index(['Patient_ID', 'RF_mtp_E__ip', 'RF_mtp_E__1', 'RF_mtp_E__2',\n",
      "       'RF_mtp_E__3', 'RF_mtp_E__4', 'RF_mtp_E__5', 'RF_mtp_J__ip',\n",
      "       'RF_mtp_J__1', 'RF_mtp_J__2', 'RF_mtp_J__3', 'RF_mtp_J__4',\n",
      "       'RF_mtp_J__5', 'total_fig_score'],\n",
      "      dtype='object')\n"
     ]
    }
   ],
   "source": [
    "for part in parts:\n",
    "    print(dataframes[part].columns)"
   ]
  },
  {
   "cell_type": "code",
   "execution_count": 30,
   "metadata": {},
   "outputs": [],
   "source": [
    "import tensorflow as tf\n",
    "from PIL import Image\n",
    "import numpy as np\n",
    "import matplotlib.pyplot as plt\n",
    "import os\n",
    "from tensorflow import keras "
   ]
  },
  {
   "cell_type": "code",
   "execution_count": 31,
   "metadata": {},
   "outputs": [],
   "source": [
    "image_generator = tf.keras.preprocessing.image.ImageDataGenerator(rescale=1./255)"
   ]
  },
  {
   "cell_type": "code",
   "execution_count": 59,
   "metadata": {},
   "outputs": [],
   "source": [
    "image_path = Config.train_location + \"/UAB070-LH.jpg\"\n",
    "d = Image.open(str(image_path))\n"
   ]
  },
  {
   "cell_type": "code",
   "execution_count": 62,
   "metadata": {},
   "outputs": [
    {
     "data": {
      "text/plain": [
       "(1670, 984)"
      ]
     },
     "execution_count": 62,
     "metadata": {},
     "output_type": "execute_result"
    }
   ],
   "source": [
    "np.asarray(d).shape\n"
   ]
  },
  {
   "cell_type": "code",
   "execution_count": 56,
   "metadata": {},
   "outputs": [
    {
     "name": "stdout",
     "output_type": "stream",
     "text": [
      "UAB001 (1609, 1253)\n",
      "UAB002 (1859, 1407)\n",
      "UAB003 (1729, 1147)\n",
      "UAB005 (2163, 1591)\n",
      "UAB006 (1836, 1553)\n",
      "UAB007 (2097, 1515)\n",
      "UAB008 (2007, 1475)\n",
      "UAB009 (1575, 1129)\n",
      "UAB012 (1599, 1414)\n",
      "UAB013 (2083, 1617)\n",
      "UAB018 (2091, 1546)\n",
      "UAB021 (1838, 1723)\n",
      "UAB022 (479, 364)\n",
      "UAB023 (1549, 1298)\n",
      "UAB024 (2106, 1750)\n",
      "UAB028 (1039, 756)\n",
      "UAB030 (1553, 1285)\n",
      "UAB031 (1515, 1083)\n",
      "UAB032 (1654, 1270)\n",
      "UAB033 (1619, 1133)\n",
      "UAB035 (1730, 1545)\n",
      "UAB036 (1446, 1071)\n",
      "UAB037 (1663, 1202)\n",
      "UAB039 (1757, 1259)\n",
      "UAB040 (1570, 1523)\n",
      "UAB041 (1580, 1314)\n",
      "UAB042 (1579, 1255)\n",
      "UAB045 (1809, 1442)\n",
      "UAB046 (1643, 1271)\n",
      "UAB049 (1638, 1198)\n",
      "UAB050 (1638, 1512)\n",
      "UAB051 (1442, 1164)\n",
      "UAB052 (565, 434)\n",
      "UAB054 (472, 342)\n",
      "UAB055 (2149, 1458)\n",
      "UAB056 (2510, 2000)\n",
      "UAB057 (2225, 1588)\n",
      "UAB058 (2510, 2000)\n",
      "UAB059 (2325, 1511)\n",
      "UAB060 (1380, 795)\n",
      "UAB061 (2038, 1454)\n",
      "UAB062 (1610, 1106)\n",
      "UAB063 (1715, 1259)\n",
      "UAB064 (1134, 705)\n",
      "UAB065 (1605, 1174)\n",
      "UAB066 (2054, 1544)\n",
      "UAB067 (1201, 967)\n",
      "UAB068 (1850, 1621)\n",
      "UAB069 (1221, 863)\n"
     ]
    },
    {
     "ename": "IndexError",
     "evalue": "too many indices for array",
     "output_type": "error",
     "traceback": [
      "\u001b[0;31m---------------------------------------------------------------------------\u001b[0m",
      "\u001b[0;31mIndexError\u001b[0m                                Traceback (most recent call last)",
      "\u001b[0;32m<ipython-input-56-70caf16309f9>\u001b[0m in \u001b[0;36m<module>\u001b[0;34m\u001b[0m\n\u001b[1;32m      2\u001b[0m     \u001b[0mimage_path\u001b[0m \u001b[0;34m=\u001b[0m \u001b[0mConfig\u001b[0m\u001b[0;34m.\u001b[0m\u001b[0mtrain_location\u001b[0m \u001b[0;34m+\u001b[0m \u001b[0;34m\"/\"\u001b[0m \u001b[0;34m+\u001b[0m \u001b[0msample\u001b[0m \u001b[0;34m+\u001b[0m\u001b[0;34m\"-LH.jpg\"\u001b[0m\u001b[0;34m\u001b[0m\u001b[0;34m\u001b[0m\u001b[0m\n\u001b[1;32m      3\u001b[0m     \u001b[0md\u001b[0m \u001b[0;34m=\u001b[0m \u001b[0mImage\u001b[0m\u001b[0;34m.\u001b[0m\u001b[0mopen\u001b[0m\u001b[0;34m(\u001b[0m\u001b[0mstr\u001b[0m\u001b[0;34m(\u001b[0m\u001b[0mimage_path\u001b[0m\u001b[0;34m)\u001b[0m\u001b[0;34m)\u001b[0m\u001b[0;34m\u001b[0m\u001b[0;34m\u001b[0m\u001b[0m\n\u001b[0;32m----> 4\u001b[0;31m     \u001b[0mprint\u001b[0m\u001b[0;34m(\u001b[0m\u001b[0msample\u001b[0m\u001b[0;34m,\u001b[0m\u001b[0mnp\u001b[0m\u001b[0;34m.\u001b[0m\u001b[0masarray\u001b[0m\u001b[0;34m(\u001b[0m\u001b[0md\u001b[0m\u001b[0;34m)\u001b[0m\u001b[0;34m[\u001b[0m\u001b[0;34m:\u001b[0m\u001b[0;34m,\u001b[0m\u001b[0;34m:\u001b[0m\u001b[0;34m,\u001b[0m\u001b[0;36m0\u001b[0m\u001b[0;34m]\u001b[0m\u001b[0;34m.\u001b[0m\u001b[0mshape\u001b[0m\u001b[0;34m)\u001b[0m\u001b[0;34m\u001b[0m\u001b[0;34m\u001b[0m\u001b[0m\n\u001b[0m",
      "\u001b[0;31mIndexError\u001b[0m: too many indices for array"
     ]
    }
   ],
   "source": [
    "for sample in dataframes[\"LH\"][\"Patient_ID\"]:\n",
    "    image_path = Config.train_location + \"/\" + sample +\"-LH.jpg\"\n",
    "    d = Image.open(str(image_path))\n",
    "    print(sample,np.asarray(d)[:,:,0].shape)"
   ]
  },
  {
   "cell_type": "code",
   "execution_count": null,
   "metadata": {},
   "outputs": [],
   "source": []
  }
 ],
 "metadata": {
  "kernelspec": {
   "display_name": "Python 3",
   "language": "python",
   "name": "python3"
  },
  "language_info": {
   "codemirror_mode": {
    "name": "ipython",
    "version": 3
   },
   "file_extension": ".py",
   "mimetype": "text/x-python",
   "name": "python",
   "nbconvert_exporter": "python",
   "pygments_lexer": "ipython3",
   "version": "3.7.6"
  }
 },
 "nbformat": 4,
 "nbformat_minor": 4
}
