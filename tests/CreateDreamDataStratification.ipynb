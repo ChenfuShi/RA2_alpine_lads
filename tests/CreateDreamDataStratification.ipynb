{
 "cells": [
  {
   "cell_type": "code",
   "execution_count": 16,
   "metadata": {},
   "outputs": [],
   "source": [
    "import os\n",
    "\n",
    "PATH = '/home/stadlerm/Development/Projects/DreamChallenge/RA2_alpine_lads'\n",
    "\n",
    "os.chdir(PATH)"
   ]
  },
  {
   "cell_type": "code",
   "execution_count": 2,
   "metadata": {},
   "outputs": [],
   "source": [
    "from utils.config import Config\n",
    "\n",
    "config = Config()"
   ]
  },
  {
   "cell_type": "code",
   "execution_count": 119,
   "metadata": {},
   "outputs": [],
   "source": [
    "import os\n",
    "import pandas as pd\n",
    "\n",
    "training_csv = os.path.join(config.train_location, 'training.csv')\n",
    "\n",
    "training_data = pd.read_csv(training_csv)"
   ]
  },
  {
   "cell_type": "code",
   "execution_count": 198,
   "metadata": {},
   "outputs": [],
   "source": [
    "# Prepare outcome vector\n",
    "y = np.zeros((training_data.shape[0], 4))\n",
    "\n",
    "# Set the class of each sample for each outcome to the most rare outcome for this sample\n",
    "def add_y_classes(values, y_idx):\n",
    "    val, counts = np.unique(values, return_counts = True)\n",
    "    \n",
    "    sort_idx = np.argsort(counts)[::-1]\n",
    "    \n",
    "    for idx in sort_idx[1:]:\n",
    "        min_val_idx = np.where(values == val[idx])\n",
    "        min_val_idx = np.unique(min_val_idx[0])\n",
    "        \n",
    "        if(min_val_idx.size > 1):\n",
    "            y[min_val_idx, y_idx] = val[idx]"
   ]
  },
  {
   "cell_type": "code",
   "execution_count": 200,
   "metadata": {},
   "outputs": [],
   "source": [
    "# Regex for hand narrowing, erosion, and feet narrowing columns\n",
    "column_reg = ['.*H_.*_J.*', '.*H_.*_E.*', '.*F_.*_J.*']\n",
    "\n",
    "for idx, reg in enumerate(column_reg):\n",
    "    p = re.compile(reg)\n",
    "\n",
    "    column_idx = np.where([p.match(column) for column in training_data.columns])[0]\n",
    "    columns = training_data.columns[column_idx]\n",
    "    \n",
    "    add_y_classes(training_data[columns].to_numpy(), idx)\n",
    "\n",
    "# Process feet erosion differently because it goes from 0-10, and higher values are extremely rare (8-10)\n",
    "p = re.compile('.*F_.*_E.*')\n",
    "column_idx = np.where([p.match(column) for column in training_data.columns])[0]\n",
    "columns = training_data.columns[column_idx]\n",
    "\n",
    "values = np.round(training_data[columns] / 2)\n",
    "# Very few have 5, so add them to 4\n",
    "values[values == 5] = 4\n",
    "add_y_classes(values, 3)"
   ]
  },
  {
   "cell_type": "code",
   "execution_count": 202,
   "metadata": {},
   "outputs": [
    {
     "name": "stdout",
     "output_type": "stream",
     "text": [
      "(array([0., 1., 2., 3., 4.]), array([163,  22,  65,  37,  81]))\n",
      "(array([0., 1., 2., 3., 4., 5.]), array([145, 107,  45,  53,   4,  14]))\n",
      "(array([0., 1., 2., 3., 4.]), array([257,   7,  47,  28,  29]))\n",
      "(array([0., 1., 2., 3., 4.]), array([268,  66,  26,   4,   4]))\n"
     ]
    }
   ],
   "source": [
    "print(np.unique(y[:, 0], return_counts = True))\n",
    "print(np.unique(y[:, 1], return_counts = True))\n",
    "print(np.unique(y[:, 2], return_counts = True))\n",
    "print(np.unique(y[:, 3], return_counts = True))"
   ]
  },
  {
   "cell_type": "code",
   "execution_count": 203,
   "metadata": {},
   "outputs": [],
   "source": [
    "from sklearn.model_selection import train_test_split\n",
    "\n",
    "train_idx, test_idx = train_test_split(np.arange(training_data.shape[0]), test_size = 0.2, stratify = y[:, 3])"
   ]
  },
  {
   "cell_type": "code",
   "execution_count": 204,
   "metadata": {},
   "outputs": [
    {
     "name": "stdout",
     "output_type": "stream",
     "text": [
      "(array([0., 1., 2., 3., 4.]), array([130,  17,  52,  31,  64]))\n",
      "(array([0., 1., 2., 3., 4., 5.]), array([112,  91,  36,  42,   3,  10]))\n",
      "(array([0., 1., 2., 3., 4.]), array([202,   7,  38,  25,  22]))\n",
      "(array([0., 1., 2., 3., 4.]), array([214,  53,  21,   3,   3]))\n"
     ]
    }
   ],
   "source": [
    "print(np.unique(y[train_idx, 0], return_counts = True))\n",
    "print(np.unique(y[train_idx, 1], return_counts = True))\n",
    "print(np.unique(y[train_idx, 2], return_counts = True))\n",
    "print(np.unique(y[train_idx, 3], return_counts = True))"
   ]
  },
  {
   "cell_type": "code",
   "execution_count": 205,
   "metadata": {},
   "outputs": [
    {
     "name": "stdout",
     "output_type": "stream",
     "text": [
      "(array([0., 1., 2., 3., 4.]), array([33,  5, 13,  6, 17]))\n",
      "(array([0., 1., 2., 3., 4., 5.]), array([33, 16,  9, 11,  1,  4]))\n",
      "(array([0., 2., 3., 4.]), array([55,  9,  3,  7]))\n",
      "(array([0., 1., 2., 3., 4.]), array([54, 13,  5,  1,  1]))\n"
     ]
    }
   ],
   "source": [
    "print(np.unique(y[test_idx, 0], return_counts = True))\n",
    "print(np.unique(y[test_idx, 1], return_counts = True))\n",
    "print(np.unique(y[test_idx, 2], return_counts = True))\n",
    "print(np.unique(y[test_idx, 3], return_counts = True))"
   ]
  },
  {
   "cell_type": "code",
   "execution_count": 209,
   "metadata": {},
   "outputs": [],
   "source": [
    "train_patient_id = training_data.iloc[train_idx]['Patient_ID'].to_numpy()\n",
    "test_patient_id = training_data.iloc[test_idx]['Patient_ID'].to_numpy()"
   ]
  },
  {
   "cell_type": "code",
   "execution_count": 210,
   "metadata": {},
   "outputs": [
    {
     "name": "stdout",
     "output_type": "stream",
     "text": [
      "['UAB411' 'UAB084' 'UAB462' 'UAB058' 'UAB039' 'UAB711' 'UAB139' 'UAB722'\n",
      " 'UAB232' 'UAB179' 'UAB667' 'UAB562' 'UAB170' 'UAB135' 'UAB452' 'UAB379'\n",
      " 'UAB081' 'UAB127' 'UAB477' 'UAB126' 'UAB407' 'UAB571' 'UAB669' 'UAB374'\n",
      " 'UAB463' 'UAB124' 'UAB492' 'UAB106' 'UAB451' 'UAB035' 'UAB225' 'UAB099'\n",
      " 'UAB509' 'UAB107' 'UAB700' 'UAB075' 'UAB661' 'UAB231' 'UAB078' 'UAB503'\n",
      " 'UAB706' 'UAB490' 'UAB334' 'UAB694' 'UAB310' 'UAB216' 'UAB036' 'UAB018'\n",
      " 'UAB488' 'UAB630' 'UAB297' 'UAB267' 'UAB196' 'UAB687' 'UAB640' 'UAB200'\n",
      " 'UAB054' 'UAB022' 'UAB399' 'UAB405' 'UAB417' 'UAB199' 'UAB210' 'UAB609'\n",
      " 'UAB277' 'UAB701' 'UAB543' 'UAB504' 'UAB280' 'UAB654' 'UAB395' 'UAB521'\n",
      " 'UAB007' 'UAB337' 'UAB392' 'UAB345' 'UAB238' 'UAB319' 'UAB491' 'UAB071'\n",
      " 'UAB707' 'UAB032' 'UAB160' 'UAB057' 'UAB645' 'UAB538' 'UAB497' 'UAB680'\n",
      " 'UAB198' 'UAB065' 'UAB114' 'UAB163' 'UAB428' 'UAB168' 'UAB716' 'UAB195'\n",
      " 'UAB500' 'UAB487' 'UAB394' 'UAB108' 'UAB159' 'UAB651' 'UAB040' 'UAB080'\n",
      " 'UAB115' 'UAB145' 'UAB012' 'UAB393' 'UAB672' 'UAB172' 'UAB607' 'UAB101'\n",
      " 'UAB545' 'UAB440' 'UAB178' 'UAB252' 'UAB140' 'UAB453' 'UAB566' 'UAB614'\n",
      " 'UAB557' 'UAB692' 'UAB013' 'UAB064' 'UAB384' 'UAB648' 'UAB719' 'UAB443'\n",
      " 'UAB352' 'UAB628' 'UAB055' 'UAB326' 'UAB601' 'UAB383' 'UAB596' 'UAB288'\n",
      " 'UAB068' 'UAB066' 'UAB659' 'UAB335' 'UAB103' 'UAB042' 'UAB180' 'UAB549'\n",
      " 'UAB637' 'UAB161' 'UAB688' 'UAB678' 'UAB333' 'UAB539' 'UAB123' 'UAB458'\n",
      " 'UAB138' 'UAB227' 'UAB131' 'UAB301' 'UAB582' 'UAB165' 'UAB002' 'UAB535'\n",
      " 'UAB617' 'UAB317' 'UAB329' 'UAB286' 'UAB189' 'UAB113' 'UAB207' 'UAB564'\n",
      " 'UAB481' 'UAB192' 'UAB059' 'UAB602' 'UAB626' 'UAB023' 'UAB671' 'UAB703'\n",
      " 'UAB109' 'UAB234' 'UAB461' 'UAB486' 'UAB128' 'UAB496' 'UAB185' 'UAB271'\n",
      " 'UAB357' 'UAB028' 'UAB088' 'UAB576' 'UAB067' 'UAB098' 'UAB151' 'UAB389'\n",
      " 'UAB519' 'UAB531' 'UAB204' 'UAB585' 'UAB056' 'UAB347' 'UAB062' 'UAB502'\n",
      " 'UAB422' 'UAB130' 'UAB489' 'UAB495' 'UAB653' 'UAB364' 'UAB008' 'UAB708'\n",
      " 'UAB102' 'UAB136' 'UAB069' 'UAB143' 'UAB372' 'UAB111' 'UAB396' 'UAB560'\n",
      " 'UAB239' 'UAB090' 'UAB096' 'UAB552' 'UAB367' 'UAB246' 'UAB679' 'UAB388'\n",
      " 'UAB142' 'UAB003' 'UAB639' 'UAB184' 'UAB060' 'UAB141' 'UAB122' 'UAB110'\n",
      " 'UAB087' 'UAB031' 'UAB420' 'UAB506' 'UAB093' 'UAB511' 'UAB268' 'UAB537'\n",
      " 'UAB720' 'UAB620' 'UAB563' 'UAB323' 'UAB494' 'UAB208' 'UAB049' 'UAB217'\n",
      " 'UAB398' 'UAB475' 'UAB052' 'UAB406' 'UAB144' 'UAB182' 'UAB551' 'UAB197'\n",
      " 'UAB190' 'UAB586' 'UAB005' 'UAB272' 'UAB183' 'UAB219' 'UAB009' 'UAB550'\n",
      " 'UAB704' 'UAB264' 'UAB001' 'UAB524' 'UAB363' 'UAB702' 'UAB191' 'UAB331'\n",
      " 'UAB403' 'UAB021' 'UAB343' 'UAB223' 'UAB665' 'UAB581' 'UAB045' 'UAB079'\n",
      " 'UAB577' 'UAB572' 'UAB532' 'UAB051' 'UAB482' 'UAB085' 'UAB024' 'UAB580'\n",
      " 'UAB167' 'UAB086' 'UAB278' 'UAB119' 'UAB567' 'UAB176']\n"
     ]
    }
   ],
   "source": [
    "print(train_patient_id)"
   ]
  },
  {
   "cell_type": "code",
   "execution_count": 211,
   "metadata": {},
   "outputs": [
    {
     "name": "stdout",
     "output_type": "stream",
     "text": [
      "['UAB597' 'UAB642' 'UAB573' 'UAB698' 'UAB717' 'UAB129' 'UAB030' 'UAB697'\n",
      " 'UAB449' 'UAB307' 'UAB212' 'UAB342' 'UAB125' 'UAB427' 'UAB104' 'UAB133'\n",
      " 'UAB413' 'UAB348' 'UAB100' 'UAB360' 'UAB499' 'UAB318' 'UAB595' 'UAB229'\n",
      " 'UAB260' 'UAB574' 'UAB171' 'UAB472' 'UAB050' 'UAB070' 'UAB666' 'UAB061'\n",
      " 'UAB675' 'UAB105' 'UAB592' 'UAB300' 'UAB251' 'UAB302' 'UAB177' 'UAB530'\n",
      " 'UAB162' 'UAB501' 'UAB006' 'UAB181' 'UAB366' 'UAB046' 'UAB236' 'UAB522'\n",
      " 'UAB569' 'UAB166' 'UAB625' 'UAB622' 'UAB683' 'UAB649' 'UAB041' 'UAB508'\n",
      " 'UAB037' 'UAB063' 'UAB228' 'UAB536' 'UAB224' 'UAB464' 'UAB233' 'UAB690'\n",
      " 'UAB270' 'UAB517' 'UAB243' 'UAB244' 'UAB634' 'UAB441' 'UAB033' 'UAB150'\n",
      " 'UAB205' 'UAB436']\n"
     ]
    }
   ],
   "source": [
    "print(test_patient_id)"
   ]
  },
  {
   "cell_type": "code",
   "execution_count": 212,
   "metadata": {},
   "outputs": [],
   "source": [
    "hands_dataframe = pd.read_csv('./data/hand_joint_data.csv')\n",
    "feet_dataframe = pd.read_csv('./data/feet_joint_data.csv')"
   ]
  },
  {
   "cell_type": "code",
   "execution_count": 218,
   "metadata": {},
   "outputs": [],
   "source": [
    "hand_idx = [image_name.split('-')[0] in test_patient_id for image_name in hands_dataframe['image_name']]\n",
    "feet_idx = [image_name.split('-')[0] in test_patient_id for image_name in feet_dataframe['image_name']]"
   ]
  },
  {
   "cell_type": "code",
   "execution_count": 222,
   "metadata": {},
   "outputs": [],
   "source": [
    "hands_dataframe.iloc[np.where(np.logical_not(hand_idx))[0]].to_csv('./data/hand_joint_data_train.csv')\n",
    "feet_dataframe.iloc[np.where(np.logical_not(feet_idx))[0]].to_csv('./data/feet_joint_data_train.csv')\n",
    "\n",
    "hands_dataframe.iloc[np.where(hand_idx)[0]].to_csv('./data/hand_joint_data_test.csv')\n",
    "feet_dataframe.iloc[np.where(feet_idx)[0]].to_csv('./data/feet_joint_data_test.csv')"
   ]
  },
  {
   "cell_type": "code",
   "execution_count": null,
   "metadata": {},
   "outputs": [],
   "source": [
    " "
   ]
  }
 ],
 "metadata": {
  "kernelspec": {
   "display_name": "Python 3",
   "language": "python",
   "name": "python3"
  },
  "language_info": {
   "codemirror_mode": {
    "name": "ipython",
    "version": 3
   },
   "file_extension": ".py",
   "mimetype": "text/x-python",
   "name": "python",
   "nbconvert_exporter": "python",
   "pygments_lexer": "ipython3",
   "version": "3.7.3"
  }
 },
 "nbformat": 4,
 "nbformat_minor": 4
}
