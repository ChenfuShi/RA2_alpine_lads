{
 "cells": [
  {
   "cell_type": "code",
   "execution_count": null,
   "metadata": {},
   "outputs": [],
   "source": []
  },
  {
   "cell_type": "code",
   "execution_count": 1,
   "metadata": {},
   "outputs": [],
   "source": [
    "import os\n",
    "os.chdir('/mnt/jw01-aruk-home01/projects/psa_functional_genomics/RA_challenge/RA2_alpine_lads')"
   ]
  },
  {
   "cell_type": "code",
   "execution_count": 2,
   "metadata": {},
   "outputs": [],
   "source": [
    "import pandas as pd\n",
    "import numpy as np\n",
    "import matplotlib.pyplot as plt\n",
    "from tensorflow import keras \n",
    "import os\n",
    "import tensorflow as tf\n",
    "import tensorflow_addons as tfa\n",
    "from utils.config import Config\n",
    "import dataset.train_dataset as dtd\n",
    "import PIL\n",
    "import PIL.ImageOps\n",
    "from tensorflow.keras.utils import plot_model\n",
    "test_config = Config()\n",
    "from tensorflow.keras.models import load_model\n",
    "from model import NASnet_multioutput\n",
    "import itertools\n",
    "import seaborn as sns"
   ]
  },
  {
   "cell_type": "code",
   "execution_count": 3,
   "metadata": {},
   "outputs": [
    {
     "name": "stderr",
     "output_type": "stream",
     "text": [
      "WARNING - Missing permissions to create directory for caching!\n",
      "WARNING - Missing permissions to create directory for caching!\n"
     ]
    }
   ],
   "source": [
    "from dataset.train_dataset import train_dataset\n",
    "\n",
    "dataset = train_dataset(test_config)\n",
    "\n",
    "hands_dataset, feet_dataset, hands_dataset_val, feet_dataset_val = dataset.initialize_pipeline()"
   ]
  },
  {
   "cell_type": "code",
   "execution_count": 4,
   "metadata": {},
   "outputs": [
    {
     "data": {
      "text/plain": [
       "<tensorflow.python.training.tracking.util.CheckpointLoadStatus at 0x7f2fe66d8358>"
      ]
     },
     "execution_count": 4,
     "metadata": {},
     "output_type": "execute_result"
    }
   ],
   "source": [
    "model = NASnet_multioutput.create_NASnet_multioutupt(test_config)\n",
    "model.load_weights(\"weights/NIH_chest_NASnet_model_275_step2\")"
   ]
  },
  {
   "cell_type": "code",
   "execution_count": 5,
   "metadata": {},
   "outputs": [],
   "source": [
    "new_model = keras.models.Sequential()\n",
    "new_model.add(model.layers[0])\n",
    "new_model.add(model.layers[1])\n",
    "new_model.add(model.layers[2])\n",
    "new_model.add(keras.layers.Dense(13,activation=\"linear\",name=\"State\"))\n",
    "for layer in new_model.layers[:-1]:\n",
    "    layer.trainable = False\n",
    "new_model.compile(optimizer='adam',loss=\"mean_squared_error\",metrics=[\"mae\"])"
   ]
  },
  {
   "cell_type": "code",
   "execution_count": 6,
   "metadata": {},
   "outputs": [
    {
     "name": "stdout",
     "output_type": "stream",
     "text": [
      "Model: \"sequential\"\n",
      "_________________________________________________________________\n",
      "Layer (type)                 Output Shape              Param #   \n",
      "=================================================================\n",
      "NASNet (Model)               (None, 16, 12, 1056)      4269140   \n",
      "_________________________________________________________________\n",
      "global_average_pooling2d (Gl (None, 1056)              0         \n",
      "_________________________________________________________________\n",
      "State (Dense)                (None, 13)                13741     \n",
      "=================================================================\n",
      "Total params: 4,282,881\n",
      "Trainable params: 13,741\n",
      "Non-trainable params: 4,269,140\n",
      "_________________________________________________________________\n"
     ]
    }
   ],
   "source": [
    "new_model.summary()"
   ]
  },
  {
   "cell_type": "code",
   "execution_count": null,
   "metadata": {},
   "outputs": [
    {
     "name": "stdout",
     "output_type": "stream",
     "text": [
      "Train for 50 steps, validate for 2 steps\n",
      "Epoch 1/10\n",
      "50/50 [==============================] - 88s 2s/step - loss: 4.2286 - mae: 0.6633 - val_loss: 8.4370 - val_mae: 0.8074\n",
      "Epoch 2/10\n",
      "50/50 [==============================] - 70s 1s/step - loss: 3.6354 - mae: 0.6423 - val_loss: 8.6933 - val_mae: 0.7892\n",
      "Epoch 3/10\n",
      "50/50 [==============================] - 70s 1s/step - loss: 4.0774 - mae: 0.6827 - val_loss: 8.7951 - val_mae: 0.8151\n",
      "Epoch 4/10\n",
      "50/50 [==============================] - 72s 1s/step - loss: 3.9636 - mae: 0.6619 - val_loss: 8.9545 - val_mae: 0.8505\n",
      "Epoch 5/10\n",
      "34/50 [===================>..........] - ETA: 21s - loss: 3.9929 - mae: 0.6719"
     ]
    }
   ],
   "source": [
    "history = new_model.fit(\n",
    "    feet_dataset,validation_data=feet_dataset_val,epochs=10, steps_per_epoch=50,\n",
    "    validation_steps=2\n",
    ")"
   ]
  },
  {
   "cell_type": "code",
   "execution_count": null,
   "metadata": {},
   "outputs": [],
   "source": []
  },
  {
   "cell_type": "code",
   "execution_count": null,
   "metadata": {},
   "outputs": [],
   "source": [
    "for image, label in feet_dataset_val.take(5):\n",
    "    N = image.shape[0]\n",
    "    D = label.shape[1]\n",
    "    \n",
    "    error = np.zeros((N, D))\n",
    "    \n",
    "    for n in range(N):\n",
    "        y_pred = model.predict(np.array(image[n]).reshape(1,test_config.img_height,test_config.img_width,1))\n",
    "        y = label[n]\n",
    "        \n",
    "        \n",
    "        E[n, :] = np.square(y_pred - y)\n",
    "        \n",
    "    rmse = np.sqrt(np.mean(E, axis = 0))\n",
    "        \n",
    "    print(\"Batch RMSE: \", rmse)"
   ]
  }
 ],
 "metadata": {
  "kernelspec": {
   "display_name": "Python 3",
   "language": "python",
   "name": "python3"
  },
  "language_info": {
   "codemirror_mode": {
    "name": "ipython",
    "version": 3
   },
   "file_extension": ".py",
   "mimetype": "text/x-python",
   "name": "python",
   "nbconvert_exporter": "python",
   "pygments_lexer": "ipython3",
   "version": "3.7.3"
  }
 },
 "nbformat": 4,
 "nbformat_minor": 4
}
